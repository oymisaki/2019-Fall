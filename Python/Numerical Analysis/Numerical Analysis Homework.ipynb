{
 "cells": [
  {
   "cell_type": "code",
   "execution_count": 28,
   "metadata": {},
   "outputs": [
    {
     "name": "stdout",
     "output_type": "stream",
     "text": [
      "Experimental Epsilon:  0.1\n",
      "Condtion Number:  53.64911064067347\n",
      "Error Bounds:  2.3162277660168358\n",
      "Relative Error for Each Components:  [6.661338147750939e-16, -1.4432899320127035e-15]\n",
      "Relative Error 2 Norm:  8.434885308527627e-16\n",
      "Solution is:  [1.         0.31622777]\n",
      "Experimental Epsilon:  0.010000000000000002\n",
      "Condtion Number:  441.00000000000455\n",
      "Error Bounds:  2.100000000000022\n",
      "Relative Error for Each Components:  [1.1102230246251565e-14, -9.992007221626409e-14]\n",
      "Relative Error 2 Norm:  1.9176579516252703e-14\n",
      "Solution is:  [1.  0.1]\n",
      "Experimental Epsilon:  0.0009999999999999998\n",
      "Condtion Number:  4127.49110640719\n",
      "Error Bounds:  2.0316227766019073\n",
      "Relative Error for Each Components:  [-5.773159728050814e-14, 1.7703616350672746e-12]\n",
      "Relative Error 2 Norm:  1.1022885096800997e-13\n",
      "Solution is:  [1.         0.03162278]\n",
      "Experimental Epsilon:  0.0001\n",
      "Condtion Number:  40401.00000000444\n",
      "Error Bounds:  2.010000000000221\n",
      "Relative Error for Each Components:  [-2.915445662665661e-13, 2.886579864025407e-11]\n",
      "Relative Error 2 Norm:  5.744579729397097e-13\n",
      "Solution is:  [1.   0.01]\n",
      "Experimental Epsilon:  1e-05\n",
      "Condtion Number:  401265.9110614385\n",
      "Error Bounds:  2.003162277647045\n",
      "Relative Error for Each Components:  [-1.7664758544810866e-12, 5.56842127963364e-10]\n",
      "Relative Error 2 Norm:  3.516246119138454e-12\n",
      "Solution is:  [1.         0.00316228]\n",
      "Experimental Epsilon:  1e-06\n",
      "Condtion Number:  4004000.999440328\n",
      "Error Bounds:  2.000999999720304\n",
      "Relative Error for Each Components:  [2.845013113983441e-11, -2.8421709430404007e-08]\n",
      "Relative Error 2 Norm:  5.681502554469373e-11\n",
      "Solution is:  [1.00000000e+00 9.99999972e-04]\n",
      "Experimental Epsilon:  1.0000000000000001e-07\n",
      "Condtion Number:  40012650.17612454\n",
      "Error Bounds:  2.000316231039693\n",
      "Relative Error for Each Components:  [-3.893969591217683e-10, 1.2309916883612715e-06]\n",
      "Relative Error 2 Norm:  7.78424551244425e-10\n",
      "Solution is:  [1.00000000e+00 3.16228155e-04]\n",
      "Experimental Epsilon:  1e-08\n",
      "Condtion Number:  400039998.9898952\n",
      "Error Bounds:  2.0000999899499785\n",
      "Relative Error for Each Components:  [-8.890444713749446e-09, 8.889555713498254e-05]\n",
      "Relative Error 2 Norm:  1.7778222604993445e-08\n",
      "Solution is:  [9.99999991e-01 1.00008890e-04]\n",
      "Experimental Epsilon:  1e-09\n",
      "Condtion Number:  4000126605.2377133\n",
      "Error Bounds:  2.000031679341361\n",
      "Relative Error for Each Components:  [-1.2960689910190837e-07, 0.004098400410778469]\n",
      "Relative Error 2 Norm:  2.592015030449828e-07\n",
      "Solution is:  [9.99999870e-01 3.17523794e-05]\n",
      "Experimental Epsilon:  1.0000000000000002e-10\n",
      "Condtion Number:  40000441100.75937\n",
      "Error Bounds:  2.000012054977694\n",
      "Relative Error for Each Components:  [1.1182178591973013e-06, -0.11182066771101762]\n",
      "Relative Error 2 Norm:  2.2364021722857547e-06\n",
      "Solution is:  [1.00000112e+00 8.88179332e-06]\n",
      "Experimental Epsilon:  1e-11\n",
      "Condtion Number:  400001231815.81366\n",
      "Error Bounds:  2.0000029967966695\n",
      "Relative Error for Each Components:  [3.1622876601744565e-06, -1.0]\n",
      "Relative Error 2 Norm:  6.324545320374458e-06\n",
      "Solution is:  [1.00000316 0.        ]\n"
     ]
    }
   ],
   "source": [
    "import numpy as np\n",
    "\n",
    "def experiment(epsilon):\n",
    "    M = [[1.0, 1.0+epsilon],\n",
    "        [1.0-epsilon, 1.0]]\n",
    "    \n",
    "    b = [1.0+(1.0+epsilon)*epsilon, 1.0]\n",
    "    \n",
    "    db = [epsilon * epsilon, 0]\n",
    "    cond = np.linalg.cond(M, p=1)\n",
    "    sol = np.linalg.solve(M, b)\n",
    "    \n",
    "    print(\"Experimental Epsilon: \", epsilon ** 2)\n",
    "    print(\"Condtion Number: \", cond)\n",
    "    print(\"Error Bounds: \", cond * np.linalg.norm(db, ord=1) / np.linalg.norm(M, ord=1))\n",
    "    print(\"Relative Error for Each Components: \", [sol[0] - 1, sol[1]/epsilon - 1 ])\n",
    "    print(\"Relative Error 2 Norm: \", np.linalg.norm(sol-[1, epsilon], ord=1) / np.linalg.norm([1, epsilon], ord=1))\n",
    "    print(\"Solution is: \", sol)\n",
    "\n",
    "experiment(0.1 ** 0.5)\n",
    "experiment(0.01 ** 0.5)\n",
    "experiment(0.001 ** 0.5)\n",
    "experiment(0.0001 ** 0.5)\n",
    "experiment(0.00001 ** 0.5)\n",
    "experiment(0.000001 ** 0.5)\n",
    "experiment(0.0000001 ** 0.5)\n",
    "experiment(0.00000001 ** 0.5)\n",
    "experiment(0.000000001 ** 0.5)\n",
    "experiment(0.0000000001 ** 0.5)\n",
    "experiment(0.00000000001 ** 0.5)"
   ]
  },
  {
   "cell_type": "code",
   "execution_count": 11,
   "metadata": {},
   "outputs": [
    {
     "data": {
      "text/plain": [
       "array([3., 1., 2.])"
      ]
     },
     "execution_count": 11,
     "metadata": {},
     "output_type": "execute_result"
    }
   ],
   "source": [
    "M = [[5, -3 , 1],\n",
    "    [2, 3, 3],\n",
    "    [3, 2, -4]]\n",
    "b = [14, 15, 3]\n",
    "np.linalg.solve(M, b)"
   ]
  }
 ],
 "metadata": {
  "kernelspec": {
   "display_name": "Python 3",
   "language": "python",
   "name": "python3"
  },
  "language_info": {
   "codemirror_mode": {
    "name": "ipython",
    "version": 3
   },
   "file_extension": ".py",
   "mimetype": "text/x-python",
   "name": "python",
   "nbconvert_exporter": "python",
   "pygments_lexer": "ipython3",
   "version": "3.6.8"
  }
 },
 "nbformat": 4,
 "nbformat_minor": 4
}

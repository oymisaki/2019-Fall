{
 "cells": [
  {
   "cell_type": "code",
   "execution_count": 2,
   "metadata": {},
   "outputs": [
    {
     "data": {
      "text/plain": [
       "False"
      ]
     },
     "execution_count": 2,
     "metadata": {},
     "output_type": "execute_result"
    }
   ],
   "source": [
    "[1, 2] == [0, 2]"
   ]
  },
  {
   "cell_type": "code",
   "execution_count": 6,
   "metadata": {},
   "outputs": [
    {
     "data": {
      "text/plain": [
       "array([1, 4])"
      ]
     },
     "execution_count": 6,
     "metadata": {},
     "output_type": "execute_result"
    }
   ],
   "source": [
    "np.array([1, 2]) + [0, 2]"
   ]
  },
  {
   "cell_type": "code",
   "execution_count": 9,
   "metadata": {},
   "outputs": [
    {
     "data": {
      "text/plain": [
       "array([-1, -2])"
      ]
     },
     "execution_count": 9,
     "metadata": {},
     "output_type": "execute_result"
    }
   ],
   "source": [
    "- np.array([1, 2])"
   ]
  },
  {
   "cell_type": "code",
   "execution_count": 12,
   "metadata": {},
   "outputs": [
    {
     "data": {
      "text/plain": [
       "array([ True,  True])"
      ]
     },
     "execution_count": 12,
     "metadata": {},
     "output_type": "execute_result"
    }
   ],
   "source": [
    "np.array([1, 2]) == np.array([1, 2])"
   ]
  },
  {
   "cell_type": "code",
   "execution_count": 15,
   "metadata": {},
   "outputs": [
    {
     "data": {
      "text/plain": [
       "array([1, 4])"
      ]
     },
     "execution_count": 15,
     "metadata": {},
     "output_type": "execute_result"
    }
   ],
   "source": [
    "np.array([1, 2]) * np.array([1, 2])"
   ]
  },
  {
   "cell_type": "code",
   "execution_count": 19,
   "metadata": {},
   "outputs": [
    {
     "data": {
      "text/plain": [
       "matrix([[3]])"
      ]
     },
     "execution_count": 19,
     "metadata": {},
     "output_type": "execute_result"
    }
   ],
   "source": [
    "np.matrix([1, 1]) * np.matrix([1, 2]).reshape((2, 1))"
   ]
  },
  {
   "cell_type": "code",
   "execution_count": 19,
   "metadata": {},
   "outputs": [
    {
     "data": {
      "text/plain": [
       "array([[0.],\n",
       "       [0.]])"
      ]
     },
     "execution_count": 19,
     "metadata": {},
     "output_type": "execute_result"
    }
   ],
   "source": [
    "np.zeros(np.matrix([1, 1]).T.shape)"
   ]
  },
  {
   "cell_type": "code",
   "execution_count": 21,
   "metadata": {},
   "outputs": [
    {
     "data": {
      "text/plain": [
       "array([[1., 0.],\n",
       "       [0., 1.]])"
      ]
     },
     "execution_count": 21,
     "metadata": {},
     "output_type": "execute_result"
    }
   ],
   "source": [
    "np.identity(2)"
   ]
  },
  {
   "cell_type": "code",
   "execution_count": 1,
   "metadata": {},
   "outputs": [],
   "source": [
    "import numpy as np\n",
    "import math"
   ]
  },
  {
   "cell_type": "code",
   "execution_count": 21,
   "metadata": {},
   "outputs": [
    {
     "data": {
      "text/plain": [
       "[[-4.256, 14.699999999999998], [0.83949889738304, 0.5996420695593143]]"
      ]
     },
     "execution_count": 21,
     "metadata": {},
     "output_type": "execute_result"
    }
   ],
   "source": [
    "def Jacobian(x : list):\n",
    "    return [[x[1] ** 3 - 7, 3 * (x[0] + 3) * (x[1] ** 2)], \n",
    "            [math.cos(x[1] * math.exp(x[0]) - 1) * x[1] * math.exp(x[0]), \n",
    "            math.cos(x[1] * math.exp(x[0]) - 1) * math.exp(x[0])]]\n",
    "    \n",
    "Jacobian([-0.5, 1.4])"
   ]
  },
  {
   "cell_type": "code",
   "execution_count": 15,
   "metadata": {},
   "outputs": [
    {
     "name": "stdout",
     "output_type": "stream",
     "text": [
      "Error:  [-0.05531514  0.02806658]\n",
      "Error:  [-0.00014035  0.0001574 ]\n",
      "Error:  [-1.77907770e-08  5.55138535e-09]\n",
      "Error:  [1.18056312e-16 0.00000000e+00]\n",
      "Error:  [-1.51704507e-17 -1.11022302e-16]\n",
      "Error:  [ 5.14429307e-17 -1.11022302e-16]\n",
      "Error:  [ 1.18056312e-16 -1.11022302e-16]\n"
     ]
    }
   ],
   "source": [
    "def NewtonMethod():\n",
    "    def Jacobian(x : list):\n",
    "        return [[x[1] ** 3 - 7, 3 * (x[0] + 3) * (x[1] ** 2)], \n",
    "                [math.cos(x[1] * math.exp(x[0]) - 1) * x[1] * math.exp(x[0]), \n",
    "                math.cos(x[1] * math.exp(x[0]) - 1) * math.exp(x[0])]]\n",
    "    \n",
    "    def f(x : list):\n",
    "        return np.array([(x[0] + 3) * (x[1] ** 3  - 7) + 18, math.sin(x[1] * math.exp(x[0]) - 1)])\n",
    "    \n",
    "    \n",
    "    x1 = np.array([-0.5, 1.4])\n",
    "    x0 = np.array([0, 0])\n",
    "    while(not (f(x1) == [0, 0]).all()):\n",
    "        x0 = x1\n",
    "        sol = np.linalg.solve(Jacobian(x0), -f(x0))\n",
    "        x1 = x0 + sol\n",
    "        print(\"Error: \", x1 - [0, 1])\n",
    "    \n",
    "\n",
    "NewtonMethod()\n",
    "        \n",
    "        "
   ]
  },
  {
   "cell_type": "code",
   "execution_count": 16,
   "metadata": {},
   "outputs": [
    {
     "name": "stdout",
     "output_type": "stream",
     "text": [
      "Error:  [-0.05531514  0.02806658]\n",
      "Error:  [0.00050995 0.00012364]\n",
      "Error:  [-2.33847864e-04  7.65608693e-05]\n",
      "Error:  [-4.08262210e-05  1.35978908e-05]\n",
      "Error:  [-1.32750896e-07  4.53383611e-08]\n",
      "Error:  [-5.39120623e-10  1.80663262e-10]\n",
      "Error:  [ 1.66791236e-12 -5.57109914e-13]\n",
      "Error:  [-1.08051128e-15  4.44089210e-16]\n",
      "Error:  [-5.52378292e-18  0.00000000e+00]\n"
     ]
    }
   ],
   "source": [
    "def BroydenMethod(): \n",
    "    def f(x : list):\n",
    "        return np.array([(x[0] + 3) * (x[1] ** 3  - 7) + 18, math.sin(x[1] * math.exp(x[0]) - 1)])\n",
    "    \n",
    "    B0 = np.matrix([[-4.256, 14.699999999999998], [0.83949889738304, 0.5996420695593143]])\n",
    "    x1 = np.array([-0.5, 1.4])\n",
    "    x0 = np.array([0, 0])\n",
    "    while(not (f(x1) == [0, 0]).all()):\n",
    "        x0 = x1\n",
    "        sol = np.linalg.solve(B0, -f(x0))\n",
    "        x1 = x0 + sol\n",
    "        yk = np.matrix(f(x1) -  f(x0)).reshape((2, 1))\n",
    "        denominator = (yk - B0 * np.matrix(sol).reshape((2, 1))) * np.matrix(sol).reshape((1, 2))\n",
    "        B0 = B0 + denominator/sum(sol * sol)\n",
    "        print(\"Error: \", x1 - [0, 1])\n",
    "\n",
    "BroydenMethod()"
   ]
  },
  {
   "cell_type": "code",
   "execution_count": 7,
   "metadata": {},
   "outputs": [
    {
     "data": {
      "text/plain": [
       "array([-0.57735027,  0.57735027,  1.        ,  1.        ])"
      ]
     },
     "execution_count": 7,
     "metadata": {},
     "output_type": "execute_result"
    }
   ],
   "source": [
    "def NewtonMethod(x1):\n",
    "    def Jacobian(x : list):\n",
    "        return [[0, 0, 1, 1], \n",
    "                [x[2], x[3], x[0], x[1]],\n",
    "                [2 * x[2] * x[0], 2 * x[3] * x[1], x[0] ** 2, x[1] ** 2],\n",
    "                [3 * x[2] * x[0] ** 2, 3 * x[3] * x[1] ** 2 , x[0] ** 3, x[1] ** 3 ]]\n",
    "    \n",
    "    def f(x : list):\n",
    "        return np.array([x[2] + x[3]- 2,\n",
    "                        x[2] * x[0] + x[3] * x[1],\n",
    "                        x[2] * (x[0] ** 2) + x[3] * (x[1] ** 2) - 2.0/3,\n",
    "                        x[2] * (x[0] ** 3) + x[3] * (x[1] ** 3)])\n",
    "    \n",
    "    x0 = np.array([float('inf'), 0, 0, 0])\n",
    "    inum = 0\n",
    "    while(inum <= 50 and not (x1 == x0).all()):\n",
    "        inum += 1\n",
    "        x0 = x1\n",
    "        sol = np.linalg.solve(Jacobian(x0), -f(x0))\n",
    "        x1 = x0 + sol\n",
    "    return x1\n",
    "\n",
    "NewtonMethod([-2, 1, 3, -1])"
   ]
  },
  {
   "cell_type": "code",
   "execution_count": 6,
   "metadata": {},
   "outputs": [
    {
     "data": {
      "text/plain": [
       "array([-0.57735027,  0.57735027,  1.        ,  1.        ])"
      ]
     },
     "execution_count": 6,
     "metadata": {},
     "output_type": "execute_result"
    }
   ],
   "source": [
    "NewtonMethod([-5, -4, -5, -4])"
   ]
  },
  {
   "cell_type": "code",
   "execution_count": null,
   "metadata": {},
   "outputs": [],
   "source": [
    "def f(x : list):\n",
    "    return np.array([x[2] + x[3]- 2,\n",
    "                    x[2] * x[0] + x[3] * x[1],\n",
    "                    x[2] * (x[0] ** 2) + x[3] * (x[1] ** 2) - 2.0/3,\n",
    "                    x[2] * (x[0] ** 3) + x[3] * (x[1] ** 3)])\n",
    "solSet = set()\n",
    "for x1 in range(-10, 10):\n",
    "    for x2 in range(-10, 10):\n",
    "        for w1 in range(-10, 10):\n",
    "            for w2 in range(-10, 10):\n",
    "                try:\n",
    "                    sol = NewtonMethod([x1,x2,w1,w2])\n",
    "                    if str(sol) not in solSet:\n",
    "                        solSet.add(str(sol))\n",
    "                        if max(np.abs(f(sol))) < 0.001:\n",
    "                            print([x1,x2,w1,w2], \": \", sol, \" \", f(sol))\n",
    "                except:\n",
    "                    pass"
   ]
  },
  {
   "cell_type": "code",
   "execution_count": null,
   "metadata": {},
   "outputs": [],
   "source": [
    "import numpy as np\n",
    "\n",
    "def experiment(epsilon):\n",
    "    M = [[1.0, 1.0+epsilon],\n",
    "        [1.0-epsilon, 1.0]]\n",
    "    \n",
    "    b = [1.0+(1.0+epsilon)*epsilon, 1.0]\n",
    "    \n",
    "    db = [epsilon * epsilon, 0]\n",
    "    cond = np.linalg.cond(M, p=1)\n",
    "    sol = np.linalg.solve(M, b)\n",
    "    \n",
    "    print(\"Experimental Epsilon: \", epsilon ** 2)\n",
    "    print(\"Condtion Number: \", cond)\n",
    "    print(\"Error Bounds: \", cond * np.linalg.norm(db, ord=1) / np.linalg.norm(M, ord=1))\n",
    "    print(\"Relative Error for Each Components: \", [sol[0] - 1, sol[1]/epsilon - 1 ])\n",
    "    print(\"Relative Error 2 Norm: \", np.linalg.norm(sol-[1, epsilon], ord=1) / np.linalg.norm([1, epsilon], ord=1))\n",
    "    print(\"Solution is: \", sol)\n"
   ]
  },
  {
   "cell_type": "code",
   "execution_count": 13,
   "metadata": {},
   "outputs": [
    {
     "name": "stdout",
     "output_type": "stream",
     "text": [
      "Iteration 1:  0.0030380622837370246\n",
      "Iteration 2:  0.0020129586571042014\n",
      "Iteration 3:  0.002661291479174702\n",
      "Iteration 4:  0.005330459229441489\n",
      "Iteration 5:  0.010325699176414587\n",
      "Iteration 6:  0.01936704424126874\n",
      "Iteration 7:  0.03408170603682596\n",
      "Iteration 8:  0.052869732298736566\n",
      "Iteration 9:  0.06408073280728241\n",
      "Iteration 10:  0.04843238573234504\n",
      "Iteration 11:  0.015346610324523613\n",
      "Iteration 12:  0.0010443710512427762\n",
      "Iteration 13:  4.290037178333872e-06\n",
      "Iteration 14:  7.180178673849014e-11\n"
     ]
    },
    {
     "data": {
      "text/plain": [
       "matrix([[-0.25423729, -0.17457627, -0.01525424,  0.1440678 ],\n",
       "        [-0.09745763, -0.06525424, -0.00084746,  0.06355932],\n",
       "        [ 0.05932203,  0.0440678 ,  0.01355932, -0.01694915],\n",
       "        [ 0.21610169,  0.15338983,  0.0279661 , -0.09745763]])"
      ]
     },
     "execution_count": 13,
     "metadata": {},
     "output_type": "execute_result"
    }
   ],
   "source": [
    "def inverse(A : np.matrix):\n",
    "    A1 = A.T / (np.linalg.norm(A, ord = 1) * np.linalg.norm(A, ord = np.inf))\n",
    "    A0 = np.zeros(A.shape)\n",
    "    I = np.identity(A.shape[0])\n",
    "    inum = 0\n",
    "    while (inum <= 50 and not np.max(np.abs((A1 - A0))) < 1e-10):\n",
    "        inum += 1\n",
    "        A0 = A1\n",
    "        A1 = A0 + A0 * (I - A * A0)\n",
    "        print(\"Iteration {}: \".format(inum), np.max(np.abs((A1 - A0))))\n",
    "    \n",
    "    return A1\n",
    "\n",
    "\n",
    "A = np.matrix([[1, 2, 3, 4], [3, 4, 5, 6], [7, 8, 9, 10], [11, 12, 13, 14]])\n",
    "inverse(A)"
   ]
  },
  {
   "cell_type": "code",
   "execution_count": 67,
   "metadata": {},
   "outputs": [
    {
     "data": {
      "text/plain": [
       "1.0000000000000002"
      ]
     },
     "execution_count": 67,
     "metadata": {},
     "output_type": "execute_result"
    }
   ],
   "source": [
    "def f(x):\n",
    "    return x ** 0.5 - 1\n",
    "\n",
    "def n(x0, x1):\n",
    "    return (x0 - x1) * f(x1) / (f(x1) - f(x0))\n",
    "\n",
    "n(1.2, 1.000000000000001)\n",
    "1.00000000000001 + n(1.2, 1.00000000000001)\n",
    "n(1.000000000000004, 1.00000000000001) + 1.00000000000001\n",
    "n(1.00000000000001, 0.9999999999999999) + 0.9999999999999999\n",
    "n(0.9999999999999999, 1.0000000000000002) + 1.0000000000000002"
   ]
  },
  {
   "cell_type": "code",
   "execution_count": 70,
   "metadata": {},
   "outputs": [
    {
     "data": {
      "text/plain": [
       "1.0000000000000002"
      ]
     },
     "execution_count": 70,
     "metadata": {},
     "output_type": "execute_result"
    }
   ],
   "source": [
    "def f(x):\n",
    "    return x ** 0.5 - 1\n",
    "\n",
    "def n(x0, x1):\n",
    "    return (x0 * f(x1) - x1*f(x0) )/ (f(x1) - f(x0))\n",
    "            \n",
    "n(1.2, 1.000000000000001)\n",
    "n(1.000000000000001, 1.0000000000000002)"
   ]
  },
  {
   "cell_type": "code",
   "execution_count": 101,
   "metadata": {},
   "outputs": [
    {
     "data": {
      "text/plain": [
       "8.98846567431158e+307"
      ]
     },
     "execution_count": 101,
     "metadata": {},
     "output_type": "execute_result"
    }
   ],
   "source": [
    "2.0 ** 1023"
   ]
  },
  {
   "cell_type": "code",
   "execution_count": 106,
   "metadata": {},
   "outputs": [
    {
     "data": {
      "text/plain": [
       "inf"
      ]
     },
     "execution_count": 106,
     "metadata": {},
     "output_type": "execute_result"
    }
   ],
   "source": [
    "2.0 ** 1023 + 2.0 ** 1023"
   ]
  },
  {
   "cell_type": "code",
   "execution_count": 110,
   "metadata": {},
   "outputs": [
    {
     "data": {
      "text/plain": [
       "6.355805030768232e+307"
      ]
     },
     "execution_count": 110,
     "metadata": {},
     "output_type": "execute_result"
    }
   ],
   "source": [
    "\n",
    "\n",
    "def f(x):\n",
    "    return x * (2.0 ** (-1023.5)) - 0.5\n",
    "\n",
    "def n(x0, x1):\n",
    "    return (x0 * f(x1) - x1*f(x0) )/ (f(x1) - f(x0))\n",
    "            \n",
    "n(2.0 ** 1023, -2.0 ** 1023)\n",
    "n(-2.0 ** 1023, 6.355805030768232e+307)\n",
    "# n(1.000000000000001, 1.0000000000000002)"
   ]
  }
 ],
 "metadata": {
  "kernelspec": {
   "display_name": "Python 3",
   "language": "python",
   "name": "python3"
  },
  "language_info": {
   "codemirror_mode": {
    "name": "ipython",
    "version": 3
   },
   "file_extension": ".py",
   "mimetype": "text/x-python",
   "name": "python",
   "nbconvert_exporter": "python",
   "pygments_lexer": "ipython3",
   "version": "3.6.8"
  }
 },
 "nbformat": 4,
 "nbformat_minor": 4
}

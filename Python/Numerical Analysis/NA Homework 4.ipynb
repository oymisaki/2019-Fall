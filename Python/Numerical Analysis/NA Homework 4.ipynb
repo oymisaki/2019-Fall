{
 "cells": [
  {
   "cell_type": "code",
   "execution_count": 19,
   "metadata": {},
   "outputs": [
    {
     "ename": "KeyboardInterrupt",
     "evalue": "",
     "output_type": "error",
     "traceback": [
      "\u001b[0;31m---------------------------------------------------------------------------\u001b[0m",
      "\u001b[0;31mKeyboardInterrupt\u001b[0m                         Traceback (most recent call last)",
      "\u001b[0;32m<ipython-input-19-675ffb163f07>\u001b[0m in \u001b[0;36m<module>\u001b[0;34m\u001b[0m\n\u001b[1;32m     36\u001b[0m \u001b[0;32mfor\u001b[0m \u001b[0mi\u001b[0m \u001b[0;32min\u001b[0m \u001b[0mrange\u001b[0m\u001b[0;34m(\u001b[0m\u001b[0;36m29\u001b[0m\u001b[0;34m,\u001b[0m \u001b[0;36m30\u001b[0m\u001b[0;34m)\u001b[0m\u001b[0;34m:\u001b[0m\u001b[0;34m\u001b[0m\u001b[0;34m\u001b[0m\u001b[0m\n\u001b[1;32m     37\u001b[0m     \u001b[0mh\u001b[0m \u001b[0;34m=\u001b[0m \u001b[0;36m1\u001b[0m \u001b[0;34m/\u001b[0m \u001b[0;34m(\u001b[0m\u001b[0;36m2\u001b[0m\u001b[0;34m**\u001b[0m\u001b[0mi\u001b[0m\u001b[0;34m)\u001b[0m\u001b[0;34m\u001b[0m\u001b[0;34m\u001b[0m\u001b[0m\n\u001b[0;32m---> 38\u001b[0;31m     \u001b[0mprint\u001b[0m\u001b[0;34m(\u001b[0m\u001b[0mmidpoint\u001b[0m\u001b[0;34m(\u001b[0m\u001b[0mh\u001b[0m\u001b[0;34m)\u001b[0m\u001b[0;34m,\u001b[0m \u001b[0mtrapezoid\u001b[0m\u001b[0;34m(\u001b[0m\u001b[0mh\u001b[0m\u001b[0;34m)\u001b[0m\u001b[0;34m,\u001b[0m \u001b[0msimpson\u001b[0m\u001b[0;34m(\u001b[0m\u001b[0mh\u001b[0m\u001b[0;34m)\u001b[0m\u001b[0;34m)\u001b[0m\u001b[0;34m\u001b[0m\u001b[0;34m\u001b[0m\u001b[0m\n\u001b[0m",
      "\u001b[0;32m<ipython-input-19-675ffb163f07>\u001b[0m in \u001b[0;36mtrapezoid\u001b[0;34m(h)\u001b[0m\n\u001b[1;32m     17\u001b[0m     \u001b[0mcsum\u001b[0m \u001b[0;34m=\u001b[0m \u001b[0;36m0\u001b[0m\u001b[0;34m\u001b[0m\u001b[0;34m\u001b[0m\u001b[0m\n\u001b[1;32m     18\u001b[0m     \u001b[0;32mfor\u001b[0m \u001b[0mi\u001b[0m \u001b[0;32min\u001b[0m \u001b[0mrange\u001b[0m\u001b[0;34m(\u001b[0m\u001b[0mn\u001b[0m\u001b[0;34m)\u001b[0m\u001b[0;34m:\u001b[0m\u001b[0;34m\u001b[0m\u001b[0;34m\u001b[0m\u001b[0m\n\u001b[0;32m---> 19\u001b[0;31m         \u001b[0mcsum\u001b[0m \u001b[0;34m+=\u001b[0m \u001b[0mh\u001b[0m \u001b[0;34m/\u001b[0m \u001b[0;36m2\u001b[0m \u001b[0;34m*\u001b[0m\u001b[0;34m(\u001b[0m\u001b[0mf\u001b[0m\u001b[0;34m(\u001b[0m\u001b[0mi\u001b[0m\u001b[0;34m*\u001b[0m\u001b[0mh\u001b[0m\u001b[0;34m)\u001b[0m \u001b[0;34m+\u001b[0m \u001b[0mf\u001b[0m\u001b[0;34m(\u001b[0m\u001b[0mi\u001b[0m \u001b[0;34m*\u001b[0m \u001b[0mh\u001b[0m \u001b[0;34m+\u001b[0m\u001b[0mh\u001b[0m\u001b[0;34m)\u001b[0m\u001b[0;34m)\u001b[0m\u001b[0;34m\u001b[0m\u001b[0;34m\u001b[0m\u001b[0m\n\u001b[0m\u001b[1;32m     20\u001b[0m \u001b[0;34m\u001b[0m\u001b[0m\n\u001b[1;32m     21\u001b[0m     \u001b[0;32mreturn\u001b[0m \u001b[0;36m4\u001b[0m \u001b[0;34m*\u001b[0m \u001b[0mcsum\u001b[0m\u001b[0;34m\u001b[0m\u001b[0;34m\u001b[0m\u001b[0m\n",
      "\u001b[0;32m<ipython-input-19-675ffb163f07>\u001b[0m in \u001b[0;36mf\u001b[0;34m(x)\u001b[0m\n\u001b[1;32m     12\u001b[0m \u001b[0;32mdef\u001b[0m \u001b[0mtrapezoid\u001b[0m\u001b[0;34m(\u001b[0m\u001b[0mh\u001b[0m\u001b[0;34m)\u001b[0m\u001b[0;34m:\u001b[0m\u001b[0;34m\u001b[0m\u001b[0;34m\u001b[0m\u001b[0m\n\u001b[1;32m     13\u001b[0m     \u001b[0;32mdef\u001b[0m \u001b[0mf\u001b[0m\u001b[0;34m(\u001b[0m\u001b[0mx\u001b[0m\u001b[0;34m)\u001b[0m\u001b[0;34m:\u001b[0m\u001b[0;34m\u001b[0m\u001b[0;34m\u001b[0m\u001b[0m\n\u001b[0;32m---> 14\u001b[0;31m         \u001b[0;32mreturn\u001b[0m \u001b[0;36m1\u001b[0m\u001b[0;34m/\u001b[0m\u001b[0;34m(\u001b[0m\u001b[0;36m1\u001b[0m \u001b[0;34m+\u001b[0m \u001b[0mx\u001b[0m\u001b[0;34m**\u001b[0m\u001b[0;36m2\u001b[0m\u001b[0;34m)\u001b[0m\u001b[0;34m\u001b[0m\u001b[0;34m\u001b[0m\u001b[0m\n\u001b[0m\u001b[1;32m     15\u001b[0m \u001b[0;34m\u001b[0m\u001b[0m\n\u001b[1;32m     16\u001b[0m     \u001b[0mn\u001b[0m \u001b[0;34m=\u001b[0m \u001b[0mint\u001b[0m\u001b[0;34m(\u001b[0m\u001b[0;36m1\u001b[0m \u001b[0;34m/\u001b[0m \u001b[0mh\u001b[0m\u001b[0;34m)\u001b[0m\u001b[0;34m\u001b[0m\u001b[0;34m\u001b[0m\u001b[0m\n",
      "\u001b[0;31mKeyboardInterrupt\u001b[0m: "
     ]
    }
   ],
   "source": [
    "def midpoint(h):\n",
    "    def f(x):\n",
    "        return 1/(1 + x**2)\n",
    "    \n",
    "    n = int(1 / h)\n",
    "    csum = 0\n",
    "    for i in range(n):\n",
    "        csum += h *f((2 * i + 1) * h / 2)\n",
    "        \n",
    "    return 4 * csum\n",
    "\n",
    "def trapezoid(h):\n",
    "    def f(x):\n",
    "        return 1/(1 + x**2)\n",
    "    \n",
    "    n = int(1 / h)\n",
    "    csum = 0\n",
    "    for i in range(n):\n",
    "        csum += h / 2 *(f(i*h) + f(i * h +h))\n",
    "        \n",
    "    return 4 * csum\n",
    "\n",
    "\n",
    "def simpson(h):\n",
    "    def f(x):\n",
    "        return 1/(1 + x**2)\n",
    "    \n",
    "    n = int(1 / h)\n",
    "    csum = 0\n",
    "    for i in range(n):\n",
    "        csum += h / 6 *(f(i*h) + 4 * f((2 * i + 1) * h / 2) + f(i * h +h))\n",
    "        \n",
    "    return 4 * csum\n",
    "\n",
    "\n",
    "for i in range(29, 30):\n",
    "    h = 1 / (2**i)\n",
    "    print(midpoint(h), trapezoid(h), simpson(h))"
   ]
  },
  {
   "cell_type": "code",
   "execution_count": 18,
   "metadata": {},
   "outputs": [
    {
     "name": "stdout",
     "output_type": "stream",
     "text": [
      "1\n"
     ]
    }
   ],
   "source": [
    "print(1)"
   ]
  },
  {
   "cell_type": "code",
   "execution_count": null,
   "metadata": {},
   "outputs": [
    {
     "name": "stdout",
     "output_type": "stream",
     "text": [
      "[3.1, 3.1333333333333333]\n",
      "[3.140941612041389, 3.1415926512248222, 3.141592661142563, 3.141592638396796, 3.141592665277717]\n",
      "[3.141592017806915, 3.1415926535897927, 3.1415926535897927, 3.1415926535897927, 3.1415926535897927, 3.1415926535897927, 3.1415926535897927, 3.1415926535897927, 3.1415926535897927, 3.1415926535897927]\n",
      "[3.141592653550987, 3.141592653589793, 3.1415926535897936, 3.1415926535897936, 3.1415926535897936, 3.1415926535897936, 3.1415926535897936, 3.1415926535897936, 3.1415926535897936, 3.1415926535897936, 3.1415926535897936, 3.1415926535897936, 3.1415926535897936, 3.1415926535897936, 3.1415926535897936, 3.1415926535897936, 3.1415926535897936]\n",
      "[3.1415926535897247, 3.141592653589804, 3.141592653589828, 3.1415926535898344, 3.141592653589836, 3.1415926535898366, 3.1415926535898366, 3.1415926535898366, 3.1415926535898366, 3.1415926535898366, 3.1415926535898366, 3.1415926535898366, 3.1415926535898366, 3.1415926535898366, 3.1415926535898366, 3.1415926535898366, 3.1415926535898366, 3.1415926535898366, 3.1415926535898366, 3.1415926535898366, 3.1415926535898366, 3.1415926535898366, 3.1415926535898366, 3.1415926535898366, 3.1415926535898366, 3.1415926535898366]\n"
     ]
    }
   ],
   "source": [
    "def romberg(f,a,b,n):\n",
    "    r=[] \n",
    "    h = b - a\n",
    "\n",
    "    r.append([(h/2.0) * (f(a)+f(b))])\n",
    "    for i in range(1,n+1):\n",
    "        h = h/2.\n",
    "        sum = 0\n",
    "        for k in range(1,2 ** i ,2):\n",
    "            sum = sum + f(a+k * h)\n",
    "\n",
    "        rowi = [0.5*r[ i-1][0] + sum*h]\n",
    "\n",
    "        for j in range(1,i+1):\n",
    "            rij = rowi[j-1] + (rowi[j-1]-r[i-1][j-1])/(4.**j-1.)\n",
    "            rowi.append(rij)\n",
    "\n",
    "        r.append(rowi)\n",
    "\n",
    "    return r[-1]\n",
    "\n",
    "def func(x):\n",
    "    return 4 / (1 + x**2)\n",
    "\n",
    "for i in range(1, 10):\n",
    "    print(romberg(func, 0, 1, i ** 2))"
   ]
  }
 ],
 "metadata": {
  "kernelspec": {
   "display_name": "Python 3",
   "language": "python",
   "name": "python3"
  },
  "language_info": {
   "codemirror_mode": {
    "name": "ipython",
    "version": 3
   },
   "file_extension": ".py",
   "mimetype": "text/x-python",
   "name": "python",
   "nbconvert_exporter": "python",
   "pygments_lexer": "ipython3",
   "version": "3.6.8"
  }
 },
 "nbformat": 4,
 "nbformat_minor": 4
}

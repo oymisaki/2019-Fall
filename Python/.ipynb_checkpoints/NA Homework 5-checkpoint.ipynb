{
 "cells": [
  {
   "cell_type": "code",
   "execution_count": 1,
   "metadata": {},
   "outputs": [],
   "source": [
    "from scipy import optimize"
   ]
  },
  {
   "cell_type": "code",
   "execution_count": 11,
   "metadata": {},
   "outputs": [
    {
     "data": {
      "text/plain": [
       "0.0005834411346579783"
      ]
     },
     "execution_count": 11,
     "metadata": {},
     "output_type": "execute_result"
    }
   ],
   "source": [
    "\n",
    "\n",
    "def iterate(y0, x0, xn, h, f):\n",
    "    steps = int((xn - x0) / h)\n",
    "    res = y0\n",
    "    for i in range(steps):\n",
    "        res = f(res, h)\n",
    "    return res\n",
    "    \n",
    "\n",
    "def Euler(y0, x0, xn, h, t):\n",
    "    def f(yk, h):\n",
    "        return yk + h * (-200 * t * yk ** 2)\n",
    "    \n",
    "    return iterate(y0, x0, xn, h, f)\n",
    "\n",
    "Euler(1/901, -3, 1, 0.1, 1)"
   ]
  },
  {
   "cell_type": "code",
   "execution_count": 16,
   "metadata": {},
   "outputs": [
    {
     "data": {
      "text/plain": [
       "-0.021339925662928624"
      ]
     },
     "execution_count": 16,
     "metadata": {},
     "output_type": "execute_result"
    }
   ],
   "source": [
    "def Trapezoid(y0, x0, xn, h, t):\n",
    "    steps = int((xn - x0) / h)\n",
    "    res = y0\n",
    "    \n",
    "    initial_val = y0 + h * (-200 * t * y0 ** 2)\n",
    "    \n",
    "    def f(x, yk):\n",
    "        return -200 * h * t * (yk ** 2 + x ** 2) + yk - x\n",
    "    \n",
    "    for i in range(steps):\n",
    "        res = optimize.root(f, initial_val, res)[\"x\"][0]\n",
    "    return res \n",
    "\n",
    "Trapezoid(1, 0, 1, 0.1, 1)"
   ]
  },
  {
   "cell_type": "code",
   "execution_count": null,
   "metadata": {},
   "outputs": [],
   "source": []
  }
 ],
 "metadata": {
  "kernelspec": {
   "display_name": "Python 3",
   "language": "python",
   "name": "python3"
  },
  "language_info": {
   "codemirror_mode": {
    "name": "ipython",
    "version": 3
   },
   "file_extension": ".py",
   "mimetype": "text/x-python",
   "name": "python",
   "nbconvert_exporter": "python",
   "pygments_lexer": "ipython3",
   "version": "3.6.8"
  }
 },
 "nbformat": 4,
 "nbformat_minor": 4
}

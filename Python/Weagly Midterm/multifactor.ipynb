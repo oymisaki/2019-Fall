{
 "cells": [
  {
   "cell_type": "code",
   "execution_count": 3,
   "metadata": {},
   "outputs": [],
   "source": [
    "import numpy as np\n",
    "import pandas as pd\n",
    "import csv\n",
    "import xlrd\n",
    "from sklearn.linear_model import LinearRegression"
   ]
  },
  {
   "cell_type": "code",
   "execution_count": 4,
   "metadata": {},
   "outputs": [],
   "source": [
    "with open(\"F-F_Research_Data_5_Factors_2x3.CSV\") as csvfile:\n",
    "    reader = csv.reader(csvfile)\n",
    "    rows = [row for row in reader]\n",
    "ff5 = pd.DataFrame(rows[4:679], columns = rows[3]).astype(float)\n",
    "ff5.set_index([''], inplace = True)\n",
    "ff5_ann = pd.DataFrame(rows[682:], columns = rows[3]).astype(float)"
   ]
  },
  {
   "cell_type": "code",
   "execution_count": 5,
   "metadata": {},
   "outputs": [],
   "source": [
    "with open(\"25_Portfolios_5x5.CSV\") as csvfile:\n",
    "    reader = csv.reader(csvfile)\n",
    "    rows = [row for row in reader]\n",
    "port = pd.DataFrame(rows[16:], columns = rows[15])"
   ]
  },
  {
   "cell_type": "code",
   "execution_count": 6,
   "metadata": {},
   "outputs": [],
   "source": [
    "with open(\"F-F_Momentum_Factor.CSV\") as csvfile:\n",
    "    reader = csv.reader(csvfile)\n",
    "    rows = [row for row in reader]\n",
    "mtm = pd.DataFrame(rows[14:1127], columns = ['Date', 'UMD']).astype(float)\n",
    "mtm.set_index(['Date'], inplace = True)"
   ]
  },
  {
   "cell_type": "code",
   "execution_count": 7,
   "metadata": {},
   "outputs": [],
   "source": [
    "hml_dev = pd.read_csv(\"HML-DEV.csv\").astype(float)\n",
    "hml_dev.set_index(['Date'], inplace = True)"
   ]
  },
  {
   "cell_type": "code",
   "execution_count": 8,
   "metadata": {},
   "outputs": [
    {
     "name": "stdout",
     "output_type": "stream",
     "text": [
      "           Mkt-RF        SMB        HML       RMW       CMA  Intercept\n",
      "Mkt-RF        NaN   0.252237  0.0950334 -0.377736 -0.915758   0.795889\n",
      "SMB       0.12952        NaN  0.0659433  -0.43404 -0.128182   0.286859\n",
      "HML      0.025849  0.0349311        NaN  0.143125   1.01095 -0.0283724\n",
      "RMW    -0.0986484  -0.220752    0.13742       NaN -0.290639   0.401884\n",
      "CMA     -0.111636 -0.0304317   0.453091 -0.135667       NaN    0.23743\n"
     ]
    },
    {
     "name": "stderr",
     "output_type": "stream",
     "text": [
      "/usr/local/lib/python3.6/dist-packages/ipykernel_launcher.py:8: FutureWarning: `rcond` parameter will change to the default of machine precision times ``max(M, N)`` where M and N are the input matrix dimensions.\n",
      "To use the future default and silence this warning we advise to pass `rcond=None`, to keep using the old, explicitly pass `rcond=-1`.\n",
      "  \n"
     ]
    }
   ],
   "source": [
    "#table 1\n",
    "ff5_col = list(ff5.columns[:-1])\n",
    "reg_df1 = pd.DataFrame(index = ff5_col, columns = ff5_col+['Intercept'])\n",
    "for col in ff5_col:\n",
    "    x = np.array(ff5.loc[:, (ff5.columns != col)&(ff5.columns != 'RF')])\n",
    "    x = np.vstack([x.T, np.ones(len(x))]).T\n",
    "    y = np.array(ff5.loc[:, col])\n",
    "    res = np.linalg.lstsq(x, y)[0]\n",
    "    reg_df1.loc[col, reg_df1.columns != col] = res\n",
    "print(reg_df1)"
   ]
  },
  {
   "cell_type": "code",
   "execution_count": 9,
   "metadata": {},
   "outputs": [
    {
     "name": "stderr",
     "output_type": "stream",
     "text": [
      "/usr/local/lib/python3.6/dist-packages/ipykernel_launcher.py:9: FutureWarning: `rcond` parameter will change to the default of machine precision times ``max(M, N)`` where M and N are the input matrix dimensions.\n",
      "To use the future default and silence this warning we advise to pass `rcond=None`, to keep using the old, explicitly pass `rcond=-1`.\n",
      "  if __name__ == '__main__':\n"
     ]
    },
    {
     "data": {
      "text/html": [
       "<div>\n",
       "<style scoped>\n",
       "    .dataframe tbody tr th:only-of-type {\n",
       "        vertical-align: middle;\n",
       "    }\n",
       "\n",
       "    .dataframe tbody tr th {\n",
       "        vertical-align: top;\n",
       "    }\n",
       "\n",
       "    .dataframe thead th {\n",
       "        text-align: right;\n",
       "    }\n",
       "</style>\n",
       "<table border=\"1\" class=\"dataframe\">\n",
       "  <thead>\n",
       "    <tr style=\"text-align: right;\">\n",
       "      <th></th>\n",
       "      <th>Mkt-RF</th>\n",
       "      <th>SMB</th>\n",
       "      <th>HML</th>\n",
       "      <th>RMW</th>\n",
       "      <th>CMA</th>\n",
       "      <th>UMD</th>\n",
       "      <th>Intercept</th>\n",
       "    </tr>\n",
       "  </thead>\n",
       "  <tbody>\n",
       "    <tr>\n",
       "      <th>Mkt-RF</th>\n",
       "      <td>NaN</td>\n",
       "      <td>0.25522</td>\n",
       "      <td>0.024031</td>\n",
       "      <td>-0.341083</td>\n",
       "      <td>-0.852052</td>\n",
       "      <td>-0.129462</td>\n",
       "      <td>0.874814</td>\n",
       "    </tr>\n",
       "    <tr>\n",
       "      <th>SMB</th>\n",
       "      <td>0.133277</td>\n",
       "      <td>NaN</td>\n",
       "      <td>0.0808446</td>\n",
       "      <td>-0.439768</td>\n",
       "      <td>-0.138141</td>\n",
       "      <td>0.0280563</td>\n",
       "      <td>0.266121</td>\n",
       "    </tr>\n",
       "    <tr>\n",
       "      <th>HML</th>\n",
       "      <td>0.0062081</td>\n",
       "      <td>0.0399941</td>\n",
       "      <td>NaN</td>\n",
       "      <td>0.162478</td>\n",
       "      <td>0.988399</td>\n",
       "      <td>-0.126416</td>\n",
       "      <td>0.064856</td>\n",
       "    </tr>\n",
       "    <tr>\n",
       "      <th>RMW</th>\n",
       "      <td>-0.089589</td>\n",
       "      <td>-0.221196</td>\n",
       "      <td>0.165197</td>\n",
       "      <td>NaN</td>\n",
       "      <td>-0.306955</td>\n",
       "      <td>0.0551752</td>\n",
       "      <td>0.356939</td>\n",
       "    </tr>\n",
       "    <tr>\n",
       "      <th>CMA</th>\n",
       "      <td>-0.104253</td>\n",
       "      <td>-0.032367</td>\n",
       "      <td>0.468131</td>\n",
       "      <td>-0.142989</td>\n",
       "      <td>NaN</td>\n",
       "      <td>0.040566</td>\n",
       "      <td>0.204639</td>\n",
       "    </tr>\n",
       "    <tr>\n",
       "      <th>UMD</th>\n",
       "      <td>-0.141538</td>\n",
       "      <td>0.0587382</td>\n",
       "      <td>-0.534993</td>\n",
       "      <td>0.229657</td>\n",
       "      <td>0.36247</td>\n",
       "      <td>NaN</td>\n",
       "      <td>0.722292</td>\n",
       "    </tr>\n",
       "  </tbody>\n",
       "</table>\n",
       "</div>"
      ],
      "text/plain": [
       "           Mkt-RF        SMB        HML       RMW       CMA        UMD  \\\n",
       "Mkt-RF        NaN    0.25522   0.024031 -0.341083 -0.852052  -0.129462   \n",
       "SMB      0.133277        NaN  0.0808446 -0.439768 -0.138141  0.0280563   \n",
       "HML     0.0062081  0.0399941        NaN  0.162478  0.988399  -0.126416   \n",
       "RMW     -0.089589  -0.221196   0.165197       NaN -0.306955  0.0551752   \n",
       "CMA     -0.104253  -0.032367   0.468131 -0.142989       NaN   0.040566   \n",
       "UMD     -0.141538  0.0587382  -0.534993  0.229657   0.36247        NaN   \n",
       "\n",
       "       Intercept  \n",
       "Mkt-RF  0.874814  \n",
       "SMB     0.266121  \n",
       "HML     0.064856  \n",
       "RMW     0.356939  \n",
       "CMA     0.204639  \n",
       "UMD     0.722292  "
      ]
     },
     "execution_count": 9,
     "metadata": {},
     "output_type": "execute_result"
    }
   ],
   "source": [
    "#table 2\n",
    "ff6_col = ff5_col+['UMD']\n",
    "reg_df2 = pd.DataFrame(index = ff6_col, columns = ff6_col+['Intercept'])\n",
    "ff6 = ff5.join(mtm, how='inner')\n",
    "for col in ff6_col:\n",
    "    x = np.array(ff6.loc[:, (ff6.columns != col)&(ff6.columns != 'RF')])\n",
    "    x = np.vstack([x.T, np.ones(len(x))]).T\n",
    "    y = np.array(ff6.loc[:, col])\n",
    "    res = np.linalg.lstsq(x, y)[0]\n",
    "    reg_df2.loc[col, reg_df2.columns != col] = res\n",
    "reg_df2"
   ]
  },
  {
   "cell_type": "code",
   "execution_count": 1,
   "metadata": {},
   "outputs": [
    {
     "ename": "NameError",
     "evalue": "name 'reg_df2' is not defined",
     "output_type": "error",
     "traceback": [
      "\u001b[0;31m---------------------------------------------------------------------------\u001b[0m",
      "\u001b[0;31mNameError\u001b[0m                                 Traceback (most recent call last)",
      "\u001b[0;32m<ipython-input-1-cf8e8d6d1caa>\u001b[0m in \u001b[0;36m<module>\u001b[0;34m\u001b[0m\n\u001b[0;32m----> 1\u001b[0;31m \u001b[0mreg_df2\u001b[0m\u001b[0;34m\u001b[0m\u001b[0;34m\u001b[0m\u001b[0m\n\u001b[0m",
      "\u001b[0;31mNameError\u001b[0m: name 'reg_df2' is not defined"
     ]
    }
   ],
   "source": []
  }
 ],
 "metadata": {
  "kernelspec": {
   "display_name": "Python 3",
   "language": "python",
   "name": "python3"
  },
  "language_info": {
   "codemirror_mode": {
    "name": "ipython",
    "version": 3
   },
   "file_extension": ".py",
   "mimetype": "text/x-python",
   "name": "python",
   "nbconvert_exporter": "python",
   "pygments_lexer": "ipython3",
   "version": "3.6.8"
  }
 },
 "nbformat": 4,
 "nbformat_minor": 4
}

{
 "cells": [
  {
   "cell_type": "code",
   "execution_count": 2,
   "metadata": {},
   "outputs": [
    {
     "name": "stderr",
     "output_type": "stream",
     "text": [
      "── \u001b[1mAttaching packages\u001b[22m ─────────────────────────────────────── tidyverse 1.2.1 ──\n",
      "\u001b[32m✔\u001b[39m \u001b[34mggplot2\u001b[39m 3.2.1     \u001b[32m✔\u001b[39m \u001b[34mpurrr  \u001b[39m 0.3.2\n",
      "\u001b[32m✔\u001b[39m \u001b[34mtibble \u001b[39m 2.1.3     \u001b[32m✔\u001b[39m \u001b[34mdplyr  \u001b[39m 0.8.3\n",
      "\u001b[32m✔\u001b[39m \u001b[34mtidyr  \u001b[39m 0.8.3     \u001b[32m✔\u001b[39m \u001b[34mstringr\u001b[39m 1.4.0\n",
      "\u001b[32m✔\u001b[39m \u001b[34mreadr  \u001b[39m 1.3.1     \u001b[32m✔\u001b[39m \u001b[34mforcats\u001b[39m 0.4.0\n",
      "── \u001b[1mConflicts\u001b[22m ────────────────────────────────────────── tidyverse_conflicts() ──\n",
      "\u001b[31m✖\u001b[39m \u001b[34mdplyr\u001b[39m::\u001b[32mfilter()\u001b[39m masks \u001b[34mstats\u001b[39m::filter()\n",
      "\u001b[31m✖\u001b[39m \u001b[34mdplyr\u001b[39m::\u001b[32mlag()\u001b[39m    masks \u001b[34mstats\u001b[39m::lag()\n"
     ]
    }
   ],
   "source": [
    "library(tidyverse)\n",
    "library(dplyr)"
   ]
  },
  {
   "cell_type": "code",
   "execution_count": 3,
   "metadata": {},
   "outputs": [
    {
     "name": "stderr",
     "output_type": "stream",
     "text": [
      "Warning message:\n",
      "“Missing column names filled in: 'X1' [1]”Parsed with column specification:\n",
      "cols(\n",
      "  X1 = \u001b[32mcol_double()\u001b[39m,\n",
      "  NoDur = \u001b[32mcol_double()\u001b[39m,\n",
      "  Durbl = \u001b[32mcol_double()\u001b[39m,\n",
      "  Manuf = \u001b[32mcol_double()\u001b[39m,\n",
      "  Enrgy = \u001b[32mcol_double()\u001b[39m,\n",
      "  HiTec = \u001b[32mcol_double()\u001b[39m,\n",
      "  Telcm = \u001b[32mcol_double()\u001b[39m,\n",
      "  Shops = \u001b[32mcol_double()\u001b[39m,\n",
      "  Hlth = \u001b[32mcol_double()\u001b[39m,\n",
      "  Utils = \u001b[32mcol_double()\u001b[39m,\n",
      "  Other = \u001b[32mcol_double()\u001b[39m\n",
      ")\n",
      "Warning message:\n",
      "“12 parsing failures.\n",
      " row   col   expected                                    actual                         file\n",
      "1120 X1    a double   Average Equal Weighted Returns -- Monthly '10_Industry_Portfolios.CSV'\n",
      "1120 NA    11 columns 1 columns                                 '10_Industry_Portfolios.CSV'\n",
      "1121 NoDur a double   NoDur                                     '10_Industry_Portfolios.CSV'\n",
      "1121 Durbl a double   Durbl                                     '10_Industry_Portfolios.CSV'\n",
      "1121 Manuf a double   Manuf                                     '10_Industry_Portfolios.CSV'\n",
      ".... ..... .......... ......................................... ............................\n",
      "See problems(...) for more details.\n",
      "”"
     ]
    },
    {
     "name": "stdout",
     "output_type": "stream",
     "text": [
      "Observations: 1,121\n",
      "Variables: 11\n",
      "$ year  \u001b[3m\u001b[38;5;246m<dbl>\u001b[39m\u001b[23m 192607, 192608, 192609, 192610, 192611, 192612, 192701, 192702,…\n",
      "$ NoDur \u001b[3m\u001b[38;5;246m<dbl>\u001b[39m\u001b[23m 1.45, 3.97, 1.14, -1.24, 5.21, 0.82, -0.67, 3.37, 2.73, 3.35, 8…\n",
      "$ Durbl \u001b[3m\u001b[38;5;246m<dbl>\u001b[39m\u001b[23m 15.55, 3.68, 4.80, -8.23, -0.19, 9.89, -0.92, 8.91, 1.62, 3.15,…\n",
      "$ Manuf \u001b[3m\u001b[38;5;246m<dbl>\u001b[39m\u001b[23m 4.69, 2.81, 1.15, -3.63, 4.10, 3.74, -0.08, 5.81, 1.43, 0.77, 5…\n",
      "$ Enrgy \u001b[3m\u001b[38;5;246m<dbl>\u001b[39m\u001b[23m -1.18, 3.47, -3.39, -0.78, 0.01, 2.82, 1.29, 1.47, -6.01, -5.17…\n",
      "$ HiTec \u001b[3m\u001b[38;5;246m<dbl>\u001b[39m\u001b[23m 2.90, 2.66, -0.38, -4.58, 4.71, -0.02, -1.13, 4.45, 1.45, 5.40,…\n",
      "$ Telcm \u001b[3m\u001b[38;5;246m<dbl>\u001b[39m\u001b[23m 0.83, 2.17, 2.41, -0.11, 1.63, 1.99, 1.88, 3.97, 5.56, -2.13, 3…\n",
      "$ Shops \u001b[3m\u001b[38;5;246m<dbl>\u001b[39m\u001b[23m 0.11, -0.71, 0.21, -2.29, 6.43, 0.62, -2.55, 3.61, -0.41, 4.46,…\n",
      "$ Hlth  \u001b[3m\u001b[38;5;246m<dbl>\u001b[39m\u001b[23m 1.77, 4.25, 0.69, -0.57, 5.42, 0.11, 5.05, 1.71, 1.01, 2.74, 4.…\n",
      "$ Utils \u001b[3m\u001b[38;5;246m<dbl>\u001b[39m\u001b[23m 7.04, -1.69, 2.04, -2.63, 3.71, -0.17, -1.79, 4.53, 0.37, 1.71,…\n",
      "$ Other \u001b[3m\u001b[38;5;246m<dbl>\u001b[39m\u001b[23m 2.16, 4.38, 0.29, -2.85, 2.11, 3.40, 1.51, 5.06, 1.27, 0.86, 6.…\n"
     ]
    },
    {
     "name": "stderr",
     "output_type": "stream",
     "text": [
      "Warning message:\n",
      "“Missing column names filled in: 'X1' [1]”Warning message:\n",
      "“3 parsing failures.\n",
      "row col  expected                           actual                                  file\n",
      "676  X1 a double  Annual Factors: January-December 'F-F_Research_Data_5_Factors_2x3.CSV'\n",
      "676  -- 7 columns 1 columns                        'F-F_Research_Data_5_Factors_2x3.CSV'\n",
      "676  -- 7 columns 1 columns                        'F-F_Research_Data_5_Factors_2x3.CSV'\n",
      "”Warning message:\n",
      "“funs() is soft deprecated as of dplyr 0.8.0\n",
      "Please use a list of either functions or lambdas: \n",
      "\n",
      "  # Simple named list: \n",
      "  list(mean = mean, median = median)\n",
      "\n",
      "  # Auto named with `tibble::lst()`: \n",
      "  tibble::lst(mean, median)\n",
      "\n",
      "  # Using lambdas\n",
      "  list(~ mean(., trim = .2), ~ median(., na.rm = TRUE))\n",
      "\u001b[90mThis warning is displayed once per session.\u001b[39m”"
     ]
    },
    {
     "name": "stdout",
     "output_type": "stream",
     "text": [
      "Observations: 677\n",
      "Variables: 17\n",
      "$ year  \u001b[3m\u001b[38;5;246m<dbl>\u001b[39m\u001b[23m 196307, 196308, 196309, 196310, 196311, 196312, 196401, 196402,…\n",
      "$ NoDur \u001b[3m\u001b[38;5;246m<dbl>\u001b[39m\u001b[23m -0.0049, 0.0489, -0.0169, 0.0265, -0.0113, 0.0281, 0.0079, 0.01…\n",
      "$ Durbl \u001b[3m\u001b[38;5;246m<dbl>\u001b[39m\u001b[23m -0.0022, 0.0655, -0.0024, 0.0972, -0.0484, 0.0027, 0.0119, 0.02…\n",
      "$ Manuf \u001b[3m\u001b[38;5;246m<dbl>\u001b[39m\u001b[23m -0.0141, 0.0620, -0.0076, 0.0258, 0.0030, 0.0191, 0.0269, 0.027…\n",
      "$ Enrgy \u001b[3m\u001b[38;5;246m<dbl>\u001b[39m\u001b[23m 0.0229, 0.0393, -0.0364, -0.0032, -0.0115, 0.0465, 0.0484, 0.01…\n",
      "$ HiTec \u001b[3m\u001b[38;5;246m<dbl>\u001b[39m\u001b[23m -0.0069, 0.0514, 0.0013, 0.0829, -0.0029, 0.0305, 0.0291, 0.019…\n",
      "$ Telcm \u001b[3m\u001b[38;5;246m<dbl>\u001b[39m\u001b[23m -0.0023, 0.0429, 0.0236, 0.0340, 0.0416, -0.0014, 0.0335, -0.00…\n",
      "$ Shops \u001b[3m\u001b[38;5;246m<dbl>\u001b[39m\u001b[23m -0.0103, 0.0643, 0.0097, 0.0052, -0.0123, 0.0034, 0.0251, 0.016…\n",
      "$ Hlth  \u001b[3m\u001b[38;5;246m<dbl>\u001b[39m\u001b[23m 0.0056, 0.0956, -0.0406, 0.0338, -0.0165, 0.0154, 0.0368, 0.016…\n",
      "$ Utils \u001b[3m\u001b[38;5;246m<dbl>\u001b[39m\u001b[23m 0.0080, 0.0420, -0.0250, -0.0067, -0.0102, 0.0242, 0.0140, 0.00…\n",
      "$ Other \u001b[3m\u001b[38;5;246m<dbl>\u001b[39m\u001b[23m -0.0161, 0.0549, -0.0316, 0.0138, 0.0023, 0.0280, 0.0124, 0.054…\n",
      "$ MktRF \u001b[3m\u001b[38;5;246m<dbl>\u001b[39m\u001b[23m -0.0039, 0.0507, -0.0157, 0.0253, -0.0085, 0.0183, 0.0224, 0.01…\n",
      "$ SMB   \u001b[3m\u001b[38;5;246m<dbl>\u001b[39m\u001b[23m -0.0047, -0.0079, -0.0048, -0.0129, -0.0084, -0.0189, 0.0008, 0…\n",
      "$ HML   \u001b[3m\u001b[38;5;246m<dbl>\u001b[39m\u001b[23m -0.0083, 0.0167, 0.0018, -0.0010, 0.0171, -0.0012, 0.0159, 0.02…\n",
      "$ RMW   \u001b[3m\u001b[38;5;246m<dbl>\u001b[39m\u001b[23m 0.0066, 0.0039, -0.0076, 0.0275, -0.0045, 0.0008, 0.0022, 0.000…\n",
      "$ CMA   \u001b[3m\u001b[38;5;246m<dbl>\u001b[39m\u001b[23m -0.0115, -0.0040, 0.0024, -0.0224, 0.0222, -0.0030, 0.0150, 0.0…\n",
      "$ RF    \u001b[3m\u001b[38;5;246m<dbl>\u001b[39m\u001b[23m 0.0027, 0.0025, 0.0027, 0.0029, 0.0027, 0.0029, 0.0030, 0.0026,…\n"
     ]
    }
   ],
   "source": [
    "portfolios = read_csv(\"10_Industry_Portfolios.CSV\", skip = 11, n_max=1121) %>%\n",
    "    rename(year=X1) %>% glimpse()\n",
    "\n",
    "famafrench = read_csv(\"F-F_Research_Data_5_Factors_2x3.CSV\", skip=3, n_max=676, col_types=cols(\n",
    "                      X1 = col_double(),\n",
    "                      `Mkt-RF` = col_double(),\n",
    "                      SMB = col_double(),\n",
    "                      HML = col_double(),\n",
    "                      RMW = col_double(),\n",
    "                      CMA = col_double(),\n",
    "                      RF = col_double()\n",
    "                    )) %>%\n",
    "    rename(year=X1) %>%\n",
    "    rename_all(funs(str_replace(., \"-\", \"\")))\n",
    "\n",
    "data = portfolios %>%\n",
    "    inner_join(famafrench, by=\"year\") \n",
    "\n",
    "for(name in colnames(data)[2:17])\n",
    "{\n",
    "    data[name] = data[name] / 100\n",
    "}\n",
    "\n",
    "data %>%\n",
    "    glimpse()"
   ]
  },
  {
   "cell_type": "code",
   "execution_count": 4,
   "metadata": {},
   "outputs": [],
   "source": [
    "\n",
    "res = data.frame()\n",
    "\n",
    "for(name in colnames(data)[2:11])\n",
    "{\n",
    "    tmp = data[, c(name, colnames(data)[12:16])] \n",
    "    tmp[name] = tmp[name] - data[, 17]\n",
    "    \n",
    "    formula = as.formula(paste(name, \"~\", paste(colnames(data)[12:16] , collapse=\"+\")))\n",
    "    model = lm(formula , data=tmp)\n",
    "    alpha =  model$coefficients[[1]]\n",
    "    \n",
    "    tvalues = summary(model)[[\"coefficients\"]][,\"t value\"]\n",
    "    tvalues = as.list(tvalues)\n",
    "    tvalues[\"Alpha\"] = alpha\n",
    "    \n",
    "    res = rbind(res, data.frame(tvalues))\n",
    "    row.names(res)[length(row.names(res))] = name\n",
    "}\n",
    "\n",
    "res = res %>%\n",
    "    rename(Intercept = X.Intercept.)\n",
    "\n",
    "write.csv(res,\"./10x5.csv\")"
   ]
  },
  {
   "cell_type": "code",
   "execution_count": 5,
   "metadata": {},
   "outputs": [],
   "source": [
    "library(GRS.test)"
   ]
  },
  {
   "cell_type": "code",
   "execution_count": 6,
   "metadata": {},
   "outputs": [
    {
     "data": {
      "text/html": [
       "<table>\n",
       "<caption>A matrix: 1 × 1 of type dbl</caption>\n",
       "<thead>\n",
       "\t<tr><th scope=col>GRS</th></tr>\n",
       "</thead>\n",
       "<tbody>\n",
       "\t<tr><td>4.888194</td></tr>\n",
       "</tbody>\n",
       "</table>\n"
      ],
      "text/latex": [
       "A matrix: 1 × 1 of type dbl\n",
       "\\begin{tabular}{l}\n",
       " GRS\\\\\n",
       "\\hline\n",
       "\t 4.888194\\\\\n",
       "\\end{tabular}\n"
      ],
      "text/markdown": [
       "\n",
       "A matrix: 1 × 1 of type dbl\n",
       "\n",
       "| GRS |\n",
       "|---|\n",
       "| 4.888194 |\n",
       "\n"
      ],
      "text/plain": [
       "     GRS     \n",
       "[1,] 4.888194"
      ]
     },
     "metadata": {},
     "output_type": "display_data"
    }
   ],
   "source": [
    "data = data %>% na.omit()\n",
    "factor.mat = data[, 12:16]             # Fama-French 3-factor model\n",
    "ret.mat = data[, 2:11]      # 11 size-BM portfolio returns\n",
    "\n",
    "for(name in colnames(ret.mat))\n",
    "{\n",
    "    ret.mat[name] = ret.mat[name] - data[17]\n",
    "}\n",
    "\n",
    "GRS.test(ret.mat,factor.mat)$GRS.stat   # See Table 9C of Fama-French (1993"
   ]
  },
  {
   "cell_type": "code",
   "execution_count": 7,
   "metadata": {},
   "outputs": [
    {
     "name": "stderr",
     "output_type": "stream",
     "text": [
      "Warning message:\n",
      "“Missing column names filled in: 'X1' [1]”Parsed with column specification:\n",
      "cols(\n",
      "  X1 = \u001b[32mcol_double()\u001b[39m,\n",
      "  Mom = \u001b[32mcol_double()\u001b[39m\n",
      ")\n",
      "Warning message:\n",
      "“3 parsing failures.\n",
      " row col  expected          actual                      file\n",
      "1114  X1 a double  Annual Factors: 'F-F_Momentum_Factor.CSV'\n",
      "1114  -- 2 columns 1 columns       'F-F_Momentum_Factor.CSV'\n",
      "1114  -- 2 columns 1 columns       'F-F_Momentum_Factor.CSV'\n",
      "”Parsed with column specification:\n",
      "cols(\n",
      "  Date = \u001b[32mcol_double()\u001b[39m,\n",
      "  `HML-DEV` = \u001b[32mcol_double()\u001b[39m\n",
      ")\n"
     ]
    },
    {
     "name": "stdout",
     "output_type": "stream",
     "text": [
      "Observations: 675\n",
      "Variables: 19\n",
      "$ year      \u001b[3m\u001b[38;5;246m<dbl>\u001b[39m\u001b[23m 196307, 196308, 196309, 196310, 196311, 196312, 196401, 196…\n",
      "$ NoDur     \u001b[3m\u001b[38;5;246m<dbl>\u001b[39m\u001b[23m -0.0049, 0.0489, -0.0169, 0.0265, -0.0113, 0.0281, 0.0079, …\n",
      "$ Durbl     \u001b[3m\u001b[38;5;246m<dbl>\u001b[39m\u001b[23m -0.0022, 0.0655, -0.0024, 0.0972, -0.0484, 0.0027, 0.0119, …\n",
      "$ Manuf     \u001b[3m\u001b[38;5;246m<dbl>\u001b[39m\u001b[23m -0.0141, 0.0620, -0.0076, 0.0258, 0.0030, 0.0191, 0.0269, 0…\n",
      "$ Enrgy     \u001b[3m\u001b[38;5;246m<dbl>\u001b[39m\u001b[23m 0.0229, 0.0393, -0.0364, -0.0032, -0.0115, 0.0465, 0.0484, …\n",
      "$ HiTec     \u001b[3m\u001b[38;5;246m<dbl>\u001b[39m\u001b[23m -0.0069, 0.0514, 0.0013, 0.0829, -0.0029, 0.0305, 0.0291, 0…\n",
      "$ Telcm     \u001b[3m\u001b[38;5;246m<dbl>\u001b[39m\u001b[23m -0.0023, 0.0429, 0.0236, 0.0340, 0.0416, -0.0014, 0.0335, -…\n",
      "$ Shops     \u001b[3m\u001b[38;5;246m<dbl>\u001b[39m\u001b[23m -0.0103, 0.0643, 0.0097, 0.0052, -0.0123, 0.0034, 0.0251, 0…\n",
      "$ Hlth      \u001b[3m\u001b[38;5;246m<dbl>\u001b[39m\u001b[23m 0.0056, 0.0956, -0.0406, 0.0338, -0.0165, 0.0154, 0.0368, 0…\n",
      "$ Utils     \u001b[3m\u001b[38;5;246m<dbl>\u001b[39m\u001b[23m 0.0080, 0.0420, -0.0250, -0.0067, -0.0102, 0.0242, 0.0140, …\n",
      "$ Other     \u001b[3m\u001b[38;5;246m<dbl>\u001b[39m\u001b[23m -0.0161, 0.0549, -0.0316, 0.0138, 0.0023, 0.0280, 0.0124, 0…\n",
      "$ MktRF     \u001b[3m\u001b[38;5;246m<dbl>\u001b[39m\u001b[23m -0.0039, 0.0507, -0.0157, 0.0253, -0.0085, 0.0183, 0.0224, …\n",
      "$ SMB       \u001b[3m\u001b[38;5;246m<dbl>\u001b[39m\u001b[23m -0.0047, -0.0079, -0.0048, -0.0129, -0.0084, -0.0189, 0.000…\n",
      "$ HML       \u001b[3m\u001b[38;5;246m<dbl>\u001b[39m\u001b[23m -0.0059, 0.0028, 0.0027, -0.0211, 0.0091, -0.0081, 0.0092, …\n",
      "$ RMW       \u001b[3m\u001b[38;5;246m<dbl>\u001b[39m\u001b[23m 0.0066, 0.0039, -0.0076, 0.0275, -0.0045, 0.0008, 0.0022, 0…\n",
      "$ CMA       \u001b[3m\u001b[38;5;246m<dbl>\u001b[39m\u001b[23m -0.0115, -0.0040, 0.0024, -0.0224, 0.0222, -0.0030, 0.0150,…\n",
      "$ RF        \u001b[3m\u001b[38;5;246m<dbl>\u001b[39m\u001b[23m 0.0027, 0.0025, 0.0027, 0.0029, 0.0027, 0.0029, 0.0030, 0.0…\n",
      "$ Mom       \u001b[3m\u001b[38;5;246m<dbl>\u001b[39m\u001b[23m 0.0100, 0.0103, 0.0016, 0.0314, -0.0075, 0.0170, 0.0106, 0.…\n",
      "$ `HML-DEV` \u001b[3m\u001b[38;5;246m<dbl>\u001b[39m\u001b[23m -0.0059, 0.0028, 0.0027, -0.0211, 0.0091, -0.0081, 0.0092, …\n"
     ]
    }
   ],
   "source": [
    "momentum = read_csv(\"F-F_Momentum_Factor.CSV\", skip=13, n_max=1114) %>% \n",
    "    rename(year=X1) \n",
    "momentum[, 2] = momentum[, 2] / 100\n",
    "\n",
    "hmldev = read_csv(\"HML-DEV.csv\") %>% \n",
    "    rename(year=Date) \n",
    "hmldev[, 2] = hmldev[, 2] / 100\n",
    "\n",
    "aqr = data %>% \n",
    "    merge(momentum, by='year') %>%\n",
    "    merge(hmldev, by='year') %>%\n",
    "    mutate(HML=`HML-DEV`) %>%\n",
    "    glimpse()"
   ]
  },
  {
   "cell_type": "code",
   "execution_count": 8,
   "metadata": {},
   "outputs": [],
   "source": [
    "\n",
    "res = data.frame()\n",
    "\n",
    "for(name in colnames(aqr)[2:11])\n",
    "{\n",
    "    tmp = aqr[, c(name, colnames(aqr)[12:16], \"Mom\")] \n",
    "    tmp[name]  = tmp[name] - aqr[,17]\n",
    "    \n",
    "    formula = as.formula(paste(name, \"~\", paste(c(colnames(aqr)[12:16], \"Mom\") , collapse=\"+\")))\n",
    "    model = lm(formula , data=tmp)\n",
    "    alpha =  model$coefficients[[1]]\n",
    "    \n",
    "    tvalues = summary(model)[[\"coefficients\"]][,\"t value\"]\n",
    "    tvalues = as.list(tvalues)\n",
    "    tvalues[\"Alpha\"] = alpha\n",
    "\n",
    "    res = rbind(res, data.frame(tvalues))\n",
    "    row.names(res)[length(row.names(res))] = name\n",
    "}\n",
    "\n",
    "res = res %>%\n",
    "    rename(Intercept = X.Intercept.)\n",
    "write.csv(res,\"./10x6.csv\")"
   ]
  },
  {
   "cell_type": "code",
   "execution_count": 9,
   "metadata": {},
   "outputs": [
    {
     "data": {
      "text/html": [
       "<table>\n",
       "<caption>A matrix: 1 × 1 of type dbl</caption>\n",
       "<thead>\n",
       "\t<tr><th scope=col>GRS</th></tr>\n",
       "</thead>\n",
       "<tbody>\n",
       "\t<tr><td>7.006258</td></tr>\n",
       "</tbody>\n",
       "</table>\n"
      ],
      "text/latex": [
       "A matrix: 1 × 1 of type dbl\n",
       "\\begin{tabular}{l}\n",
       " GRS\\\\\n",
       "\\hline\n",
       "\t 7.006258\\\\\n",
       "\\end{tabular}\n"
      ],
      "text/markdown": [
       "\n",
       "A matrix: 1 × 1 of type dbl\n",
       "\n",
       "| GRS |\n",
       "|---|\n",
       "| 7.006258 |\n",
       "\n"
      ],
      "text/plain": [
       "     GRS     \n",
       "[1,] 7.006258"
      ]
     },
     "metadata": {},
     "output_type": "display_data"
    }
   ],
   "source": [
    "aqr = aqr %>% na.omit()\n",
    "factor.mat = aqr[, c(colnames(aqr)[12:16], \"Mom\")]            # Fama-French 3-factor model\n",
    "ret.mat = aqr[, 2:11]      # 10 industry portfolio returns\n",
    "for(name in colnames(ret.mat))\n",
    "{\n",
    "    ret.mat[name] = ret.mat[name] - aqr[17]\n",
    "}\n",
    "GRS.test(ret.mat,factor.mat)$GRS.stat   # See Table 9C of Fama-French (1993"
   ]
  },
  {
   "cell_type": "code",
   "execution_count": 10,
   "metadata": {},
   "outputs": [
    {
     "data": {
      "text/html": [
       "<table>\n",
       "<caption>A matrix: 1 × 1 of type dbl</caption>\n",
       "<thead>\n",
       "\t<tr><th scope=col>GRS</th></tr>\n",
       "</thead>\n",
       "<tbody>\n",
       "\t<tr><td>1.689499e-10</td></tr>\n",
       "</tbody>\n",
       "</table>\n"
      ],
      "text/latex": [
       "A matrix: 1 × 1 of type dbl\n",
       "\\begin{tabular}{l}\n",
       " GRS\\\\\n",
       "\\hline\n",
       "\t 1.689499e-10\\\\\n",
       "\\end{tabular}\n"
      ],
      "text/markdown": [
       "\n",
       "A matrix: 1 × 1 of type dbl\n",
       "\n",
       "| GRS |\n",
       "|---|\n",
       "| 1.689499e-10 |\n",
       "\n"
      ],
      "text/plain": [
       "     GRS         \n",
       "[1,] 1.689499e-10"
      ]
     },
     "metadata": {},
     "output_type": "display_data"
    }
   ],
   "source": [
    "GRS.test(ret.mat,factor.mat)$GRS.pval"
   ]
  }
 ],
 "metadata": {
  "kernelspec": {
   "display_name": "R",
   "language": "R",
   "name": "ir"
  },
  "language_info": {
   "codemirror_mode": "r",
   "file_extension": ".r",
   "mimetype": "text/x-r-source",
   "name": "R",
   "pygments_lexer": "r",
   "version": "3.4.4"
  }
 },
 "nbformat": 4,
 "nbformat_minor": 4
}

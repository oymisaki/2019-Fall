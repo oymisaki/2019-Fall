{
 "cells": [
  {
   "cell_type": "code",
   "execution_count": 1,
   "metadata": {},
   "outputs": [
    {
     "name": "stderr",
     "output_type": "stream",
     "text": [
      "── \u001b[1mAttaching packages\u001b[22m ─────────────────────────────────────── tidyverse 1.2.1 ──\n",
      "\u001b[32m✔\u001b[39m \u001b[34mggplot2\u001b[39m 3.2.1     \u001b[32m✔\u001b[39m \u001b[34mpurrr  \u001b[39m 0.3.2\n",
      "\u001b[32m✔\u001b[39m \u001b[34mtibble \u001b[39m 2.1.3     \u001b[32m✔\u001b[39m \u001b[34mdplyr  \u001b[39m 0.8.3\n",
      "\u001b[32m✔\u001b[39m \u001b[34mtidyr  \u001b[39m 0.8.3     \u001b[32m✔\u001b[39m \u001b[34mstringr\u001b[39m 1.4.0\n",
      "\u001b[32m✔\u001b[39m \u001b[34mreadr  \u001b[39m 1.3.1     \u001b[32m✔\u001b[39m \u001b[34mforcats\u001b[39m 0.4.0\n",
      "── \u001b[1mConflicts\u001b[22m ────────────────────────────────────────── tidyverse_conflicts() ──\n",
      "\u001b[31m✖\u001b[39m \u001b[34mdplyr\u001b[39m::\u001b[32mfilter()\u001b[39m masks \u001b[34mstats\u001b[39m::filter()\n",
      "\u001b[31m✖\u001b[39m \u001b[34mdplyr\u001b[39m::\u001b[32mlag()\u001b[39m    masks \u001b[34mstats\u001b[39m::lag()\n"
     ]
    }
   ],
   "source": [
    "library(tidyverse)\n",
    "library(dplyr)"
   ]
  },
  {
   "cell_type": "code",
   "execution_count": 2,
   "metadata": {},
   "outputs": [
    {
     "name": "stderr",
     "output_type": "stream",
     "text": [
      "Warning message:\n",
      "“Missing column names filled in: 'X1' [1]”Parsed with column specification:\n",
      "cols(\n",
      "  .default = col_double()\n",
      ")\n",
      "See spec(...) for full column specifications.\n",
      "Warning message:\n",
      "“3 parsing failures.\n",
      " row col   expected                                    actual                    file\n",
      "1120  X1 a double   Average Equal Weighted Returns -- Monthly '25_Portfolios_5x5.CSV'\n",
      "1120  -- 26 columns 1 columns                                 '25_Portfolios_5x5.CSV'\n",
      "1120  -- 26 columns 1 columns                                 '25_Portfolios_5x5.CSV'\n",
      "”Warning message:\n",
      "“funs() is soft deprecated as of dplyr 0.8.0\n",
      "Please use a list of either functions or lambdas: \n",
      "\n",
      "  # Simple named list: \n",
      "  list(mean = mean, median = median)\n",
      "\n",
      "  # Auto named with `tibble::lst()`: \n",
      "  tibble::lst(mean, median)\n",
      "\n",
      "  # Using lambdas\n",
      "  list(~ mean(., trim = .2), ~ median(., na.rm = TRUE))\n",
      "\u001b[90mThis warning is displayed once per session.\u001b[39m”"
     ]
    },
    {
     "name": "stdout",
     "output_type": "stream",
     "text": [
      "Observations: 1,120\n",
      "Variables: 26\n",
      "$ year      \u001b[3m\u001b[38;5;246m<dbl>\u001b[39m\u001b[23m 192607, 192608, 192609, 192610, 192611, 192612, 192701, 192…\n",
      "$ SMALLLoBM \u001b[3m\u001b[38;5;246m<dbl>\u001b[39m\u001b[23m 3.7782, -2.2074, -6.2113, -8.6241, 3.4744, 13.9458, 0.4474,…\n",
      "$ ME1BM2    \u001b[3m\u001b[38;5;246m<dbl>\u001b[39m\u001b[23m -0.4119, -8.7275, -0.2989, -3.7532, 6.6476, -1.9772, -8.299…\n",
      "$ ME1BM3    \u001b[3m\u001b[38;5;246m<dbl>\u001b[39m\u001b[23m -1.9434, 2.4404, -6.1982, -5.6719, 2.2634, 0.1384, -4.7873,…\n",
      "$ ME1BM4    \u001b[3m\u001b[38;5;246m<dbl>\u001b[39m\u001b[23m 0.3530, 0.6086, -1.6368, 5.7170, -4.7020, 3.6213, 3.2267, 3…\n",
      "$ SMALLHiBM \u001b[3m\u001b[38;5;246m<dbl>\u001b[39m\u001b[23m 2.0534, 8.3968, 0.8649, -2.5476, 0.5362, 0.8556, 2.0166, 10…\n",
      "$ ME2BM1    \u001b[3m\u001b[38;5;246m<dbl>\u001b[39m\u001b[23m 2.1904, 2.1709, -1.8550, -1.7995, 2.9051, 3.3002, 2.5600, 1…\n",
      "$ ME2BM2    \u001b[3m\u001b[38;5;246m<dbl>\u001b[39m\u001b[23m 2.4192, -1.1849, -1.2618, -3.2663, -2.3690, 4.7507, -4.2365…\n",
      "$ ME2BM3    \u001b[3m\u001b[38;5;246m<dbl>\u001b[39m\u001b[23m 0.4926, 4.0084, 1.0829, -5.0745, 3.0078, 1.2089, -0.0640, 7…\n",
      "$ ME2BM4    \u001b[3m\u001b[38;5;246m<dbl>\u001b[39m\u001b[23m -1.5770, 0.4643, -3.0405, -8.0450, 4.6649, 2.6527, -0.6724,…\n",
      "$ ME2BM5    \u001b[3m\u001b[38;5;246m<dbl>\u001b[39m\u001b[23m -0.3344, 6.1675, -0.9401, -1.3213, 2.7292, 5.1980, 11.0570,…\n",
      "$ ME3BM1    \u001b[3m\u001b[38;5;246m<dbl>\u001b[39m\u001b[23m 1.9116, -0.9390, -0.3898, -5.1161, 1.9107, -1.3186, -0.6319…\n",
      "$ ME3BM2    \u001b[3m\u001b[38;5;246m<dbl>\u001b[39m\u001b[23m 2.4336, 2.3886, 0.1690, -2.5583, 4.5467, 2.3963, -0.2200, 5…\n",
      "$ ME3BM3    \u001b[3m\u001b[38;5;246m<dbl>\u001b[39m\u001b[23m 0.0053, 1.9681, -2.1368, 0.2670, 0.0854, -1.2709, -0.6624, …\n",
      "$ ME3BM4    \u001b[3m\u001b[38;5;246m<dbl>\u001b[39m\u001b[23m 3.4572, 4.4450, 2.6865, -1.9818, 5.1183, 2.8578, 2.5541, 6.…\n",
      "$ ME3BM5    \u001b[3m\u001b[38;5;246m<dbl>\u001b[39m\u001b[23m -1.2629, 8.1169, -3.6215, -3.1373, 3.7333, 1.5349, 2.5541, …\n",
      "$ ME4BM1    \u001b[3m\u001b[38;5;246m<dbl>\u001b[39m\u001b[23m 1.5893, 1.3336, 1.0923, -3.3361, 3.4448, 3.4702, 2.3758, 5.…\n",
      "$ ME4BM2    \u001b[3m\u001b[38;5;246m<dbl>\u001b[39m\u001b[23m 1.5278, 3.8730, -0.5250, -2.6559, 2.3887, 2.6069, 1.4701, 4…\n",
      "$ ME4BM3    \u001b[3m\u001b[38;5;246m<dbl>\u001b[39m\u001b[23m 1.1869, 2.0059, -1.7314, -2.0316, 3.7403, 1.7491, -0.5123, …\n",
      "$ ME4BM4    \u001b[3m\u001b[38;5;246m<dbl>\u001b[39m\u001b[23m 0.2727, 2.1706, 1.4646, -3.1051, 4.9320, 3.0306, 0.2313, 6.…\n",
      "$ ME4BM5    \u001b[3m\u001b[38;5;246m<dbl>\u001b[39m\u001b[23m 2.4678, 5.3422, 0.8730, -5.3525, 1.8213, 0.1578, 7.3063, 11…\n",
      "$ BIGLoBM   \u001b[3m\u001b[38;5;246m<dbl>\u001b[39m\u001b[23m 3.4539, 1.0124, -1.2906, -2.7413, 4.2946, 1.4887, -0.7756, …\n",
      "$ ME5BM2    \u001b[3m\u001b[38;5;246m<dbl>\u001b[39m\u001b[23m 6.0902, 4.1903, 3.6538, -3.0071, 2.5326, 3.4585, 0.3281, 5.…\n",
      "$ ME5BM3    \u001b[3m\u001b[38;5;246m<dbl>\u001b[39m\u001b[23m 2.0266, 2.0131, 0.0950, -2.2437, 1.5204, 1.9777, -0.4374, 3…\n",
      "$ ME5BM4    \u001b[3m\u001b[38;5;246m<dbl>\u001b[39m\u001b[23m 3.1111, 5.4849, -0.7487, -4.6719, 3.6619, 6.2357, 0.5498, 5…\n",
      "$ BIGHiBM   \u001b[3m\u001b[38;5;246m<dbl>\u001b[39m\u001b[23m 0.5623, 7.7576, -2.4284, -5.8129, 2.5636, 2.4024, 4.2141, 6…\n"
     ]
    },
    {
     "name": "stderr",
     "output_type": "stream",
     "text": [
      "Warning message:\n",
      "“Missing column names filled in: 'X1' [1]”Warning message:\n",
      "“3 parsing failures.\n",
      "row col  expected                           actual                                  file\n",
      "676  X1 a double  Annual Factors: January-December 'F-F_Research_Data_5_Factors_2x3.CSV'\n",
      "676  -- 7 columns 1 columns                        'F-F_Research_Data_5_Factors_2x3.CSV'\n",
      "676  -- 7 columns 1 columns                        'F-F_Research_Data_5_Factors_2x3.CSV'\n",
      "”"
     ]
    },
    {
     "name": "stdout",
     "output_type": "stream",
     "text": [
      "Observations: 676\n",
      "Variables: 32\n",
      "$ year      \u001b[3m\u001b[38;5;246m<dbl>\u001b[39m\u001b[23m 196307, 196308, 196309, 196310, 196311, 196312, 196401, 196…\n",
      "$ SMALLLoBM \u001b[3m\u001b[38;5;246m<dbl>\u001b[39m\u001b[23m 0.011234, 0.042429, -0.028922, 0.012861, -0.033793, -0.0235…\n",
      "$ ME1BM2    \u001b[3m\u001b[38;5;246m<dbl>\u001b[39m\u001b[23m -0.001481, 0.014831, 0.007027, -0.006491, -0.040355, -0.011…\n",
      "$ ME1BM3    \u001b[3m\u001b[38;5;246m<dbl>\u001b[39m\u001b[23m 0.005563, 0.013214, -0.010869, 0.012443, -0.015969, -0.0090…\n",
      "$ ME1BM4    \u001b[3m\u001b[38;5;246m<dbl>\u001b[39m\u001b[23m 0.001097, 0.023701, -0.015812, 0.001000, -0.010548, -0.0163…\n",
      "$ SMALLHiBM \u001b[3m\u001b[38;5;246m<dbl>\u001b[39m\u001b[23m -0.013212, 0.046745, -0.003581, 0.023724, -0.010454, -0.010…\n",
      "$ ME2BM1    \u001b[3m\u001b[38;5;246m<dbl>\u001b[39m\u001b[23m -0.018721, 0.053983, -0.039164, 0.011882, -0.041822, -0.006…\n",
      "$ ME2BM2    \u001b[3m\u001b[38;5;246m<dbl>\u001b[39m\u001b[23m 0.002945, 0.046462, -0.015713, 0.043011, -0.017644, -0.0091…\n",
      "$ ME2BM3    \u001b[3m\u001b[38;5;246m<dbl>\u001b[39m\u001b[23m -0.008445, 0.043639, -0.006417, 0.023438, -0.007064, 0.0115…\n",
      "$ ME2BM4    \u001b[3m\u001b[38;5;246m<dbl>\u001b[39m\u001b[23m -0.019644, 0.044188, -0.011812, 0.022012, -0.001002, 0.0089…\n",
      "$ ME2BM5    \u001b[3m\u001b[38;5;246m<dbl>\u001b[39m\u001b[23m -0.011889, 0.082329, -0.029149, 0.039335, -0.001132, 0.0012…\n",
      "$ ME3BM1    \u001b[3m\u001b[38;5;246m<dbl>\u001b[39m\u001b[23m -0.023295, 0.052577, -0.044644, 0.023590, -0.030302, 0.0035…\n",
      "$ ME3BM2    \u001b[3m\u001b[38;5;246m<dbl>\u001b[39m\u001b[23m -0.013042, 0.050255, -0.015314, 0.005880, -0.015240, 0.0147…\n",
      "$ ME3BM3    \u001b[3m\u001b[38;5;246m<dbl>\u001b[39m\u001b[23m -0.007967, 0.054633, -0.004876, 0.027346, -0.009410, 0.0127…\n",
      "$ ME3BM4    \u001b[3m\u001b[38;5;246m<dbl>\u001b[39m\u001b[23m -0.022305, 0.048264, -0.003268, 0.020481, -0.007518, 0.0171…\n",
      "$ ME3BM5    \u001b[3m\u001b[38;5;246m<dbl>\u001b[39m\u001b[23m -0.017984, 0.051541, -0.018203, 0.010680, -0.012116, 0.0046…\n",
      "$ ME4BM1    \u001b[3m\u001b[38;5;246m<dbl>\u001b[39m\u001b[23m -0.008456, 0.053965, -0.026893, -0.004287, -0.008648, -0.00…\n",
      "$ ME4BM2    \u001b[3m\u001b[38;5;246m<dbl>\u001b[39m\u001b[23m -0.017052, 0.047614, -0.020139, 0.009057, -0.008828, 0.0119…\n",
      "$ ME4BM3    \u001b[3m\u001b[38;5;246m<dbl>\u001b[39m\u001b[23m -0.020042, 0.062068, -0.018941, 0.023459, -0.004882, 0.0172…\n",
      "$ ME4BM4    \u001b[3m\u001b[38;5;246m<dbl>\u001b[39m\u001b[23m -0.016657, 0.075619, -0.035823, 0.053382, 0.011451, 0.03139…\n",
      "$ ME4BM5    \u001b[3m\u001b[38;5;246m<dbl>\u001b[39m\u001b[23m -0.018567, 0.053469, -0.019943, 0.006113, 0.035388, 0.06149…\n",
      "$ BIGLoBM   \u001b[3m\u001b[38;5;246m<dbl>\u001b[39m\u001b[23m 0.001401, 0.057710, -0.013721, 0.053261, -0.012561, 0.02623…\n",
      "$ ME5BM2    \u001b[3m\u001b[38;5;246m<dbl>\u001b[39m\u001b[23m 0.004524, 0.042230, -0.007720, 0.017383, 0.009849, 0.022981…\n",
      "$ ME5BM3    \u001b[3m\u001b[38;5;246m<dbl>\u001b[39m\u001b[23m 0.012557, 0.047487, -0.009852, -0.002829, -0.015542, 0.0229…\n",
      "$ ME5BM4    \u001b[3m\u001b[38;5;246m<dbl>\u001b[39m\u001b[23m -0.004290, 0.081419, -0.001905, 0.024150, -0.021322, 0.0251…\n",
      "$ BIGHiBM   \u001b[3m\u001b[38;5;246m<dbl>\u001b[39m\u001b[23m -0.011026, 0.063824, -0.034963, 0.004857, 0.013455, 0.02130…\n",
      "$ MktRF     \u001b[3m\u001b[38;5;246m<dbl>\u001b[39m\u001b[23m -0.0039, 0.0507, -0.0157, 0.0253, -0.0085, 0.0183, 0.0224, …\n",
      "$ SMB       \u001b[3m\u001b[38;5;246m<dbl>\u001b[39m\u001b[23m -0.0047, -0.0079, -0.0048, -0.0129, -0.0084, -0.0189, 0.000…\n",
      "$ HML       \u001b[3m\u001b[38;5;246m<dbl>\u001b[39m\u001b[23m -0.0083, 0.0167, 0.0018, -0.0010, 0.0171, -0.0012, 0.0159, …\n",
      "$ RMW       \u001b[3m\u001b[38;5;246m<dbl>\u001b[39m\u001b[23m 0.0066, 0.0039, -0.0076, 0.0275, -0.0045, 0.0008, 0.0022, 0…\n",
      "$ CMA       \u001b[3m\u001b[38;5;246m<dbl>\u001b[39m\u001b[23m -0.0115, -0.0040, 0.0024, -0.0224, 0.0222, -0.0030, 0.0150,…\n",
      "$ RF        \u001b[3m\u001b[38;5;246m<dbl>\u001b[39m\u001b[23m 0.0027, 0.0025, 0.0027, 0.0029, 0.0027, 0.0029, 0.0030, 0.0…\n"
     ]
    }
   ],
   "source": [
    "portfolios = read_csv(\"25_Portfolios_5x5.CSV\", skip = 15, n_max=1120) %>%\n",
    "    rename_all(funs(str_replace(., \" \", \"\"))) %>%\n",
    "    rename(year=X1) %>% glimpse()\n",
    "\n",
    "famafrench = read_csv(\"F-F_Research_Data_5_Factors_2x3.CSV\", skip=3, n_max=676, col_types=cols(\n",
    "                      X1 = col_double(),\n",
    "                      `Mkt-RF` = col_double(),\n",
    "                      SMB = col_double(),\n",
    "                      HML = col_double(),\n",
    "                      RMW = col_double(),\n",
    "                      CMA = col_double(),\n",
    "                      RF = col_double()\n",
    "                    )) %>%\n",
    "    rename(year=X1) %>%\n",
    "    rename_all(funs(str_replace(., \"-\", \"\")))\n",
    "\n",
    "data = portfolios %>%\n",
    "    inner_join(famafrench, by=\"year\") \n",
    "\n",
    "for(name in colnames(data)[2:32])\n",
    "{\n",
    "    data[name] = data[name] / 100\n",
    "}\n",
    "\n",
    "data %>%\n",
    "    glimpse()"
   ]
  },
  {
   "cell_type": "code",
   "execution_count": 4,
   "metadata": {},
   "outputs": [],
   "source": [
    "\n",
    "res = data.frame()\n",
    "for(name in colnames(data)[2:26])\n",
    "{\n",
    "    tmp = data[, c(name, colnames(data)[27:31])] \n",
    "    tmp[name]  = tmp[name] - data[,32]\n",
    "    \n",
    "    formula = as.formula(paste(name, \"~\", paste(colnames(data)[27:31] , collapse=\"+\")))\n",
    "    model = lm(formula , data=tmp)\n",
    "    alpha =  model$coefficients[[1]]\n",
    "    \n",
    "    tvalues = summary(model)[[\"coefficients\"]][,\"t value\"]\n",
    "    tvalues = as.list(tvalues)\n",
    "    tvalues[\"Alpha\"] = alpha\n",
    "    \n",
    "    res = rbind(res, data.frame(tvalues))\n",
    "    row.names(res)[length(row.names(res))] = name\n",
    "}\n",
    "\n",
    "res = res %>%\n",
    "    rename(Intercept = X.Intercept.)\n",
    "    \n",
    "write.csv(res,\"./25x5.csv\")"
   ]
  },
  {
   "cell_type": "code",
   "execution_count": 6,
   "metadata": {},
   "outputs": [],
   "source": [
    "library(GRS.test)"
   ]
  },
  {
   "cell_type": "code",
   "execution_count": 7,
   "metadata": {},
   "outputs": [
    {
     "data": {
      "text/html": [
       "<table>\n",
       "<caption>A matrix: 1 × 1 of type dbl</caption>\n",
       "<thead>\n",
       "\t<tr><th scope=col>GRS</th></tr>\n",
       "</thead>\n",
       "<tbody>\n",
       "\t<tr><td>3.109548</td></tr>\n",
       "</tbody>\n",
       "</table>\n"
      ],
      "text/latex": [
       "A matrix: 1 × 1 of type dbl\n",
       "\\begin{tabular}{l}\n",
       " GRS\\\\\n",
       "\\hline\n",
       "\t 3.109548\\\\\n",
       "\\end{tabular}\n"
      ],
      "text/markdown": [
       "\n",
       "A matrix: 1 × 1 of type dbl\n",
       "\n",
       "| GRS |\n",
       "|---|\n",
       "| 3.109548 |\n",
       "\n"
      ],
      "text/plain": [
       "     GRS     \n",
       "[1,] 3.109548"
      ]
     },
     "metadata": {},
     "output_type": "display_data"
    }
   ],
   "source": [
    "data = data %>% na.omit()\n",
    "factor.mat = data[, 27:31]             # Fama-French 3-factor model\n",
    "\n",
    "ret.mat = data[, 2:26]      # 25 size-BM portfolio returns\n",
    "for(name in colnames(ret.mat))\n",
    "{\n",
    "    ret.mat[name] = ret.mat[name] - data[32]\n",
    "}\n",
    "GRS.test(ret.mat,factor.mat)$GRS.stat   # See Table 9C of Fama-French (1993"
   ]
  },
  {
   "cell_type": "code",
   "execution_count": 8,
   "metadata": {},
   "outputs": [
    {
     "data": {
      "text/html": [
       "<table>\n",
       "<caption>A matrix: 1 × 1 of type dbl</caption>\n",
       "<thead>\n",
       "\t<tr><th scope=col>GRS</th></tr>\n",
       "</thead>\n",
       "<tbody>\n",
       "\t<tr><td>7.562875e-07</td></tr>\n",
       "</tbody>\n",
       "</table>\n"
      ],
      "text/latex": [
       "A matrix: 1 × 1 of type dbl\n",
       "\\begin{tabular}{l}\n",
       " GRS\\\\\n",
       "\\hline\n",
       "\t 7.562875e-07\\\\\n",
       "\\end{tabular}\n"
      ],
      "text/markdown": [
       "\n",
       "A matrix: 1 × 1 of type dbl\n",
       "\n",
       "| GRS |\n",
       "|---|\n",
       "| 7.562875e-07 |\n",
       "\n"
      ],
      "text/plain": [
       "     GRS         \n",
       "[1,] 7.562875e-07"
      ]
     },
     "metadata": {},
     "output_type": "display_data"
    }
   ],
   "source": [
    "GRS.test(ret.mat,factor.mat)$GRS.pval"
   ]
  },
  {
   "cell_type": "code",
   "execution_count": 13,
   "metadata": {},
   "outputs": [
    {
     "name": "stderr",
     "output_type": "stream",
     "text": [
      "Warning message:\n",
      "“Missing column names filled in: 'X1' [1]”Parsed with column specification:\n",
      "cols(\n",
      "  X1 = \u001b[32mcol_double()\u001b[39m,\n",
      "  Mom = \u001b[32mcol_double()\u001b[39m\n",
      ")\n",
      "Warning message:\n",
      "“3 parsing failures.\n",
      " row col  expected          actual                      file\n",
      "1114  X1 a double  Annual Factors: 'F-F_Momentum_Factor.CSV'\n",
      "1114  -- 2 columns 1 columns       'F-F_Momentum_Factor.CSV'\n",
      "1114  -- 2 columns 1 columns       'F-F_Momentum_Factor.CSV'\n",
      "”Parsed with column specification:\n",
      "cols(\n",
      "  Date = \u001b[32mcol_double()\u001b[39m,\n",
      "  `HML-DEV` = \u001b[32mcol_double()\u001b[39m\n",
      ")\n"
     ]
    },
    {
     "name": "stdout",
     "output_type": "stream",
     "text": [
      "Observations: 675\n",
      "Variables: 34\n",
      "$ year      \u001b[3m\u001b[38;5;246m<dbl>\u001b[39m\u001b[23m 196307, 196308, 196309, 196310, 196311, 196312, 196401, 196…\n",
      "$ SMALLLoBM \u001b[3m\u001b[38;5;246m<dbl>\u001b[39m\u001b[23m 0.011234, 0.042429, -0.028922, 0.012861, -0.033793, -0.0235…\n",
      "$ ME1BM2    \u001b[3m\u001b[38;5;246m<dbl>\u001b[39m\u001b[23m -0.001481, 0.014831, 0.007027, -0.006491, -0.040355, -0.011…\n",
      "$ ME1BM3    \u001b[3m\u001b[38;5;246m<dbl>\u001b[39m\u001b[23m 0.005563, 0.013214, -0.010869, 0.012443, -0.015969, -0.0090…\n",
      "$ ME1BM4    \u001b[3m\u001b[38;5;246m<dbl>\u001b[39m\u001b[23m 0.001097, 0.023701, -0.015812, 0.001000, -0.010548, -0.0163…\n",
      "$ SMALLHiBM \u001b[3m\u001b[38;5;246m<dbl>\u001b[39m\u001b[23m -0.013212, 0.046745, -0.003581, 0.023724, -0.010454, -0.010…\n",
      "$ ME2BM1    \u001b[3m\u001b[38;5;246m<dbl>\u001b[39m\u001b[23m -0.018721, 0.053983, -0.039164, 0.011882, -0.041822, -0.006…\n",
      "$ ME2BM2    \u001b[3m\u001b[38;5;246m<dbl>\u001b[39m\u001b[23m 0.002945, 0.046462, -0.015713, 0.043011, -0.017644, -0.0091…\n",
      "$ ME2BM3    \u001b[3m\u001b[38;5;246m<dbl>\u001b[39m\u001b[23m -0.008445, 0.043639, -0.006417, 0.023438, -0.007064, 0.0115…\n",
      "$ ME2BM4    \u001b[3m\u001b[38;5;246m<dbl>\u001b[39m\u001b[23m -0.019644, 0.044188, -0.011812, 0.022012, -0.001002, 0.0089…\n",
      "$ ME2BM5    \u001b[3m\u001b[38;5;246m<dbl>\u001b[39m\u001b[23m -0.011889, 0.082329, -0.029149, 0.039335, -0.001132, 0.0012…\n",
      "$ ME3BM1    \u001b[3m\u001b[38;5;246m<dbl>\u001b[39m\u001b[23m -0.023295, 0.052577, -0.044644, 0.023590, -0.030302, 0.0035…\n",
      "$ ME3BM2    \u001b[3m\u001b[38;5;246m<dbl>\u001b[39m\u001b[23m -0.013042, 0.050255, -0.015314, 0.005880, -0.015240, 0.0147…\n",
      "$ ME3BM3    \u001b[3m\u001b[38;5;246m<dbl>\u001b[39m\u001b[23m -0.007967, 0.054633, -0.004876, 0.027346, -0.009410, 0.0127…\n",
      "$ ME3BM4    \u001b[3m\u001b[38;5;246m<dbl>\u001b[39m\u001b[23m -0.022305, 0.048264, -0.003268, 0.020481, -0.007518, 0.0171…\n",
      "$ ME3BM5    \u001b[3m\u001b[38;5;246m<dbl>\u001b[39m\u001b[23m -0.017984, 0.051541, -0.018203, 0.010680, -0.012116, 0.0046…\n",
      "$ ME4BM1    \u001b[3m\u001b[38;5;246m<dbl>\u001b[39m\u001b[23m -0.008456, 0.053965, -0.026893, -0.004287, -0.008648, -0.00…\n",
      "$ ME4BM2    \u001b[3m\u001b[38;5;246m<dbl>\u001b[39m\u001b[23m -0.017052, 0.047614, -0.020139, 0.009057, -0.008828, 0.0119…\n",
      "$ ME4BM3    \u001b[3m\u001b[38;5;246m<dbl>\u001b[39m\u001b[23m -0.020042, 0.062068, -0.018941, 0.023459, -0.004882, 0.0172…\n",
      "$ ME4BM4    \u001b[3m\u001b[38;5;246m<dbl>\u001b[39m\u001b[23m -0.016657, 0.075619, -0.035823, 0.053382, 0.011451, 0.03139…\n",
      "$ ME4BM5    \u001b[3m\u001b[38;5;246m<dbl>\u001b[39m\u001b[23m -0.018567, 0.053469, -0.019943, 0.006113, 0.035388, 0.06149…\n",
      "$ BIGLoBM   \u001b[3m\u001b[38;5;246m<dbl>\u001b[39m\u001b[23m 0.001401, 0.057710, -0.013721, 0.053261, -0.012561, 0.02623…\n",
      "$ ME5BM2    \u001b[3m\u001b[38;5;246m<dbl>\u001b[39m\u001b[23m 0.004524, 0.042230, -0.007720, 0.017383, 0.009849, 0.022981…\n",
      "$ ME5BM3    \u001b[3m\u001b[38;5;246m<dbl>\u001b[39m\u001b[23m 0.012557, 0.047487, -0.009852, -0.002829, -0.015542, 0.0229…\n",
      "$ ME5BM4    \u001b[3m\u001b[38;5;246m<dbl>\u001b[39m\u001b[23m -0.004290, 0.081419, -0.001905, 0.024150, -0.021322, 0.0251…\n",
      "$ BIGHiBM   \u001b[3m\u001b[38;5;246m<dbl>\u001b[39m\u001b[23m -0.011026, 0.063824, -0.034963, 0.004857, 0.013455, 0.02130…\n",
      "$ MktRF     \u001b[3m\u001b[38;5;246m<dbl>\u001b[39m\u001b[23m -0.0039, 0.0507, -0.0157, 0.0253, -0.0085, 0.0183, 0.0224, …\n",
      "$ SMB       \u001b[3m\u001b[38;5;246m<dbl>\u001b[39m\u001b[23m -0.0047, -0.0079, -0.0048, -0.0129, -0.0084, -0.0189, 0.000…\n",
      "$ HML       \u001b[3m\u001b[38;5;246m<dbl>\u001b[39m\u001b[23m -0.0059, 0.0028, 0.0027, -0.0211, 0.0091, -0.0081, 0.0092, …\n",
      "$ RMW       \u001b[3m\u001b[38;5;246m<dbl>\u001b[39m\u001b[23m 0.0066, 0.0039, -0.0076, 0.0275, -0.0045, 0.0008, 0.0022, 0…\n",
      "$ CMA       \u001b[3m\u001b[38;5;246m<dbl>\u001b[39m\u001b[23m -0.0115, -0.0040, 0.0024, -0.0224, 0.0222, -0.0030, 0.0150,…\n",
      "$ RF        \u001b[3m\u001b[38;5;246m<dbl>\u001b[39m\u001b[23m 0.0027, 0.0025, 0.0027, 0.0029, 0.0027, 0.0029, 0.0030, 0.0…\n",
      "$ Mom       \u001b[3m\u001b[38;5;246m<dbl>\u001b[39m\u001b[23m 0.0100, 0.0103, 0.0016, 0.0314, -0.0075, 0.0170, 0.0106, 0.…\n",
      "$ `HML-DEV` \u001b[3m\u001b[38;5;246m<dbl>\u001b[39m\u001b[23m -0.0059, 0.0028, 0.0027, -0.0211, 0.0091, -0.0081, 0.0092, …\n"
     ]
    }
   ],
   "source": [
    "momentum = read_csv(\"F-F_Momentum_Factor.CSV\", skip=13, n_max=1114) %>% \n",
    "    rename(year=X1) \n",
    "momentum[, 2] = momentum[, 2] / 100\n",
    "\n",
    "hmldev = read_csv(\"HML-DEV.csv\") %>% \n",
    "    rename(year=Date) \n",
    "hmldev[, 2] = hmldev[, 2] / 100\n",
    "\n",
    "aqr = data %>% \n",
    "    merge(momentum, by='year') %>%\n",
    "    merge(hmldev, by='year') %>%\n",
    "    mutate(HML=`HML-DEV`) %>%\n",
    "    glimpse()"
   ]
  },
  {
   "cell_type": "code",
   "execution_count": 14,
   "metadata": {},
   "outputs": [],
   "source": [
    "\n",
    "res = data.frame()\n",
    "for(name in colnames(aqr)[2:26])\n",
    "{\n",
    "    tmp = aqr[, c(name, colnames(aqr)[27:31], \"Mom\")] \n",
    "    tmp[name]  = tmp[name] - aqr[,32]\n",
    "    \n",
    "    formula = as.formula(paste(name, \"~\", paste(c(colnames(aqr)[27:31], \"Mom\") , collapse=\"+\")))\n",
    "    model = lm(formula , data=tmp)\n",
    "    alpha =  model$coefficients[[1]]\n",
    "    \n",
    "    tvalues = summary(model)[[\"coefficients\"]][,\"t value\"]\n",
    "    tvalues = as.list(tvalues)\n",
    "    tvalues[\"Alpha\"] = alpha\n",
    "    \n",
    "    res = rbind(res, data.frame(tvalues))\n",
    "    row.names(res)[length(row.names(res))] = name\n",
    "}\n",
    "\n",
    "res = res %>%\n",
    "    rename(Intercept = X.Intercept.)\n",
    "write.csv(res,\"./25x6.csv\")"
   ]
  },
  {
   "cell_type": "code",
   "execution_count": 15,
   "metadata": {},
   "outputs": [
    {
     "data": {
      "text/html": [
       "<table>\n",
       "<caption>A matrix: 1 × 1 of type dbl</caption>\n",
       "<thead>\n",
       "\t<tr><th scope=col>GRS</th></tr>\n",
       "</thead>\n",
       "<tbody>\n",
       "\t<tr><td>4.223748</td></tr>\n",
       "</tbody>\n",
       "</table>\n"
      ],
      "text/latex": [
       "A matrix: 1 × 1 of type dbl\n",
       "\\begin{tabular}{l}\n",
       " GRS\\\\\n",
       "\\hline\n",
       "\t 4.223748\\\\\n",
       "\\end{tabular}\n"
      ],
      "text/markdown": [
       "\n",
       "A matrix: 1 × 1 of type dbl\n",
       "\n",
       "| GRS |\n",
       "|---|\n",
       "| 4.223748 |\n",
       "\n"
      ],
      "text/plain": [
       "     GRS     \n",
       "[1,] 4.223748"
      ]
     },
     "metadata": {},
     "output_type": "display_data"
    }
   ],
   "source": [
    "aqr = aqr %>% na.omit()\n",
    "factor.mat = aqr[, c(colnames(aqr)[27:31], \"Mom\")]   # Fama-French 6-factor model\n",
    "\n",
    "ret.mat = aqr[, 2:26]      # 25 size-BM portfolio returns\n",
    "for(name in colnames(ret.mat))\n",
    "{\n",
    "    ret.mat[name] = ret.mat[name] - aqr[32]\n",
    "}\n",
    "GRS.test(ret.mat,factor.mat)$GRS.stat   # See Table 9C of Fama-French (1993"
   ]
  },
  {
   "cell_type": "code",
   "execution_count": 261,
   "metadata": {},
   "outputs": [
    {
     "data": {
      "text/html": [
       "<table>\n",
       "<caption>A matrix: 1 × 1 of type dbl</caption>\n",
       "<thead>\n",
       "\t<tr><th scope=col>GRS</th></tr>\n",
       "</thead>\n",
       "<tbody>\n",
       "\t<tr><td>8.02855e-79</td></tr>\n",
       "</tbody>\n",
       "</table>\n"
      ],
      "text/latex": [
       "A matrix: 1 × 1 of type dbl\n",
       "\\begin{tabular}{l}\n",
       " GRS\\\\\n",
       "\\hline\n",
       "\t 8.02855e-79\\\\\n",
       "\\end{tabular}\n"
      ],
      "text/markdown": [
       "\n",
       "A matrix: 1 × 1 of type dbl\n",
       "\n",
       "| GRS |\n",
       "|---|\n",
       "| 8.02855e-79 |\n",
       "\n"
      ],
      "text/plain": [
       "     GRS        \n",
       "[1,] 8.02855e-79"
      ]
     },
     "metadata": {},
     "output_type": "display_data"
    }
   ],
   "source": [
    "GRS.test(ret.mat,factor.mat)$GRS.pval"
   ]
  }
 ],
 "metadata": {
  "kernelspec": {
   "display_name": "R",
   "language": "R",
   "name": "ir"
  },
  "language_info": {
   "codemirror_mode": "r",
   "file_extension": ".r",
   "mimetype": "text/x-r-source",
   "name": "R",
   "pygments_lexer": "r",
   "version": "3.4.4"
  }
 },
 "nbformat": 4,
 "nbformat_minor": 4
}

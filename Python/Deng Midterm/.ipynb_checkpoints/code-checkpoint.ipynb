{
 "cells": [
  {
   "cell_type": "code",
   "execution_count": 1,
   "metadata": {},
   "outputs": [],
   "source": [
    "import sys\n",
    "sys.path.append(\"./lib64/python3.6/site-packages\")"
   ]
  },
  {
   "cell_type": "code",
   "execution_count": 2,
   "metadata": {},
   "outputs": [],
   "source": [
    "import quandl\n",
    "quandl.ApiConfig.api_key = \"ihb1tjz1KpaPsjyU6xMc\""
   ]
  },
  {
   "cell_type": "code",
   "execution_count": 3,
   "metadata": {},
   "outputs": [],
   "source": [
    "import pandas as pd\n",
    "import numpy as np\n",
    "from statsmodels.api import OLS\n",
    "from sklearn.metrics import mean_squared_error\n",
    "from scipy.stats import spearmanr\n",
    "from sklearn.linear_model import LinearRegression, Ridge, RidgeCV, Lasso, LassoCV, LogisticRegression\n",
    "from sklearn.metrics import roc_auc_score\n",
    "import matplotlib.pyplot as plt\n",
    "from sklearn.preprocessing import StandardScaler"
   ]
  },
  {
   "cell_type": "code",
   "execution_count": 4,
   "metadata": {},
   "outputs": [],
   "source": [
    "data = quandl.get_table('WIKI/PRICES', \n",
    "                        ticker = ['AAPL', 'MSFT', 'WMT'], \n",
    "                        qopts = { 'columns': ['ticker', 'date', 'adj_close', 'adj_volume'] }, \n",
    "                        date = { 'gte': '2000-01-01', 'lte': '2019-01-10' }, \n",
    "                        paginate=True)"
   ]
  },
  {
   "cell_type": "code",
   "execution_count": 5,
   "metadata": {},
   "outputs": [
    {
     "data": {
      "text/html": [
       "<div>\n",
       "<style scoped>\n",
       "    .dataframe tbody tr th:only-of-type {\n",
       "        vertical-align: middle;\n",
       "    }\n",
       "\n",
       "    .dataframe tbody tr th {\n",
       "        vertical-align: top;\n",
       "    }\n",
       "\n",
       "    .dataframe thead th {\n",
       "        text-align: right;\n",
       "    }\n",
       "</style>\n",
       "<table border=\"1\" class=\"dataframe\">\n",
       "  <thead>\n",
       "    <tr style=\"text-align: right;\">\n",
       "      <th></th>\n",
       "      <th></th>\n",
       "      <th>ticker</th>\n",
       "      <th>date</th>\n",
       "      <th>adj_close</th>\n",
       "      <th>adj_volume</th>\n",
       "    </tr>\n",
       "    <tr>\n",
       "      <th>ticker</th>\n",
       "      <th>date</th>\n",
       "      <th></th>\n",
       "      <th></th>\n",
       "      <th></th>\n",
       "      <th></th>\n",
       "    </tr>\n",
       "  </thead>\n",
       "  <tbody>\n",
       "    <tr>\n",
       "      <th rowspan=\"5\" valign=\"top\">WMT</th>\n",
       "      <th>2018-03-27</th>\n",
       "      <td>WMT</td>\n",
       "      <td>2018-03-27</td>\n",
       "      <td>86.05</td>\n",
       "      <td>6395554.0</td>\n",
       "    </tr>\n",
       "    <tr>\n",
       "      <th>2018-03-26</th>\n",
       "      <td>WMT</td>\n",
       "      <td>2018-03-26</td>\n",
       "      <td>87.50</td>\n",
       "      <td>8640866.0</td>\n",
       "    </tr>\n",
       "    <tr>\n",
       "      <th>2018-03-23</th>\n",
       "      <td>WMT</td>\n",
       "      <td>2018-03-23</td>\n",
       "      <td>85.42</td>\n",
       "      <td>9762296.0</td>\n",
       "    </tr>\n",
       "    <tr>\n",
       "      <th>2018-03-22</th>\n",
       "      <td>WMT</td>\n",
       "      <td>2018-03-22</td>\n",
       "      <td>87.14</td>\n",
       "      <td>11338049.0</td>\n",
       "    </tr>\n",
       "    <tr>\n",
       "      <th>2018-03-21</th>\n",
       "      <td>WMT</td>\n",
       "      <td>2018-03-21</td>\n",
       "      <td>88.18</td>\n",
       "      <td>11687930.0</td>\n",
       "    </tr>\n",
       "  </tbody>\n",
       "</table>\n",
       "</div>"
      ],
      "text/plain": [
       "                  ticker       date  adj_close  adj_volume\n",
       "ticker date                                               \n",
       "WMT    2018-03-27    WMT 2018-03-27      86.05   6395554.0\n",
       "       2018-03-26    WMT 2018-03-26      87.50   8640866.0\n",
       "       2018-03-23    WMT 2018-03-23      85.42   9762296.0\n",
       "       2018-03-22    WMT 2018-03-22      87.14  11338049.0\n",
       "       2018-03-21    WMT 2018-03-21      88.18  11687930.0"
      ]
     },
     "execution_count": 5,
     "metadata": {},
     "output_type": "execute_result"
    }
   ],
   "source": [
    "\n",
    "data.index = pd.MultiIndex.from_frame(data[[\"ticker\", \"date\"]])\n",
    "data.head()"
   ]
  },
  {
   "cell_type": "code",
   "execution_count": 6,
   "metadata": {},
   "outputs": [
    {
     "data": {
      "text/html": [
       "<div>\n",
       "<style scoped>\n",
       "    .dataframe tbody tr th:only-of-type {\n",
       "        vertical-align: middle;\n",
       "    }\n",
       "\n",
       "    .dataframe tbody tr th {\n",
       "        vertical-align: top;\n",
       "    }\n",
       "\n",
       "    .dataframe thead th {\n",
       "        text-align: right;\n",
       "    }\n",
       "</style>\n",
       "<table border=\"1\" class=\"dataframe\">\n",
       "  <thead>\n",
       "    <tr style=\"text-align: right;\">\n",
       "      <th></th>\n",
       "    </tr>\n",
       "  </thead>\n",
       "  <tbody>\n",
       "  </tbody>\n",
       "</table>\n",
       "</div>"
      ],
      "text/plain": [
       "Empty DataFrame\n",
       "Columns: []\n",
       "Index: []"
      ]
     },
     "execution_count": 6,
     "metadata": {},
     "output_type": "execute_result"
    }
   ],
   "source": [
    "# na\n",
    "data.groupby(data[\"ticker\"]).fillna(method=\"ffill\", inplace=True)"
   ]
  },
  {
   "cell_type": "code",
   "execution_count": 77,
   "metadata": {},
   "outputs": [
    {
     "data": {
      "text/plain": [
       "False"
      ]
     },
     "execution_count": 77,
     "metadata": {},
     "output_type": "execute_result"
    }
   ],
   "source": [
    "data.isnull().values.any()"
   ]
  },
  {
   "cell_type": "code",
   "execution_count": 7,
   "metadata": {},
   "outputs": [
    {
     "data": {
      "text/html": [
       "<div>\n",
       "<style scoped>\n",
       "    .dataframe tbody tr th:only-of-type {\n",
       "        vertical-align: middle;\n",
       "    }\n",
       "\n",
       "    .dataframe tbody tr th {\n",
       "        vertical-align: top;\n",
       "    }\n",
       "\n",
       "    .dataframe thead th {\n",
       "        text-align: right;\n",
       "    }\n",
       "</style>\n",
       "<table border=\"1\" class=\"dataframe\">\n",
       "  <thead>\n",
       "    <tr style=\"text-align: right;\">\n",
       "      <th></th>\n",
       "      <th></th>\n",
       "      <th>ticker</th>\n",
       "      <th>date</th>\n",
       "      <th>adj_close</th>\n",
       "      <th>adj_volume</th>\n",
       "    </tr>\n",
       "    <tr>\n",
       "      <th>ticker</th>\n",
       "      <th>date</th>\n",
       "      <th></th>\n",
       "      <th></th>\n",
       "      <th></th>\n",
       "      <th></th>\n",
       "    </tr>\n",
       "  </thead>\n",
       "  <tbody>\n",
       "    <tr>\n",
       "      <th rowspan=\"5\" valign=\"top\">WMT</th>\n",
       "      <th>2018-03-27</th>\n",
       "      <td>WMT</td>\n",
       "      <td>2018-03-27</td>\n",
       "      <td>86.05</td>\n",
       "      <td>6395554.0</td>\n",
       "    </tr>\n",
       "    <tr>\n",
       "      <th>2018-03-26</th>\n",
       "      <td>WMT</td>\n",
       "      <td>2018-03-26</td>\n",
       "      <td>87.50</td>\n",
       "      <td>8640866.0</td>\n",
       "    </tr>\n",
       "    <tr>\n",
       "      <th>2018-03-23</th>\n",
       "      <td>WMT</td>\n",
       "      <td>2018-03-23</td>\n",
       "      <td>85.42</td>\n",
       "      <td>9762296.0</td>\n",
       "    </tr>\n",
       "    <tr>\n",
       "      <th>2018-03-22</th>\n",
       "      <td>WMT</td>\n",
       "      <td>2018-03-22</td>\n",
       "      <td>87.14</td>\n",
       "      <td>11338049.0</td>\n",
       "    </tr>\n",
       "    <tr>\n",
       "      <th>2018-03-21</th>\n",
       "      <td>WMT</td>\n",
       "      <td>2018-03-21</td>\n",
       "      <td>88.18</td>\n",
       "      <td>11687930.0</td>\n",
       "    </tr>\n",
       "  </tbody>\n",
       "</table>\n",
       "</div>"
      ],
      "text/plain": [
       "                  ticker       date  adj_close  adj_volume\n",
       "ticker date                                               \n",
       "WMT    2018-03-27    WMT 2018-03-27      86.05   6395554.0\n",
       "       2018-03-26    WMT 2018-03-26      87.50   8640866.0\n",
       "       2018-03-23    WMT 2018-03-23      85.42   9762296.0\n",
       "       2018-03-22    WMT 2018-03-22      87.14  11338049.0\n",
       "       2018-03-21    WMT 2018-03-21      88.18  11687930.0"
      ]
     },
     "execution_count": 7,
     "metadata": {},
     "output_type": "execute_result"
    }
   ],
   "source": [
    "data.head()"
   ]
  },
  {
   "cell_type": "code",
   "execution_count": 41,
   "metadata": {},
   "outputs": [
    {
     "ename": "ValueError",
     "evalue": "cannot insert ticker, already exists",
     "output_type": "error",
     "traceback": [
      "\u001b[0;31m---------------------------------------------------------------------------\u001b[0m",
      "\u001b[0;31mValueError\u001b[0m                                Traceback (most recent call last)",
      "\u001b[0;32m<ipython-input-41-7de60be849c1>\u001b[0m in \u001b[0;36m<module>\u001b[0;34m\u001b[0m\n\u001b[1;32m      3\u001b[0m \u001b[0;31m# ma\u001b[0m\u001b[0;34m\u001b[0m\u001b[0;34m\u001b[0m\u001b[0;34m\u001b[0m\u001b[0m\n\u001b[1;32m      4\u001b[0m \u001b[0mma5\u001b[0m \u001b[0;34m=\u001b[0m \u001b[0mdata\u001b[0m\u001b[0;34m[\u001b[0m\u001b[0;34m\"adj_close\"\u001b[0m\u001b[0;34m]\u001b[0m\u001b[0;34m.\u001b[0m\u001b[0mgroupby\u001b[0m\u001b[0;34m(\u001b[0m\u001b[0mdata\u001b[0m\u001b[0;34m[\u001b[0m\u001b[0;34m\"ticker\"\u001b[0m\u001b[0;34m]\u001b[0m\u001b[0;34m)\u001b[0m\u001b[0;34m.\u001b[0m\u001b[0mrolling\u001b[0m\u001b[0;34m(\u001b[0m\u001b[0;36m5\u001b[0m\u001b[0;34m)\u001b[0m\u001b[0;34m.\u001b[0m\u001b[0mmean\u001b[0m\u001b[0;34m(\u001b[0m\u001b[0;34m)\u001b[0m\u001b[0;34m.\u001b[0m\u001b[0mshift\u001b[0m\u001b[0;34m(\u001b[0m\u001b[0;34m-\u001b[0m\u001b[0;36m4\u001b[0m\u001b[0;34m)\u001b[0m\u001b[0;34m\u001b[0m\u001b[0;34m\u001b[0m\u001b[0m\n\u001b[0;32m----> 5\u001b[0;31m \u001b[0mprint\u001b[0m\u001b[0;34m(\u001b[0m\u001b[0mma5\u001b[0m\u001b[0;34m.\u001b[0m\u001b[0mreset_index\u001b[0m\u001b[0;34m(\u001b[0m\u001b[0;34m)\u001b[0m\u001b[0;34m.\u001b[0m\u001b[0mhead\u001b[0m\u001b[0;34m(\u001b[0m\u001b[0;34m)\u001b[0m\u001b[0;34m)\u001b[0m\u001b[0;34m\u001b[0m\u001b[0;34m\u001b[0m\u001b[0m\n\u001b[0m\u001b[1;32m      6\u001b[0m \u001b[0mma5\u001b[0m\u001b[0;34m.\u001b[0m\u001b[0mindex\u001b[0m \u001b[0;34m=\u001b[0m \u001b[0mdata\u001b[0m\u001b[0;34m.\u001b[0m\u001b[0mindex\u001b[0m\u001b[0;34m\u001b[0m\u001b[0;34m\u001b[0m\u001b[0m\n\u001b[1;32m      7\u001b[0m \u001b[0mprint\u001b[0m\u001b[0;34m(\u001b[0m\u001b[0mma5\u001b[0m\u001b[0;34m.\u001b[0m\u001b[0mhead\u001b[0m\u001b[0;34m(\u001b[0m\u001b[0;34m)\u001b[0m\u001b[0;34m)\u001b[0m\u001b[0;34m\u001b[0m\u001b[0;34m\u001b[0m\u001b[0m\n",
      "\u001b[0;32m/usr/local/lib/python3.6/dist-packages/pandas/core/series.py\u001b[0m in \u001b[0;36mreset_index\u001b[0;34m(self, level, drop, name, inplace)\u001b[0m\n\u001b[1;32m   1580\u001b[0m         \u001b[0;32melse\u001b[0m\u001b[0;34m:\u001b[0m\u001b[0;34m\u001b[0m\u001b[0;34m\u001b[0m\u001b[0m\n\u001b[1;32m   1581\u001b[0m             \u001b[0mdf\u001b[0m \u001b[0;34m=\u001b[0m \u001b[0mself\u001b[0m\u001b[0;34m.\u001b[0m\u001b[0mto_frame\u001b[0m\u001b[0;34m(\u001b[0m\u001b[0mname\u001b[0m\u001b[0;34m)\u001b[0m\u001b[0;34m\u001b[0m\u001b[0;34m\u001b[0m\u001b[0m\n\u001b[0;32m-> 1582\u001b[0;31m             \u001b[0;32mreturn\u001b[0m \u001b[0mdf\u001b[0m\u001b[0;34m.\u001b[0m\u001b[0mreset_index\u001b[0m\u001b[0;34m(\u001b[0m\u001b[0mlevel\u001b[0m\u001b[0;34m=\u001b[0m\u001b[0mlevel\u001b[0m\u001b[0;34m,\u001b[0m \u001b[0mdrop\u001b[0m\u001b[0;34m=\u001b[0m\u001b[0mdrop\u001b[0m\u001b[0;34m)\u001b[0m\u001b[0;34m\u001b[0m\u001b[0;34m\u001b[0m\u001b[0m\n\u001b[0m\u001b[1;32m   1583\u001b[0m \u001b[0;34m\u001b[0m\u001b[0m\n\u001b[1;32m   1584\u001b[0m     \u001b[0;31m# ----------------------------------------------------------------------\u001b[0m\u001b[0;34m\u001b[0m\u001b[0;34m\u001b[0m\u001b[0;34m\u001b[0m\u001b[0m\n",
      "\u001b[0;32m/usr/local/lib/python3.6/dist-packages/pandas/core/frame.py\u001b[0m in \u001b[0;36mreset_index\u001b[0;34m(self, level, drop, inplace, col_level, col_fill)\u001b[0m\n\u001b[1;32m   4687\u001b[0m                 \u001b[0;31m# to ndarray and maybe infer different dtype\u001b[0m\u001b[0;34m\u001b[0m\u001b[0;34m\u001b[0m\u001b[0;34m\u001b[0m\u001b[0m\n\u001b[1;32m   4688\u001b[0m                 \u001b[0mlevel_values\u001b[0m \u001b[0;34m=\u001b[0m \u001b[0m_maybe_casted_values\u001b[0m\u001b[0;34m(\u001b[0m\u001b[0mlev\u001b[0m\u001b[0;34m,\u001b[0m \u001b[0mlab\u001b[0m\u001b[0;34m)\u001b[0m\u001b[0;34m\u001b[0m\u001b[0;34m\u001b[0m\u001b[0m\n\u001b[0;32m-> 4689\u001b[0;31m                 \u001b[0mnew_obj\u001b[0m\u001b[0;34m.\u001b[0m\u001b[0minsert\u001b[0m\u001b[0;34m(\u001b[0m\u001b[0;36m0\u001b[0m\u001b[0;34m,\u001b[0m \u001b[0mname\u001b[0m\u001b[0;34m,\u001b[0m \u001b[0mlevel_values\u001b[0m\u001b[0;34m)\u001b[0m\u001b[0;34m\u001b[0m\u001b[0;34m\u001b[0m\u001b[0m\n\u001b[0m\u001b[1;32m   4690\u001b[0m \u001b[0;34m\u001b[0m\u001b[0m\n\u001b[1;32m   4691\u001b[0m         \u001b[0mnew_obj\u001b[0m\u001b[0;34m.\u001b[0m\u001b[0mindex\u001b[0m \u001b[0;34m=\u001b[0m \u001b[0mnew_index\u001b[0m\u001b[0;34m\u001b[0m\u001b[0;34m\u001b[0m\u001b[0m\n",
      "\u001b[0;32m/usr/local/lib/python3.6/dist-packages/pandas/core/frame.py\u001b[0m in \u001b[0;36minsert\u001b[0;34m(self, loc, column, value, allow_duplicates)\u001b[0m\n\u001b[1;32m   3569\u001b[0m         \u001b[0mself\u001b[0m\u001b[0;34m.\u001b[0m\u001b[0m_ensure_valid_index\u001b[0m\u001b[0;34m(\u001b[0m\u001b[0mvalue\u001b[0m\u001b[0;34m)\u001b[0m\u001b[0;34m\u001b[0m\u001b[0;34m\u001b[0m\u001b[0m\n\u001b[1;32m   3570\u001b[0m         \u001b[0mvalue\u001b[0m \u001b[0;34m=\u001b[0m \u001b[0mself\u001b[0m\u001b[0;34m.\u001b[0m\u001b[0m_sanitize_column\u001b[0m\u001b[0;34m(\u001b[0m\u001b[0mcolumn\u001b[0m\u001b[0;34m,\u001b[0m \u001b[0mvalue\u001b[0m\u001b[0;34m,\u001b[0m \u001b[0mbroadcast\u001b[0m\u001b[0;34m=\u001b[0m\u001b[0;32mFalse\u001b[0m\u001b[0;34m)\u001b[0m\u001b[0;34m\u001b[0m\u001b[0;34m\u001b[0m\u001b[0m\n\u001b[0;32m-> 3571\u001b[0;31m         \u001b[0mself\u001b[0m\u001b[0;34m.\u001b[0m\u001b[0m_data\u001b[0m\u001b[0;34m.\u001b[0m\u001b[0minsert\u001b[0m\u001b[0;34m(\u001b[0m\u001b[0mloc\u001b[0m\u001b[0;34m,\u001b[0m \u001b[0mcolumn\u001b[0m\u001b[0;34m,\u001b[0m \u001b[0mvalue\u001b[0m\u001b[0;34m,\u001b[0m \u001b[0mallow_duplicates\u001b[0m\u001b[0;34m=\u001b[0m\u001b[0mallow_duplicates\u001b[0m\u001b[0;34m)\u001b[0m\u001b[0;34m\u001b[0m\u001b[0;34m\u001b[0m\u001b[0m\n\u001b[0m\u001b[1;32m   3572\u001b[0m \u001b[0;34m\u001b[0m\u001b[0m\n\u001b[1;32m   3573\u001b[0m     \u001b[0;32mdef\u001b[0m \u001b[0massign\u001b[0m\u001b[0;34m(\u001b[0m\u001b[0mself\u001b[0m\u001b[0;34m,\u001b[0m \u001b[0;34m**\u001b[0m\u001b[0mkwargs\u001b[0m\u001b[0;34m)\u001b[0m\u001b[0;34m:\u001b[0m\u001b[0;34m\u001b[0m\u001b[0;34m\u001b[0m\u001b[0m\n",
      "\u001b[0;32m/usr/local/lib/python3.6/dist-packages/pandas/core/internals/managers.py\u001b[0m in \u001b[0;36minsert\u001b[0;34m(self, loc, item, value, allow_duplicates)\u001b[0m\n\u001b[1;32m   1170\u001b[0m         \u001b[0;32mif\u001b[0m \u001b[0;32mnot\u001b[0m \u001b[0mallow_duplicates\u001b[0m \u001b[0;32mand\u001b[0m \u001b[0mitem\u001b[0m \u001b[0;32min\u001b[0m \u001b[0mself\u001b[0m\u001b[0;34m.\u001b[0m\u001b[0mitems\u001b[0m\u001b[0;34m:\u001b[0m\u001b[0;34m\u001b[0m\u001b[0;34m\u001b[0m\u001b[0m\n\u001b[1;32m   1171\u001b[0m             \u001b[0;31m# Should this be a different kind of error??\u001b[0m\u001b[0;34m\u001b[0m\u001b[0;34m\u001b[0m\u001b[0;34m\u001b[0m\u001b[0m\n\u001b[0;32m-> 1172\u001b[0;31m             \u001b[0;32mraise\u001b[0m \u001b[0mValueError\u001b[0m\u001b[0;34m(\u001b[0m\u001b[0;34m\"cannot insert {}, already exists\"\u001b[0m\u001b[0;34m.\u001b[0m\u001b[0mformat\u001b[0m\u001b[0;34m(\u001b[0m\u001b[0mitem\u001b[0m\u001b[0;34m)\u001b[0m\u001b[0;34m)\u001b[0m\u001b[0;34m\u001b[0m\u001b[0;34m\u001b[0m\u001b[0m\n\u001b[0m\u001b[1;32m   1173\u001b[0m \u001b[0;34m\u001b[0m\u001b[0m\n\u001b[1;32m   1174\u001b[0m         \u001b[0;32mif\u001b[0m \u001b[0;32mnot\u001b[0m \u001b[0misinstance\u001b[0m\u001b[0;34m(\u001b[0m\u001b[0mloc\u001b[0m\u001b[0;34m,\u001b[0m \u001b[0mint\u001b[0m\u001b[0;34m)\u001b[0m\u001b[0;34m:\u001b[0m\u001b[0;34m\u001b[0m\u001b[0;34m\u001b[0m\u001b[0m\n",
      "\u001b[0;31mValueError\u001b[0m: cannot insert ticker, already exists"
     ]
    }
   ],
   "source": [
    "# explanatory variable\n",
    "\n",
    "# ma\n",
    "ma5 = data[\"adj_close\"].groupby(data[\"ticker\"]).rolling(5).mean().shift(-4)\n",
    "print(ma5.reset_index())\n",
    "ma5.index = data.index\n",
    "print(ma5.head())"
   ]
  },
  {
   "cell_type": "code",
   "execution_count": 36,
   "metadata": {},
   "outputs": [
    {
     "data": {
      "text/plain": [
       "ticker  date      \n",
       "WMT     2018-03-27   -0.104764\n",
       "        2018-03-26   -0.168478\n",
       "        2018-03-23   -0.228961\n",
       "        2018-03-22   -0.279537\n",
       "        2018-03-21   -0.309624\n",
       "                        ...   \n",
       "AAPL    2000-01-07         NaN\n",
       "        2000-01-06         NaN\n",
       "        2000-01-05         NaN\n",
       "        2000-01-04         NaN\n",
       "        2000-01-03         NaN\n",
       "Name: adj_close, Length: 13757, dtype: float64"
      ]
     },
     "execution_count": 36,
     "metadata": {},
     "output_type": "execute_result"
    }
   ],
   "source": [
    "# macd\n",
    "def team_ema(team, span):\n",
    "    feature_ema = team.rolling(window=span, min_periods=span).mean()[:span]\n",
    "    rest = team[span:]\n",
    "    return pd.concat([feature_ema, rest]).ewm(span=span, adjust=False).mean()\n",
    "\n",
    "ema26 = data[\"adj_close\"].groupby(data[\"ticker\"]).apply(team_ema, 26).shift(-25)\n",
    "ema12 = data[\"adj_close\"].groupby(data[\"ticker\"]).apply(team_ema, 12).shift(-11)\n",
    "\n",
    "macd = ema12 - ema26\n",
    "macd"
   ]
  },
  {
   "cell_type": "code",
   "execution_count": 38,
   "metadata": {},
   "outputs": [
    {
     "data": {
      "text/plain": [
       "ticker  ticker  date      \n",
       "AAPL    AAPL    2018-03-27    2.788762\n",
       "                2018-03-26    2.799362\n",
       "                2018-03-23    2.805901\n",
       "                2018-03-22    2.817097\n",
       "                2018-03-21    2.821057\n",
       "                                ...   \n",
       "WMT     WMT     2000-01-07         NaN\n",
       "                2000-01-06         NaN\n",
       "                2000-01-05         NaN\n",
       "                2000-01-04         NaN\n",
       "                2000-01-03         NaN\n",
       "Name: adj_close, Length: 13757, dtype: float64"
      ]
     },
     "execution_count": 38,
     "metadata": {},
     "output_type": "execute_result"
    }
   ],
   "source": [
    "# bollinger bands\n",
    "mid_bollinger = data[\"adj_close\"].groupby(data[\"ticker\"]).rolling(20).mean().shift(-19)\n",
    "std20 = data[\"adj_close\"].groupby(data[\"ticker\"]).rolling(20).std().shift(-19)\n",
    "\n",
    "mid_bollinger.index = data.index\n",
    "std20.index = data.index\n",
    "\n",
    "up_bollinger = mid_bollinger + 2 * std20\n",
    "low_bollinger = mid_bollinger - 2 * std20\n"
   ]
  },
  {
   "cell_type": "code",
   "execution_count": 33,
   "metadata": {},
   "outputs": [
    {
     "data": {
      "text/plain": [
       "ticker  ticker  date      \n",
       "AAPL    AAPL    2018-03-27    40.746888\n",
       "                2018-03-26    44.154676\n",
       "                2018-03-23    26.869159\n",
       "                2018-03-22    33.549252\n",
       "                2018-03-21    41.190364\n",
       "                                ...    \n",
       "WMT     WMT     2000-01-07          NaN\n",
       "                2000-01-06          NaN\n",
       "                2000-01-05          NaN\n",
       "                2000-01-04          NaN\n",
       "                2000-01-03          NaN\n",
       "Length: 13757, dtype: float64"
      ]
     },
     "execution_count": 33,
     "metadata": {},
     "output_type": "execute_result"
    }
   ],
   "source": [
    "# RSI\n",
    "data[\"last_close\"] = data[\"adj_close\"].groupby(data[\"ticker\"]).shift(-1) \n",
    "U = data.apply(lambda row:  row[\"adj_close\"]-row[\"last_close\"] \n",
    "               if row[\"adj_close\"] > row[\"last_close\"] else 0, axis=1)\n",
    "\n",
    "D = data.apply(lambda row:  abs(row[\"adj_close\"]-row[\"last_close\"]) \n",
    "               if row[\"adj_close\"] < row[\"last_close\"] else 0, axis=1)\n",
    "avgU = U.groupby(data[\"ticker\"]).rolling(14).mean().shift(-13)\n",
    "avgD = D.groupby(data[\"ticker\"]).rolling(14).mean().shift(-13)\n",
    "RS = avgU / avgD\n",
    "RSI = 100 - 100 / ( 1 + RS )\n",
    "RSI"
   ]
  },
  {
   "cell_type": "code",
   "execution_count": 34,
   "metadata": {},
   "outputs": [
    {
     "ename": "TypeError",
     "evalue": "incompatible index of inserted column with frame index",
     "output_type": "error",
     "traceback": [
      "\u001b[0;31m---------------------------------------------------------------------------\u001b[0m",
      "\u001b[0;31mValueError\u001b[0m                                Traceback (most recent call last)",
      "\u001b[0;32m/usr/local/lib/python3.6/dist-packages/pandas/core/frame.py\u001b[0m in \u001b[0;36mreindexer\u001b[0;34m(value)\u001b[0m\n\u001b[1;32m   3691\u001b[0m                 \u001b[0;32mtry\u001b[0m\u001b[0;34m:\u001b[0m\u001b[0;34m\u001b[0m\u001b[0;34m\u001b[0m\u001b[0m\n\u001b[0;32m-> 3692\u001b[0;31m                     \u001b[0mvalue\u001b[0m \u001b[0;34m=\u001b[0m \u001b[0mvalue\u001b[0m\u001b[0;34m.\u001b[0m\u001b[0mreindex\u001b[0m\u001b[0;34m(\u001b[0m\u001b[0mself\u001b[0m\u001b[0;34m.\u001b[0m\u001b[0mindex\u001b[0m\u001b[0;34m)\u001b[0m\u001b[0;34m.\u001b[0m\u001b[0m_values\u001b[0m\u001b[0;34m\u001b[0m\u001b[0;34m\u001b[0m\u001b[0m\n\u001b[0m\u001b[1;32m   3693\u001b[0m                 \u001b[0;32mexcept\u001b[0m \u001b[0mException\u001b[0m \u001b[0;32mas\u001b[0m \u001b[0me\u001b[0m\u001b[0;34m:\u001b[0m\u001b[0;34m\u001b[0m\u001b[0;34m\u001b[0m\u001b[0m\n",
      "\u001b[0;32m/usr/local/lib/python3.6/dist-packages/pandas/core/series.py\u001b[0m in \u001b[0;36mreindex\u001b[0;34m(self, index, **kwargs)\u001b[0m\n\u001b[1;32m   4215\u001b[0m     \u001b[0;32mdef\u001b[0m \u001b[0mreindex\u001b[0m\u001b[0;34m(\u001b[0m\u001b[0mself\u001b[0m\u001b[0;34m,\u001b[0m \u001b[0mindex\u001b[0m\u001b[0;34m=\u001b[0m\u001b[0;32mNone\u001b[0m\u001b[0;34m,\u001b[0m \u001b[0;34m**\u001b[0m\u001b[0mkwargs\u001b[0m\u001b[0;34m)\u001b[0m\u001b[0;34m:\u001b[0m\u001b[0;34m\u001b[0m\u001b[0;34m\u001b[0m\u001b[0m\n\u001b[0;32m-> 4216\u001b[0;31m         \u001b[0;32mreturn\u001b[0m \u001b[0msuper\u001b[0m\u001b[0;34m(\u001b[0m\u001b[0;34m)\u001b[0m\u001b[0;34m.\u001b[0m\u001b[0mreindex\u001b[0m\u001b[0;34m(\u001b[0m\u001b[0mindex\u001b[0m\u001b[0;34m=\u001b[0m\u001b[0mindex\u001b[0m\u001b[0;34m,\u001b[0m \u001b[0;34m**\u001b[0m\u001b[0mkwargs\u001b[0m\u001b[0;34m)\u001b[0m\u001b[0;34m\u001b[0m\u001b[0;34m\u001b[0m\u001b[0m\n\u001b[0m\u001b[1;32m   4217\u001b[0m \u001b[0;34m\u001b[0m\u001b[0m\n",
      "\u001b[0;32m/usr/local/lib/python3.6/dist-packages/pandas/core/generic.py\u001b[0m in \u001b[0;36mreindex\u001b[0;34m(self, *args, **kwargs)\u001b[0m\n\u001b[1;32m   4514\u001b[0m         return self._reindex_axes(\n\u001b[0;32m-> 4515\u001b[0;31m             \u001b[0maxes\u001b[0m\u001b[0;34m,\u001b[0m \u001b[0mlevel\u001b[0m\u001b[0;34m,\u001b[0m \u001b[0mlimit\u001b[0m\u001b[0;34m,\u001b[0m \u001b[0mtolerance\u001b[0m\u001b[0;34m,\u001b[0m \u001b[0mmethod\u001b[0m\u001b[0;34m,\u001b[0m \u001b[0mfill_value\u001b[0m\u001b[0;34m,\u001b[0m \u001b[0mcopy\u001b[0m\u001b[0;34m\u001b[0m\u001b[0;34m\u001b[0m\u001b[0m\n\u001b[0m\u001b[1;32m   4516\u001b[0m         ).__finalize__(self)\n",
      "\u001b[0;32m/usr/local/lib/python3.6/dist-packages/pandas/core/generic.py\u001b[0m in \u001b[0;36m_reindex_axes\u001b[0;34m(self, axes, level, limit, tolerance, method, fill_value, copy)\u001b[0m\n\u001b[1;32m   4527\u001b[0m             new_index, indexer = ax.reindex(\n\u001b[0;32m-> 4528\u001b[0;31m                 \u001b[0mlabels\u001b[0m\u001b[0;34m,\u001b[0m \u001b[0mlevel\u001b[0m\u001b[0;34m=\u001b[0m\u001b[0mlevel\u001b[0m\u001b[0;34m,\u001b[0m \u001b[0mlimit\u001b[0m\u001b[0;34m=\u001b[0m\u001b[0mlimit\u001b[0m\u001b[0;34m,\u001b[0m \u001b[0mtolerance\u001b[0m\u001b[0;34m=\u001b[0m\u001b[0mtolerance\u001b[0m\u001b[0;34m,\u001b[0m \u001b[0mmethod\u001b[0m\u001b[0;34m=\u001b[0m\u001b[0mmethod\u001b[0m\u001b[0;34m\u001b[0m\u001b[0;34m\u001b[0m\u001b[0m\n\u001b[0m\u001b[1;32m   4529\u001b[0m             )\n",
      "\u001b[0;32m/usr/local/lib/python3.6/dist-packages/pandas/core/indexes/multi.py\u001b[0m in \u001b[0;36mreindex\u001b[0;34m(self, target, method, level, limit, tolerance)\u001b[0m\n\u001b[1;32m   2487\u001b[0m                     indexer = self.get_indexer(\n\u001b[0;32m-> 2488\u001b[0;31m                         \u001b[0mtarget\u001b[0m\u001b[0;34m,\u001b[0m \u001b[0mmethod\u001b[0m\u001b[0;34m=\u001b[0m\u001b[0mmethod\u001b[0m\u001b[0;34m,\u001b[0m \u001b[0mlimit\u001b[0m\u001b[0;34m=\u001b[0m\u001b[0mlimit\u001b[0m\u001b[0;34m,\u001b[0m \u001b[0mtolerance\u001b[0m\u001b[0;34m=\u001b[0m\u001b[0mtolerance\u001b[0m\u001b[0;34m\u001b[0m\u001b[0;34m\u001b[0m\u001b[0m\n\u001b[0m\u001b[1;32m   2489\u001b[0m                     )\n",
      "\u001b[0;32m/usr/local/lib/python3.6/dist-packages/pandas/core/indexes/multi.py\u001b[0m in \u001b[0;36mget_indexer\u001b[0;34m(self, target, method, limit, tolerance)\u001b[0m\n\u001b[1;32m   2439\u001b[0m         \u001b[0;32melse\u001b[0m\u001b[0;34m:\u001b[0m\u001b[0;34m\u001b[0m\u001b[0;34m\u001b[0m\u001b[0m\n\u001b[0;32m-> 2440\u001b[0;31m             \u001b[0mindexer\u001b[0m \u001b[0;34m=\u001b[0m \u001b[0mself\u001b[0m\u001b[0;34m.\u001b[0m\u001b[0m_engine\u001b[0m\u001b[0;34m.\u001b[0m\u001b[0mget_indexer\u001b[0m\u001b[0;34m(\u001b[0m\u001b[0mtarget\u001b[0m\u001b[0;34m)\u001b[0m\u001b[0;34m\u001b[0m\u001b[0;34m\u001b[0m\u001b[0m\n\u001b[0m\u001b[1;32m   2441\u001b[0m \u001b[0;34m\u001b[0m\u001b[0m\n",
      "\u001b[0;32mpandas/_libs/index.pyx\u001b[0m in \u001b[0;36mpandas._libs.index.BaseMultiIndexCodesEngine.get_indexer\u001b[0;34m()\u001b[0m\n",
      "\u001b[0;32mpandas/_libs/index.pyx\u001b[0m in \u001b[0;36mpandas._libs.index.BaseMultiIndexCodesEngine._extract_level_codes\u001b[0;34m()\u001b[0m\n",
      "\u001b[0;32m/usr/local/lib/python3.6/dist-packages/pandas/core/indexes/multi.py\u001b[0m in \u001b[0;36m_codes_to_ints\u001b[0;34m(self, codes)\u001b[0m\n\u001b[1;32m     80\u001b[0m         \u001b[0;31m# of bits:\u001b[0m\u001b[0;34m\u001b[0m\u001b[0;34m\u001b[0m\u001b[0;34m\u001b[0m\u001b[0m\n\u001b[0;32m---> 81\u001b[0;31m         \u001b[0mcodes\u001b[0m \u001b[0;34m<<=\u001b[0m \u001b[0mself\u001b[0m\u001b[0;34m.\u001b[0m\u001b[0moffsets\u001b[0m\u001b[0;34m\u001b[0m\u001b[0;34m\u001b[0m\u001b[0m\n\u001b[0m\u001b[1;32m     82\u001b[0m \u001b[0;34m\u001b[0m\u001b[0m\n",
      "\u001b[0;31mValueError\u001b[0m: operands could not be broadcast together with shapes (13757,2) (3,) (13757,2) ",
      "\nDuring handling of the above exception, another exception occurred:\n",
      "\u001b[0;31mTypeError\u001b[0m                                 Traceback (most recent call last)",
      "\u001b[0;32m<ipython-input-34-45bebdc5569a>\u001b[0m in \u001b[0;36m<module>\u001b[0;34m\u001b[0m\n\u001b[1;32m      1\u001b[0m \u001b[0mdata\u001b[0m\u001b[0;34m[\u001b[0m\u001b[0;34m\"ma5\"\u001b[0m\u001b[0;34m]\u001b[0m \u001b[0;34m=\u001b[0m \u001b[0mma5\u001b[0m\u001b[0;34m\u001b[0m\u001b[0;34m\u001b[0m\u001b[0m\n\u001b[1;32m      2\u001b[0m \u001b[0mdata\u001b[0m\u001b[0;34m[\u001b[0m\u001b[0;34m\"macd\"\u001b[0m\u001b[0;34m]\u001b[0m \u001b[0;34m=\u001b[0m \u001b[0mmacd\u001b[0m\u001b[0;34m\u001b[0m\u001b[0;34m\u001b[0m\u001b[0m\n\u001b[0;32m----> 3\u001b[0;31m \u001b[0mdata\u001b[0m\u001b[0;34m[\u001b[0m\u001b[0;34m\"ma20\"\u001b[0m\u001b[0;34m]\u001b[0m \u001b[0;34m=\u001b[0m \u001b[0mmid_bollinger\u001b[0m\u001b[0;34m\u001b[0m\u001b[0;34m\u001b[0m\u001b[0m\n\u001b[0m\u001b[1;32m      4\u001b[0m \u001b[0mdata\u001b[0m\u001b[0;34m[\u001b[0m\u001b[0;34m\"up_bollinger\"\u001b[0m\u001b[0;34m]\u001b[0m \u001b[0;34m=\u001b[0m \u001b[0mup_bollinger\u001b[0m\u001b[0;34m\u001b[0m\u001b[0;34m\u001b[0m\u001b[0m\n\u001b[1;32m      5\u001b[0m \u001b[0mdata\u001b[0m\u001b[0;34m[\u001b[0m\u001b[0;34m\"low_bollinger\"\u001b[0m\u001b[0;34m]\u001b[0m \u001b[0;34m=\u001b[0m \u001b[0mlow_bollinger\u001b[0m\u001b[0;34m\u001b[0m\u001b[0;34m\u001b[0m\u001b[0m\n",
      "\u001b[0;32m/usr/local/lib/python3.6/dist-packages/pandas/core/frame.py\u001b[0m in \u001b[0;36m__setitem__\u001b[0;34m(self, key, value)\u001b[0m\n\u001b[1;32m   3465\u001b[0m         \u001b[0;32melse\u001b[0m\u001b[0;34m:\u001b[0m\u001b[0;34m\u001b[0m\u001b[0;34m\u001b[0m\u001b[0m\n\u001b[1;32m   3466\u001b[0m             \u001b[0;31m# set column\u001b[0m\u001b[0;34m\u001b[0m\u001b[0;34m\u001b[0m\u001b[0;34m\u001b[0m\u001b[0m\n\u001b[0;32m-> 3467\u001b[0;31m             \u001b[0mself\u001b[0m\u001b[0;34m.\u001b[0m\u001b[0m_set_item\u001b[0m\u001b[0;34m(\u001b[0m\u001b[0mkey\u001b[0m\u001b[0;34m,\u001b[0m \u001b[0mvalue\u001b[0m\u001b[0;34m)\u001b[0m\u001b[0;34m\u001b[0m\u001b[0;34m\u001b[0m\u001b[0m\n\u001b[0m\u001b[1;32m   3468\u001b[0m \u001b[0;34m\u001b[0m\u001b[0m\n\u001b[1;32m   3469\u001b[0m     \u001b[0;32mdef\u001b[0m \u001b[0m_setitem_slice\u001b[0m\u001b[0;34m(\u001b[0m\u001b[0mself\u001b[0m\u001b[0;34m,\u001b[0m \u001b[0mkey\u001b[0m\u001b[0;34m,\u001b[0m \u001b[0mvalue\u001b[0m\u001b[0;34m)\u001b[0m\u001b[0;34m:\u001b[0m\u001b[0;34m\u001b[0m\u001b[0;34m\u001b[0m\u001b[0m\n",
      "\u001b[0;32m/usr/local/lib/python3.6/dist-packages/pandas/core/frame.py\u001b[0m in \u001b[0;36m_set_item\u001b[0;34m(self, key, value)\u001b[0m\n\u001b[1;32m   3542\u001b[0m \u001b[0;34m\u001b[0m\u001b[0m\n\u001b[1;32m   3543\u001b[0m         \u001b[0mself\u001b[0m\u001b[0;34m.\u001b[0m\u001b[0m_ensure_valid_index\u001b[0m\u001b[0;34m(\u001b[0m\u001b[0mvalue\u001b[0m\u001b[0;34m)\u001b[0m\u001b[0;34m\u001b[0m\u001b[0;34m\u001b[0m\u001b[0m\n\u001b[0;32m-> 3544\u001b[0;31m         \u001b[0mvalue\u001b[0m \u001b[0;34m=\u001b[0m \u001b[0mself\u001b[0m\u001b[0;34m.\u001b[0m\u001b[0m_sanitize_column\u001b[0m\u001b[0;34m(\u001b[0m\u001b[0mkey\u001b[0m\u001b[0;34m,\u001b[0m \u001b[0mvalue\u001b[0m\u001b[0;34m)\u001b[0m\u001b[0;34m\u001b[0m\u001b[0;34m\u001b[0m\u001b[0m\n\u001b[0m\u001b[1;32m   3545\u001b[0m         \u001b[0mNDFrame\u001b[0m\u001b[0;34m.\u001b[0m\u001b[0m_set_item\u001b[0m\u001b[0;34m(\u001b[0m\u001b[0mself\u001b[0m\u001b[0;34m,\u001b[0m \u001b[0mkey\u001b[0m\u001b[0;34m,\u001b[0m \u001b[0mvalue\u001b[0m\u001b[0;34m)\u001b[0m\u001b[0;34m\u001b[0m\u001b[0;34m\u001b[0m\u001b[0m\n\u001b[1;32m   3546\u001b[0m \u001b[0;34m\u001b[0m\u001b[0m\n",
      "\u001b[0;32m/usr/local/lib/python3.6/dist-packages/pandas/core/frame.py\u001b[0m in \u001b[0;36m_sanitize_column\u001b[0;34m(self, key, value, broadcast)\u001b[0m\n\u001b[1;32m   3704\u001b[0m \u001b[0;34m\u001b[0m\u001b[0m\n\u001b[1;32m   3705\u001b[0m         \u001b[0;32mif\u001b[0m \u001b[0misinstance\u001b[0m\u001b[0;34m(\u001b[0m\u001b[0mvalue\u001b[0m\u001b[0;34m,\u001b[0m \u001b[0mSeries\u001b[0m\u001b[0;34m)\u001b[0m\u001b[0;34m:\u001b[0m\u001b[0;34m\u001b[0m\u001b[0;34m\u001b[0m\u001b[0m\n\u001b[0;32m-> 3706\u001b[0;31m             \u001b[0mvalue\u001b[0m \u001b[0;34m=\u001b[0m \u001b[0mreindexer\u001b[0m\u001b[0;34m(\u001b[0m\u001b[0mvalue\u001b[0m\u001b[0;34m)\u001b[0m\u001b[0;34m\u001b[0m\u001b[0;34m\u001b[0m\u001b[0m\n\u001b[0m\u001b[1;32m   3707\u001b[0m \u001b[0;34m\u001b[0m\u001b[0m\n\u001b[1;32m   3708\u001b[0m         \u001b[0;32melif\u001b[0m \u001b[0misinstance\u001b[0m\u001b[0;34m(\u001b[0m\u001b[0mvalue\u001b[0m\u001b[0;34m,\u001b[0m \u001b[0mDataFrame\u001b[0m\u001b[0;34m)\u001b[0m\u001b[0;34m:\u001b[0m\u001b[0;34m\u001b[0m\u001b[0;34m\u001b[0m\u001b[0m\n",
      "\u001b[0;32m/usr/local/lib/python3.6/dist-packages/pandas/core/frame.py\u001b[0m in \u001b[0;36mreindexer\u001b[0;34m(value)\u001b[0m\n\u001b[1;32m   3699\u001b[0m                     \u001b[0;31m# other\u001b[0m\u001b[0;34m\u001b[0m\u001b[0;34m\u001b[0m\u001b[0;34m\u001b[0m\u001b[0m\n\u001b[1;32m   3700\u001b[0m                     raise TypeError(\n\u001b[0;32m-> 3701\u001b[0;31m                         \u001b[0;34m\"incompatible index of inserted column \"\u001b[0m \u001b[0;34m\"with frame index\"\u001b[0m\u001b[0;34m\u001b[0m\u001b[0;34m\u001b[0m\u001b[0m\n\u001b[0m\u001b[1;32m   3702\u001b[0m                     )\n\u001b[1;32m   3703\u001b[0m             \u001b[0;32mreturn\u001b[0m \u001b[0mvalue\u001b[0m\u001b[0;34m\u001b[0m\u001b[0;34m\u001b[0m\u001b[0m\n",
      "\u001b[0;31mTypeError\u001b[0m: incompatible index of inserted column with frame index"
     ]
    }
   ],
   "source": [
    "data[\"ma5\"] = ma5\n",
    "data[\"macd\"] = macd\n",
    "data[\"ma20\"] = mid_bollinger\n",
    "data[\"up_bollinger\"] = up_bollinger\n",
    "data[\"low_bollinger\"] = low_bollinger\n",
    "data[\"RSI\"] = RSI\n",
    "data.head()"
   ]
  },
  {
   "cell_type": "code",
   "execution_count": 29,
   "metadata": {},
   "outputs": [],
   "source": [
    "# normalization\n",
    "for name in [\"adj_close\", \"adj_volume\", \"ma5\", \"macd\"]:\n",
    "    data[name] = data[name].groupby(data[\"ticker\"]).apply(lambda x: (x - x.mean())/x.std())"
   ]
  },
  {
   "cell_type": "code",
   "execution_count": 95,
   "metadata": {},
   "outputs": [
    {
     "data": {
      "text/html": [
       "<div>\n",
       "<style scoped>\n",
       "    .dataframe tbody tr th:only-of-type {\n",
       "        vertical-align: middle;\n",
       "    }\n",
       "\n",
       "    .dataframe tbody tr th {\n",
       "        vertical-align: top;\n",
       "    }\n",
       "\n",
       "    .dataframe thead th {\n",
       "        text-align: right;\n",
       "    }\n",
       "</style>\n",
       "<table border=\"1\" class=\"dataframe\">\n",
       "  <thead>\n",
       "    <tr style=\"text-align: right;\">\n",
       "      <th></th>\n",
       "      <th></th>\n",
       "      <th>ticker</th>\n",
       "      <th>date</th>\n",
       "      <th>adj_close</th>\n",
       "      <th>adj_volume</th>\n",
       "      <th>ma5</th>\n",
       "    </tr>\n",
       "    <tr>\n",
       "      <th>ticker</th>\n",
       "      <th>date</th>\n",
       "      <th></th>\n",
       "      <th></th>\n",
       "      <th></th>\n",
       "      <th></th>\n",
       "      <th></th>\n",
       "    </tr>\n",
       "  </thead>\n",
       "  <tbody>\n",
       "    <tr>\n",
       "      <th rowspan=\"5\" valign=\"top\">WMT</th>\n",
       "      <th>2018-03-27</th>\n",
       "      <td>WMT</td>\n",
       "      <td>2018-03-27</td>\n",
       "      <td>2.335083</td>\n",
       "      <td>-0.723583</td>\n",
       "      <td>2.662739</td>\n",
       "    </tr>\n",
       "    <tr>\n",
       "      <th>2018-03-26</th>\n",
       "      <td>WMT</td>\n",
       "      <td>2018-03-26</td>\n",
       "      <td>2.429726</td>\n",
       "      <td>-0.400966</td>\n",
       "      <td>2.691891</td>\n",
       "    </tr>\n",
       "    <tr>\n",
       "      <th>2018-03-23</th>\n",
       "      <td>WMT</td>\n",
       "      <td>2018-03-23</td>\n",
       "      <td>2.293962</td>\n",
       "      <td>-0.239834</td>\n",
       "      <td>2.702580</td>\n",
       "    </tr>\n",
       "    <tr>\n",
       "      <th>2018-03-22</th>\n",
       "      <td>WMT</td>\n",
       "      <td>2018-03-22</td>\n",
       "      <td>2.406228</td>\n",
       "      <td>-0.013422</td>\n",
       "      <td>2.757841</td>\n",
       "    </tr>\n",
       "    <tr>\n",
       "      <th>2018-03-21</th>\n",
       "      <td>WMT</td>\n",
       "      <td>2018-03-21</td>\n",
       "      <td>2.474110</td>\n",
       "      <td>0.036850</td>\n",
       "      <td>2.799265</td>\n",
       "    </tr>\n",
       "  </tbody>\n",
       "</table>\n",
       "</div>"
      ],
      "text/plain": [
       "                  ticker       date  adj_close  adj_volume       ma5\n",
       "ticker date                                                         \n",
       "WMT    2018-03-27    WMT 2018-03-27   2.335083   -0.723583  2.662739\n",
       "       2018-03-26    WMT 2018-03-26   2.429726   -0.400966  2.691891\n",
       "       2018-03-23    WMT 2018-03-23   2.293962   -0.239834  2.702580\n",
       "       2018-03-22    WMT 2018-03-22   2.406228   -0.013422  2.757841\n",
       "       2018-03-21    WMT 2018-03-21   2.474110    0.036850  2.799265"
      ]
     },
     "execution_count": 95,
     "metadata": {},
     "output_type": "execute_result"
    }
   ],
   "source": [
    "data.head()"
   ]
  },
  {
   "cell_type": "code",
   "execution_count": 96,
   "metadata": {},
   "outputs": [],
   "source": [
    "data[\"adj_closet1\"] = data[\"adj_close\"].groupby(data[\"ticker\"]).shift(1)"
   ]
  },
  {
   "cell_type": "code",
   "execution_count": 97,
   "metadata": {},
   "outputs": [
    {
     "data": {
      "text/html": [
       "<div>\n",
       "<style scoped>\n",
       "    .dataframe tbody tr th:only-of-type {\n",
       "        vertical-align: middle;\n",
       "    }\n",
       "\n",
       "    .dataframe tbody tr th {\n",
       "        vertical-align: top;\n",
       "    }\n",
       "\n",
       "    .dataframe thead th {\n",
       "        text-align: right;\n",
       "    }\n",
       "</style>\n",
       "<table border=\"1\" class=\"dataframe\">\n",
       "  <thead>\n",
       "    <tr style=\"text-align: right;\">\n",
       "      <th></th>\n",
       "      <th></th>\n",
       "      <th>ticker</th>\n",
       "      <th>date</th>\n",
       "      <th>adj_close</th>\n",
       "      <th>adj_volume</th>\n",
       "      <th>ma5</th>\n",
       "      <th>adj_closet1</th>\n",
       "    </tr>\n",
       "    <tr>\n",
       "      <th>ticker</th>\n",
       "      <th>date</th>\n",
       "      <th></th>\n",
       "      <th></th>\n",
       "      <th></th>\n",
       "      <th></th>\n",
       "      <th></th>\n",
       "      <th></th>\n",
       "    </tr>\n",
       "  </thead>\n",
       "  <tbody>\n",
       "    <tr>\n",
       "      <th rowspan=\"5\" valign=\"top\">WMT</th>\n",
       "      <th>2018-03-27</th>\n",
       "      <td>WMT</td>\n",
       "      <td>2018-03-27</td>\n",
       "      <td>2.335083</td>\n",
       "      <td>-0.723583</td>\n",
       "      <td>2.662739</td>\n",
       "      <td>NaN</td>\n",
       "    </tr>\n",
       "    <tr>\n",
       "      <th>2018-03-26</th>\n",
       "      <td>WMT</td>\n",
       "      <td>2018-03-26</td>\n",
       "      <td>2.429726</td>\n",
       "      <td>-0.400966</td>\n",
       "      <td>2.691891</td>\n",
       "      <td>2.335083</td>\n",
       "    </tr>\n",
       "    <tr>\n",
       "      <th>2018-03-23</th>\n",
       "      <td>WMT</td>\n",
       "      <td>2018-03-23</td>\n",
       "      <td>2.293962</td>\n",
       "      <td>-0.239834</td>\n",
       "      <td>2.702580</td>\n",
       "      <td>2.429726</td>\n",
       "    </tr>\n",
       "    <tr>\n",
       "      <th>2018-03-22</th>\n",
       "      <td>WMT</td>\n",
       "      <td>2018-03-22</td>\n",
       "      <td>2.406228</td>\n",
       "      <td>-0.013422</td>\n",
       "      <td>2.757841</td>\n",
       "      <td>2.293962</td>\n",
       "    </tr>\n",
       "    <tr>\n",
       "      <th>2018-03-21</th>\n",
       "      <td>WMT</td>\n",
       "      <td>2018-03-21</td>\n",
       "      <td>2.474110</td>\n",
       "      <td>0.036850</td>\n",
       "      <td>2.799265</td>\n",
       "      <td>2.406228</td>\n",
       "    </tr>\n",
       "  </tbody>\n",
       "</table>\n",
       "</div>"
      ],
      "text/plain": [
       "                  ticker       date  adj_close  adj_volume       ma5  \\\n",
       "ticker date                                                            \n",
       "WMT    2018-03-27    WMT 2018-03-27   2.335083   -0.723583  2.662739   \n",
       "       2018-03-26    WMT 2018-03-26   2.429726   -0.400966  2.691891   \n",
       "       2018-03-23    WMT 2018-03-23   2.293962   -0.239834  2.702580   \n",
       "       2018-03-22    WMT 2018-03-22   2.406228   -0.013422  2.757841   \n",
       "       2018-03-21    WMT 2018-03-21   2.474110    0.036850  2.799265   \n",
       "\n",
       "                   adj_closet1  \n",
       "ticker date                     \n",
       "WMT    2018-03-27          NaN  \n",
       "       2018-03-26     2.335083  \n",
       "       2018-03-23     2.429726  \n",
       "       2018-03-22     2.293962  \n",
       "       2018-03-21     2.406228  "
      ]
     },
     "execution_count": 97,
     "metadata": {},
     "output_type": "execute_result"
    }
   ],
   "source": [
    "data.head()"
   ]
  },
  {
   "cell_type": "code",
   "execution_count": 98,
   "metadata": {},
   "outputs": [],
   "source": [
    "# Y variable\n",
    "data[\"Y\"] = data.apply(lambda row: 1 if row[\"adj_close\"] < row[\"adj_closet1\"] else 0, axis=1)"
   ]
  },
  {
   "cell_type": "code",
   "execution_count": 99,
   "metadata": {},
   "outputs": [
    {
     "data": {
      "text/html": [
       "<div>\n",
       "<style scoped>\n",
       "    .dataframe tbody tr th:only-of-type {\n",
       "        vertical-align: middle;\n",
       "    }\n",
       "\n",
       "    .dataframe tbody tr th {\n",
       "        vertical-align: top;\n",
       "    }\n",
       "\n",
       "    .dataframe thead th {\n",
       "        text-align: right;\n",
       "    }\n",
       "</style>\n",
       "<table border=\"1\" class=\"dataframe\">\n",
       "  <thead>\n",
       "    <tr style=\"text-align: right;\">\n",
       "      <th></th>\n",
       "      <th></th>\n",
       "      <th>ticker</th>\n",
       "      <th>date</th>\n",
       "      <th>adj_close</th>\n",
       "      <th>adj_volume</th>\n",
       "      <th>ma5</th>\n",
       "      <th>adj_closet1</th>\n",
       "      <th>Y</th>\n",
       "    </tr>\n",
       "    <tr>\n",
       "      <th>ticker</th>\n",
       "      <th>date</th>\n",
       "      <th></th>\n",
       "      <th></th>\n",
       "      <th></th>\n",
       "      <th></th>\n",
       "      <th></th>\n",
       "      <th></th>\n",
       "      <th></th>\n",
       "    </tr>\n",
       "  </thead>\n",
       "  <tbody>\n",
       "    <tr>\n",
       "      <th rowspan=\"5\" valign=\"top\">WMT</th>\n",
       "      <th>2018-03-27</th>\n",
       "      <td>WMT</td>\n",
       "      <td>2018-03-27</td>\n",
       "      <td>2.335083</td>\n",
       "      <td>-0.723583</td>\n",
       "      <td>2.662739</td>\n",
       "      <td>NaN</td>\n",
       "      <td>0</td>\n",
       "    </tr>\n",
       "    <tr>\n",
       "      <th>2018-03-26</th>\n",
       "      <td>WMT</td>\n",
       "      <td>2018-03-26</td>\n",
       "      <td>2.429726</td>\n",
       "      <td>-0.400966</td>\n",
       "      <td>2.691891</td>\n",
       "      <td>2.335083</td>\n",
       "      <td>0</td>\n",
       "    </tr>\n",
       "    <tr>\n",
       "      <th>2018-03-23</th>\n",
       "      <td>WMT</td>\n",
       "      <td>2018-03-23</td>\n",
       "      <td>2.293962</td>\n",
       "      <td>-0.239834</td>\n",
       "      <td>2.702580</td>\n",
       "      <td>2.429726</td>\n",
       "      <td>1</td>\n",
       "    </tr>\n",
       "    <tr>\n",
       "      <th>2018-03-22</th>\n",
       "      <td>WMT</td>\n",
       "      <td>2018-03-22</td>\n",
       "      <td>2.406228</td>\n",
       "      <td>-0.013422</td>\n",
       "      <td>2.757841</td>\n",
       "      <td>2.293962</td>\n",
       "      <td>0</td>\n",
       "    </tr>\n",
       "    <tr>\n",
       "      <th>2018-03-21</th>\n",
       "      <td>WMT</td>\n",
       "      <td>2018-03-21</td>\n",
       "      <td>2.474110</td>\n",
       "      <td>0.036850</td>\n",
       "      <td>2.799265</td>\n",
       "      <td>2.406228</td>\n",
       "      <td>0</td>\n",
       "    </tr>\n",
       "  </tbody>\n",
       "</table>\n",
       "</div>"
      ],
      "text/plain": [
       "                  ticker       date  adj_close  adj_volume       ma5  \\\n",
       "ticker date                                                            \n",
       "WMT    2018-03-27    WMT 2018-03-27   2.335083   -0.723583  2.662739   \n",
       "       2018-03-26    WMT 2018-03-26   2.429726   -0.400966  2.691891   \n",
       "       2018-03-23    WMT 2018-03-23   2.293962   -0.239834  2.702580   \n",
       "       2018-03-22    WMT 2018-03-22   2.406228   -0.013422  2.757841   \n",
       "       2018-03-21    WMT 2018-03-21   2.474110    0.036850  2.799265   \n",
       "\n",
       "                   adj_closet1  Y  \n",
       "ticker date                        \n",
       "WMT    2018-03-27          NaN  0  \n",
       "       2018-03-26     2.335083  0  \n",
       "       2018-03-23     2.429726  1  \n",
       "       2018-03-22     2.293962  0  \n",
       "       2018-03-21     2.406228  0  "
      ]
     },
     "execution_count": 99,
     "metadata": {},
     "output_type": "execute_result"
    }
   ],
   "source": [
    "data.head()"
   ]
  },
  {
   "cell_type": "code",
   "execution_count": 101,
   "metadata": {},
   "outputs": [],
   "source": [
    "target = \"Y\"\n",
    "features = [\"adj_close\", \"adj_volume\", \"ma5\", \"macd\"]"
   ]
  },
  {
   "cell_type": "code",
   "execution_count": 111,
   "metadata": {},
   "outputs": [
    {
     "data": {
      "text/html": [
       "<div>\n",
       "<style scoped>\n",
       "    .dataframe tbody tr th:only-of-type {\n",
       "        vertical-align: middle;\n",
       "    }\n",
       "\n",
       "    .dataframe tbody tr th {\n",
       "        vertical-align: top;\n",
       "    }\n",
       "\n",
       "    .dataframe thead th {\n",
       "        text-align: right;\n",
       "    }\n",
       "</style>\n",
       "<table border=\"1\" class=\"dataframe\">\n",
       "  <thead>\n",
       "    <tr style=\"text-align: right;\">\n",
       "      <th></th>\n",
       "      <th></th>\n",
       "      <th>ticker</th>\n",
       "      <th>date</th>\n",
       "      <th>adj_close</th>\n",
       "      <th>adj_volume</th>\n",
       "      <th>ma5</th>\n",
       "      <th>adj_closet1</th>\n",
       "      <th>Y</th>\n",
       "    </tr>\n",
       "    <tr>\n",
       "      <th>ticker</th>\n",
       "      <th>date</th>\n",
       "      <th></th>\n",
       "      <th></th>\n",
       "      <th></th>\n",
       "      <th></th>\n",
       "      <th></th>\n",
       "      <th></th>\n",
       "      <th></th>\n",
       "    </tr>\n",
       "  </thead>\n",
       "  <tbody>\n",
       "    <tr>\n",
       "      <th rowspan=\"5\" valign=\"top\">WMT</th>\n",
       "      <th>2018-03-27</th>\n",
       "      <td>WMT</td>\n",
       "      <td>2018-03-27</td>\n",
       "      <td>2.335083</td>\n",
       "      <td>-0.723583</td>\n",
       "      <td>2.662739</td>\n",
       "      <td>NaN</td>\n",
       "      <td>0</td>\n",
       "    </tr>\n",
       "    <tr>\n",
       "      <th>2018-03-26</th>\n",
       "      <td>WMT</td>\n",
       "      <td>2018-03-26</td>\n",
       "      <td>2.429726</td>\n",
       "      <td>-0.400966</td>\n",
       "      <td>2.691891</td>\n",
       "      <td>2.335083</td>\n",
       "      <td>0</td>\n",
       "    </tr>\n",
       "    <tr>\n",
       "      <th>2018-03-23</th>\n",
       "      <td>WMT</td>\n",
       "      <td>2018-03-23</td>\n",
       "      <td>2.293962</td>\n",
       "      <td>-0.239834</td>\n",
       "      <td>2.702580</td>\n",
       "      <td>2.429726</td>\n",
       "      <td>1</td>\n",
       "    </tr>\n",
       "    <tr>\n",
       "      <th>2018-03-22</th>\n",
       "      <td>WMT</td>\n",
       "      <td>2018-03-22</td>\n",
       "      <td>2.406228</td>\n",
       "      <td>-0.013422</td>\n",
       "      <td>2.757841</td>\n",
       "      <td>2.293962</td>\n",
       "      <td>0</td>\n",
       "    </tr>\n",
       "    <tr>\n",
       "      <th>2018-03-21</th>\n",
       "      <td>WMT</td>\n",
       "      <td>2018-03-21</td>\n",
       "      <td>2.474110</td>\n",
       "      <td>0.036850</td>\n",
       "      <td>2.799265</td>\n",
       "      <td>2.406228</td>\n",
       "      <td>0</td>\n",
       "    </tr>\n",
       "  </tbody>\n",
       "</table>\n",
       "</div>"
      ],
      "text/plain": [
       "                  ticker       date  adj_close  adj_volume       ma5  \\\n",
       "ticker date                                                            \n",
       "WMT    2018-03-27    WMT 2018-03-27   2.335083   -0.723583  2.662739   \n",
       "       2018-03-26    WMT 2018-03-26   2.429726   -0.400966  2.691891   \n",
       "       2018-03-23    WMT 2018-03-23   2.293962   -0.239834  2.702580   \n",
       "       2018-03-22    WMT 2018-03-22   2.406228   -0.013422  2.757841   \n",
       "       2018-03-21    WMT 2018-03-21   2.474110    0.036850  2.799265   \n",
       "\n",
       "                   adj_closet1  Y  \n",
       "ticker date                        \n",
       "WMT    2018-03-27          NaN  0  \n",
       "       2018-03-26     2.335083  0  \n",
       "       2018-03-23     2.429726  1  \n",
       "       2018-03-22     2.293962  0  \n",
       "       2018-03-21     2.406228  0  "
      ]
     },
     "execution_count": 111,
     "metadata": {},
     "output_type": "execute_result"
    }
   ],
   "source": [
    "data.head()"
   ]
  },
  {
   "cell_type": "code",
   "execution_count": 125,
   "metadata": {},
   "outputs": [
    {
     "name": "stdout",
     "output_type": "stream",
     "text": [
      "                   adj_close  adj_volume       ma5\n",
      "ticker date                                       \n",
      "WMT    2010-12-10  -0.311935    0.088860 -0.045327\n",
      "       2010-12-09  -0.308653   -0.100387 -0.046200\n",
      "       2010-12-08  -0.300447    0.150616 -0.048703\n",
      "       2010-12-07  -0.284261    0.641098 -0.052536\n",
      "       2010-12-06  -0.316905   -0.402111 -0.054317 \n",
      " ticker  date      \n",
      "WMT     2010-12-10    0\n",
      "        2010-12-09    0\n",
      "        2010-12-08    0\n",
      "        2010-12-07    0\n",
      "        2010-12-06    1\n",
      "Name: Y, dtype: int64 \n",
      "                    adj_close  adj_volume       ma5\n",
      "ticker date                                       \n",
      "WMT    2018-03-26   2.429726   -0.400966  2.691891\n",
      "       2018-03-23   2.293962   -0.239834  2.702580\n",
      "       2018-03-22   2.406228   -0.013422  2.757841\n",
      "       2018-03-21   2.474110    0.036850  2.799265\n",
      "       2018-03-20   2.459098   -0.487271  2.829558 \n",
      " ticker  date      \n",
      "WMT     2018-03-26    0\n",
      "        2018-03-23    1\n",
      "        2018-03-22    0\n",
      "        2018-03-21    0\n",
      "        2018-03-20    1\n",
      "Name: Y, dtype: int64\n"
     ]
    }
   ],
   "source": [
    "# split training and testing set\n",
    "data = data.dropna()\n",
    "splitdays = data[\"date\"].groupby(data[\"ticker\"]).quantile(q=0.6)\n",
    "\n",
    "split = pd.merge(splitdays, data[[\"ticker\", \"date\"]], how=\"right\", left_index=True,right_index=True, suffixes=(\"_split\", \"\"))\n",
    "\n",
    "train_split = (split[\"date_split\"] >= split[\"date\"])\n",
    "X_train = data.loc[train_split, features]\n",
    "Y_train = data.loc[train_split, target]\n",
    "\n",
    "test_split = np.logical_not(train_split)\n",
    "X_test = data.loc[test_split, features]\n",
    "Y_test = data.loc[test_split, target]\n",
    "\n",
    "print(X_train.head(), '\\n', Y_train.head(),'\\n',  X_test.head(),'\\n',  Y_test.head())"
   ]
  },
  {
   "cell_type": "code",
   "execution_count": 128,
   "metadata": {},
   "outputs": [
    {
     "name": "stdout",
     "output_type": "stream",
     "text": [
      "1e-05\n",
      "0.0001\n",
      "0.001\n",
      "0.01\n",
      "0.1\n",
      "1.0\n",
      "10.0\n",
      "100.0\n",
      "1000.0\n",
      "10000.0\n",
      "100000.0\n"
     ]
    }
   ],
   "source": [
    "# logistics\n",
    "\n",
    "nfolds = 250\n",
    "Cs = np.logspace(-5, 5, 11)\n",
    "scaler = StandardScaler()\n",
    "\n",
    "logistic_results, logistic_coeffs = pd.DataFrame(), pd.DataFrame()\n",
    "for C in Cs:\n",
    "    print(C)\n",
    "    coeffs = []\n",
    "    log_reg = LogisticRegression(C=C, solver=\"lbfgs\")\n",
    "    \n",
    "    log_reg.fit(X=scaler.fit_transform(X_train), y=Y_train)\n",
    "    \n",
    "    Y_pred = log_reg.predict_proba(scaler.transform(X_test))[:, 1]\n",
    "    coeffs.append(log_reg.coef_.squeeze())\n",
    "    logistic_results = (logistic_results\n",
    "                        .append(Y_test\n",
    "                            .to_frame('actuals')\n",
    "                            .assign(predicted=Y_pred, C=C)))\n",
    "    \n",
    "    logistic_coeffs[C] = np.mean(coeffs, axis=0)\n",
    "    "
   ]
  },
  {
   "cell_type": "code",
   "execution_count": 198,
   "metadata": {},
   "outputs": [
    {
     "data": {
      "text/html": [
       "<div>\n",
       "<style scoped>\n",
       "    .dataframe tbody tr th:only-of-type {\n",
       "        vertical-align: middle;\n",
       "    }\n",
       "\n",
       "    .dataframe tbody tr th {\n",
       "        vertical-align: top;\n",
       "    }\n",
       "\n",
       "    .dataframe thead th {\n",
       "        text-align: right;\n",
       "    }\n",
       "</style>\n",
       "<table border=\"1\" class=\"dataframe\">\n",
       "  <thead>\n",
       "    <tr style=\"text-align: right;\">\n",
       "      <th></th>\n",
       "      <th>0.00001</th>\n",
       "      <th>0.00010</th>\n",
       "      <th>0.00100</th>\n",
       "      <th>0.01000</th>\n",
       "      <th>0.10000</th>\n",
       "      <th>1.00000</th>\n",
       "      <th>10.00000</th>\n",
       "      <th>100.00000</th>\n",
       "      <th>1000.00000</th>\n",
       "      <th>10000.00000</th>\n",
       "      <th>100000.00000</th>\n",
       "    </tr>\n",
       "  </thead>\n",
       "  <tbody>\n",
       "    <tr>\n",
       "      <th>0</th>\n",
       "      <td>-0.001240</td>\n",
       "      <td>-0.010589</td>\n",
       "      <td>-0.048528</td>\n",
       "      <td>-0.083752</td>\n",
       "      <td>-0.090955</td>\n",
       "      <td>-0.091754</td>\n",
       "      <td>-0.091835</td>\n",
       "      <td>-0.091843</td>\n",
       "      <td>-0.091844</td>\n",
       "      <td>-0.091844</td>\n",
       "      <td>-0.091844</td>\n",
       "    </tr>\n",
       "    <tr>\n",
       "      <th>1</th>\n",
       "      <td>0.000406</td>\n",
       "      <td>0.003580</td>\n",
       "      <td>0.015628</td>\n",
       "      <td>0.023167</td>\n",
       "      <td>0.024335</td>\n",
       "      <td>0.024459</td>\n",
       "      <td>0.024471</td>\n",
       "      <td>0.024472</td>\n",
       "      <td>0.024473</td>\n",
       "      <td>0.024473</td>\n",
       "      <td>0.024473</td>\n",
       "    </tr>\n",
       "    <tr>\n",
       "      <th>2</th>\n",
       "      <td>-0.000064</td>\n",
       "      <td>0.000343</td>\n",
       "      <td>0.015582</td>\n",
       "      <td>0.041113</td>\n",
       "      <td>0.047003</td>\n",
       "      <td>0.047666</td>\n",
       "      <td>0.047733</td>\n",
       "      <td>0.047740</td>\n",
       "      <td>0.047740</td>\n",
       "      <td>0.047740</td>\n",
       "      <td>0.047740</td>\n",
       "    </tr>\n",
       "  </tbody>\n",
       "</table>\n",
       "</div>"
      ],
      "text/plain": [
       "   0.00001       0.00010       0.00100       0.01000       0.10000       \\\n",
       "0     -0.001240     -0.010589     -0.048528     -0.083752     -0.090955   \n",
       "1      0.000406      0.003580      0.015628      0.023167      0.024335   \n",
       "2     -0.000064      0.000343      0.015582      0.041113      0.047003   \n",
       "\n",
       "   1.00000       10.00000      100.00000     1000.00000    10000.00000   \\\n",
       "0     -0.091754     -0.091835     -0.091843     -0.091844     -0.091844   \n",
       "1      0.024459      0.024471      0.024472      0.024473      0.024473   \n",
       "2      0.047666      0.047733      0.047740      0.047740      0.047740   \n",
       "\n",
       "   100000.00000  \n",
       "0     -0.091844  \n",
       "1      0.024473  \n",
       "2      0.047740  "
      ]
     },
     "execution_count": 198,
     "metadata": {},
     "output_type": "execute_result"
    }
   ],
   "source": [
    "logistic_coeffs"
   ]
  },
  {
   "cell_type": "code",
   "execution_count": 130,
   "metadata": {},
   "outputs": [
    {
     "data": {
      "text/plain": [
       "C\n",
       "0.00001         0.498574\n",
       "0.00010         0.498985\n",
       "0.00100         0.501824\n",
       "0.01000         0.503173\n",
       "0.10000         0.503478\n",
       "1.00000         0.503513\n",
       "10.00000        0.503519\n",
       "100.00000       0.503518\n",
       "1000.00000      0.503518\n",
       "10000.00000     0.503518\n",
       "100000.00000    0.503518\n",
       "dtype: float64"
      ]
     },
     "execution_count": 130,
     "metadata": {},
     "output_type": "execute_result"
    }
   ],
   "source": [
    "# evaluate\n",
    "auc_by_C = logistic_results.groupby('C').apply(lambda x: roc_auc_score(y_true=x.actuals.astype(int), \n",
    "                                                         y_score=x.predicted))\n",
    "\n",
    "auc_by_C"
   ]
  },
  {
   "cell_type": "code",
   "execution_count": 132,
   "metadata": {},
   "outputs": [],
   "source": [
    "base_auc = auc_by_C.iloc[-1]\n",
    "best_auc = auc_by_C.max()\n",
    "best_C = auc_by_C.idxmax()"
   ]
  },
  {
   "cell_type": "code",
   "execution_count": 135,
   "metadata": {},
   "outputs": [
    {
     "data": {
      "image/png": "[encoded data removed]",
      "text/plain": [
       "<Figure size 432x288 with 2 Axes>"
      ]
     },
     "metadata": {
      "needs_background": "light"
     },
     "output_type": "display_data"
    }
   ],
   "source": [
    "# plot\n",
    "fig, axes = plt.subplots(ncols=2, sharex=True)\n",
    "\n",
    "auc_by_C.sort_index(ascending=False).plot(logx=True, title='Area under the Curve (AUC)', ax=axes[0])\n",
    "axes[0].axhline(y=base_auc, c='black')\n",
    "axes[0].axvline(x=best_C, c='darkgrey', ls='--')\n",
    "axes[0].set_xlabel('Regularization')\n",
    "axes[0].set_ylabel('Information Coefficient')\n",
    "\n",
    "logistic_coeffs.T.sort_index(ascending=False).plot(legend=False, logx=True, title='Logistic Ridge Path', ax=axes[1])\n",
    "axes[1].set_xlabel('Regularization')\n",
    "axes[1].set_ylabel('Coefficients')\n",
    "axes[1].axvline(x=best_C, c='darkgrey', ls='--')\n",
    "fig.tight_layout();"
   ]
  },
  {
   "cell_type": "code",
   "execution_count": 142,
   "metadata": {},
   "outputs": [],
   "source": [
    "import warnings\n",
    "from numpy.random import choice, normal\n",
    "\n",
    "from sklearn.tree import DecisionTreeRegressor, DecisionTreeClassifier\n",
    "from sklearn.ensemble import RandomForestRegressor, RandomForestClassifier, BaggingClassifier, BaggingRegressor\n",
    "from sklearn.model_selection import train_test_split, cross_val_score, GridSearchCV, cross_val_score\n",
    "from sklearn.metrics import roc_auc_score, roc_curve, mean_squared_error, precision_recall_curve\n",
    "from sklearn.externals import joblib\n",
    "warnings.filterwarnings('ignore')"
   ]
  },
  {
   "cell_type": "code",
   "execution_count": 143,
   "metadata": {},
   "outputs": [],
   "source": [
    "plt.style.use('fivethirtyeight')\n",
    "np.random.seed(seed=42)"
   ]
  },
  {
   "cell_type": "code",
   "execution_count": 144,
   "metadata": {},
   "outputs": [
    {
     "name": "stdout",
     "output_type": "stream",
     "text": [
      "                   adj_close  adj_volume       ma5\n",
      "ticker date                                       \n",
      "WMT    2010-12-10  -0.311935    0.088860 -0.045327\n",
      "       2010-12-09  -0.308653   -0.100387 -0.046200\n",
      "       2010-12-08  -0.300447    0.150616 -0.048703\n",
      "       2010-12-07  -0.284261    0.641098 -0.052536\n",
      "       2010-12-06  -0.316905   -0.402111 -0.054317 \n",
      " ticker  date      \n",
      "WMT     2010-12-10    0\n",
      "        2010-12-09    0\n",
      "        2010-12-08    0\n",
      "        2010-12-07    0\n",
      "        2010-12-06    1\n",
      "Name: Y, dtype: int64 \n",
      "                    adj_close  adj_volume       ma5\n",
      "ticker date                                       \n",
      "WMT    2018-03-26   2.429726   -0.400966  2.691891\n",
      "       2018-03-23   2.293962   -0.239834  2.702580\n",
      "       2018-03-22   2.406228   -0.013422  2.757841\n",
      "       2018-03-21   2.474110    0.036850  2.799265\n",
      "       2018-03-20   2.459098   -0.487271  2.829558 \n",
      " ticker  date      \n",
      "WMT     2018-03-26    0\n",
      "        2018-03-23    1\n",
      "        2018-03-22    0\n",
      "        2018-03-21    0\n",
      "        2018-03-20    1\n",
      "Name: Y, dtype: int64\n"
     ]
    }
   ],
   "source": [
    "print(X_train.head(), '\\n', Y_train.head(),'\\n',  X_test.head(),'\\n',  Y_test.head())"
   ]
  },
  {
   "cell_type": "code",
   "execution_count": 179,
   "metadata": {},
   "outputs": [],
   "source": [
    "# K Fold\n",
    "class OneStepTimeSeriesSplit:\n",
    "    \"\"\"Generates tuples of train_idx, test_idx pairs\n",
    "    Assumes the index contains a level labeled 'date'\"\"\"\n",
    "\n",
    "    def __init__(self, n_splits=3, test_period_length=1, shuffle=False):\n",
    "        self.n_splits = n_splits\n",
    "        self.test_period_length = test_period_length\n",
    "        self.shuffle = shuffle\n",
    "\n",
    "    @staticmethod\n",
    "    def chunks(l, n):\n",
    "        for i in range(0, len(l), n):\n",
    "            yield l[i:i + n]\n",
    "\n",
    "    def split(self, X, y=None, groups=None):\n",
    "        unique_dates = (X.index\n",
    "                        .get_level_values('date')\n",
    "                        .unique()\n",
    "                        .sort_values(ascending=False)\n",
    "                        [:self.n_splits*self.test_period_length])\n",
    "\n",
    "\n",
    "        dates = X.reset_index()[['date']]\n",
    "\n",
    "        for test_date in self.chunks(unique_dates, self.test_period_length):\n",
    "            train_idx = dates[dates.date < min(test_date)].index\n",
    "            test_idx = dates[dates.date.isin(test_date)].index\n",
    "            if self.shuffle:\n",
    "                np.random.shuffle(list(train_idx))\n",
    "  \n",
    "            yield train_idx, test_idx\n",
    "\n",
    "    def get_n_splits(self, X, y, groups=None):\n",
    "        return self.n_splits"
   ]
  },
  {
   "cell_type": "code",
   "execution_count": null,
   "metadata": {},
   "outputs": [],
   "source": [
    "rf_clf = RandomForestClassifier(n_estimators=200,             # will change from 10 to 100 in version 0.22 \n",
    "                                criterion='gini', \n",
    "                                max_depth=None, \n",
    "                                min_samples_split=2, \n",
    "                                min_samples_leaf=1, \n",
    "                                min_weight_fraction_leaf=0.0, \n",
    "                                max_features='auto',\n",
    "                                max_leaf_nodes=None, \n",
    "                                min_impurity_decrease=0.0, \n",
    "                                min_impurity_split=None, \n",
    "                                bootstrap=True, \n",
    "                                oob_score=True, \n",
    "                                n_jobs=-1,\n",
    "                                random_state=42, \n",
    "                                verbose=1)"
   ]
  },
  {
   "cell_type": "code",
   "execution_count": 180,
   "metadata": {},
   "outputs": [],
   "source": [
    "cv = OneStepTimeSeriesSplit(n_splits=12, test_period_length=3, shuffle=True)"
   ]
  },
  {
   "cell_type": "code",
   "execution_count": 181,
   "metadata": {},
   "outputs": [
    {
     "name": "stdout",
     "output_type": "stream",
     "text": [
      "ticker  date      \n",
      "WMT     2010-12-10    0\n",
      "        2010-12-09    0\n",
      "        2010-12-08    0\n",
      "MSFT    2010-12-10    0\n",
      "        2010-12-09    1\n",
      "        2010-12-08    0\n",
      "AAPL    2010-12-09    1\n",
      "        2010-12-08    0\n",
      "Name: Y, dtype: int64\n",
      "ticker  date      \n",
      "WMT     2010-12-07    0\n",
      "        2010-12-06    1\n",
      "        2010-12-03    0\n",
      "MSFT    2010-12-07    1\n",
      "        2010-12-06    1\n",
      "        2010-12-03    0\n",
      "AAPL    2010-12-07    1\n",
      "        2010-12-06    0\n",
      "        2010-12-03    1\n",
      "Name: Y, dtype: int64\n",
      "ticker  date      \n",
      "WMT     2010-12-02    0\n",
      "        2010-12-01    1\n",
      "        2010-11-30    1\n",
      "MSFT    2010-12-02    1\n",
      "        2010-12-01    1\n",
      "        2010-11-30    1\n",
      "AAPL    2010-12-02    0\n",
      "        2010-12-01    1\n",
      "        2010-11-30    1\n",
      "Name: Y, dtype: int64\n",
      "ticker  date      \n",
      "WMT     2010-11-29    1\n",
      "        2010-11-26    1\n",
      "        2010-11-24    0\n",
      "MSFT    2010-11-29    0\n",
      "        2010-11-26    1\n",
      "        2010-11-24    0\n",
      "AAPL    2010-11-29    0\n",
      "        2010-11-26    1\n",
      "        2010-11-24    1\n",
      "Name: Y, dtype: int64\n",
      "ticker  date      \n",
      "WMT     2010-11-23    1\n",
      "        2010-11-22    0\n",
      "        2010-11-19    0\n",
      "MSFT    2010-11-23    1\n",
      "        2010-11-22    0\n",
      "        2010-11-19    1\n",
      "AAPL    2010-11-23    1\n",
      "        2010-11-22    0\n",
      "        2010-11-19    1\n",
      "Name: Y, dtype: int64\n",
      "ticker  date      \n",
      "WMT     2010-11-18    1\n",
      "        2010-11-17    1\n",
      "        2010-11-16    0\n",
      "MSFT    2010-11-18    0\n",
      "        2010-11-17    1\n",
      "        2010-11-16    0\n",
      "AAPL    2010-11-18    0\n",
      "        2010-11-17    1\n",
      "        2010-11-16    0\n",
      "Name: Y, dtype: int64\n",
      "ticker  date      \n",
      "WMT     2010-11-15    1\n",
      "        2010-11-12    0\n",
      "        2010-11-11    0\n",
      "MSFT    2010-11-15    0\n",
      "        2010-11-12    0\n",
      "        2010-11-11    0\n",
      "AAPL    2010-11-15    0\n",
      "        2010-11-12    0\n",
      "        2010-11-11    0\n",
      "Name: Y, dtype: int64\n",
      "ticker  date      \n",
      "WMT     2010-11-10    0\n",
      "        2010-11-09    0\n",
      "        2010-11-08    1\n",
      "MSFT    2010-11-10    0\n",
      "        2010-11-09    0\n",
      "        2010-11-08    1\n",
      "AAPL    2010-11-10    0\n",
      "        2010-11-09    1\n",
      "        2010-11-08    0\n",
      "Name: Y, dtype: int64\n",
      "ticker  date      \n",
      "WMT     2010-11-05    0\n",
      "        2010-11-04    0\n",
      "        2010-11-03    1\n",
      "MSFT    2010-11-05    0\n",
      "        2010-11-04    0\n",
      "        2010-11-03    1\n",
      "AAPL    2010-11-05    1\n",
      "        2010-11-04    0\n",
      "        2010-11-03    1\n",
      "Name: Y, dtype: int64\n",
      "ticker  date      \n",
      "WMT     2010-11-02    1\n",
      "        2010-11-01    1\n",
      "        2010-10-29    1\n",
      "MSFT    2010-11-02    0\n",
      "        2010-11-01    1\n",
      "        2010-10-29    1\n",
      "AAPL    2010-11-02    1\n",
      "        2010-11-01    1\n",
      "        2010-10-29    1\n",
      "Name: Y, dtype: int64\n",
      "ticker  date      \n",
      "WMT     2010-10-28    1\n",
      "        2010-10-27    1\n",
      "        2010-10-26    0\n",
      "MSFT    2010-10-28    1\n",
      "        2010-10-27    1\n",
      "        2010-10-26    1\n",
      "AAPL    2010-10-28    0\n",
      "        2010-10-27    0\n",
      "        2010-10-26    0\n",
      "Name: Y, dtype: int64\n",
      "ticker  date      \n",
      "WMT     2010-10-25    1\n",
      "        2010-10-22    0\n",
      "        2010-10-21    1\n",
      "MSFT    2010-10-25    1\n",
      "        2010-10-22    0\n",
      "        2010-10-21    0\n",
      "AAPL    2010-10-25    0\n",
      "        2010-10-22    1\n",
      "        2010-10-21    0\n",
      "Name: Y, dtype: int64\n"
     ]
    }
   ],
   "source": [
    "for x, y in cv.split(X_train, Y_train):\n",
    "    print(Y_train.iloc[y])"
   ]
  },
  {
   "cell_type": "code",
   "execution_count": 184,
   "metadata": {},
   "outputs": [
    {
     "name": "stderr",
     "output_type": "stream",
     "text": [
      "[Parallel(n_jobs=-1)]: Using backend LokyBackend with 2 concurrent workers.\n",
      "[Parallel(n_jobs=-1)]: Done  12 out of  12 | elapsed:   30.6s finished\n"
     ]
    }
   ],
   "source": [
    "cv_score = cross_val_score(estimator=rf_clf,\n",
    "                           X=X_train,\n",
    "                           y=Y_train,\n",
    "                           scoring='roc_auc',\n",
    "                           cv=cv,\n",
    "                           n_jobs=-1,\n",
    "                           verbose=1)"
   ]
  },
  {
   "cell_type": "code",
   "execution_count": 185,
   "metadata": {},
   "outputs": [
    {
     "data": {
      "text/plain": [
       "0.5594246031746032"
      ]
     },
     "execution_count": 185,
     "metadata": {},
     "output_type": "execute_result"
    }
   ],
   "source": [
    "np.mean(cv_score)"
   ]
  },
  {
   "cell_type": "code",
   "execution_count": 187,
   "metadata": {},
   "outputs": [],
   "source": [
    "# define parameters grid\n",
    "param_grid = {'n_estimators': [200, 400],\n",
    "              'max_depth': [10, 15, 20],\n",
    "              'min_samples_leaf': [50, 100],\n",
    "              }"
   ]
  },
  {
   "cell_type": "code",
   "execution_count": 188,
   "metadata": {},
   "outputs": [],
   "source": [
    "gridsearch_clf = GridSearchCV(estimator=rf_clf,\n",
    "                              param_grid=param_grid,\n",
    "                              scoring='roc_auc',\n",
    "                              n_jobs=-1,\n",
    "                              cv=cv,\n",
    "                              refit=True,\n",
    "                              return_train_score=True,\n",
    "                              verbose=1)"
   ]
  },
  {
   "cell_type": "code",
   "execution_count": 189,
   "metadata": {},
   "outputs": [
    {
     "name": "stdout",
     "output_type": "stream",
     "text": [
      "Fitting 12 folds for each of 12 candidates, totalling 144 fits\n"
     ]
    },
    {
     "name": "stderr",
     "output_type": "stream",
     "text": [
      "[Parallel(n_jobs=-1)]: Using backend LokyBackend with 2 concurrent workers.\n",
      "[Parallel(n_jobs=-1)]: Done  46 tasks      | elapsed:  1.5min\n",
      "[Parallel(n_jobs=-1)]: Done 144 out of 144 | elapsed:  4.8min finished\n",
      "[Parallel(n_jobs=-1)]: Using backend ThreadingBackend with 2 concurrent workers.\n",
      "[Parallel(n_jobs=-1)]: Done  46 tasks      | elapsed:    0.3s\n",
      "[Parallel(n_jobs=-1)]: Done 196 tasks      | elapsed:    1.0s\n",
      "[Parallel(n_jobs=-1)]: Done 200 out of 200 | elapsed:    1.1s finished\n"
     ]
    },
    {
     "data": {
      "text/plain": [
       "GridSearchCV(cv=<__main__.OneStepTimeSeriesSplit object at 0x7fc3c9fd68d0>,\n",
       "             error_score='raise-deprecating',\n",
       "             estimator=RandomForestClassifier(bootstrap=True, class_weight=None,\n",
       "                                              criterion='gini', max_depth=None,\n",
       "                                              max_features='auto',\n",
       "                                              max_leaf_nodes=None,\n",
       "                                              min_impurity_decrease=0.0,\n",
       "                                              min_impurity_split=None,\n",
       "                                              min_samples_leaf=1,\n",
       "                                              min_samples_split=2,\n",
       "                                              min_weight_fraction_leaf=0.0,\n",
       "                                              n_estimators=200, n_jobs=-1,\n",
       "                                              oob_score=True, random_state=42,\n",
       "                                              verbose=1, warm_start=False),\n",
       "             iid='warn', n_jobs=-1,\n",
       "             param_grid={'max_depth': [10, 15, 20],\n",
       "                         'min_samples_leaf': [50, 100],\n",
       "                         'n_estimators': [200, 400]},\n",
       "             pre_dispatch='2*n_jobs', refit=True, return_train_score=True,\n",
       "             scoring='roc_auc', verbose=1)"
      ]
     },
     "execution_count": 189,
     "metadata": {},
     "output_type": "execute_result"
    }
   ],
   "source": [
    "gridsearch_clf.fit(X=X_train, y=Y_train)"
   ]
  },
  {
   "cell_type": "code",
   "execution_count": 190,
   "metadata": {},
   "outputs": [
    {
     "data": {
      "text/plain": [
       "['gridsearch_clf.joblib']"
      ]
     },
     "execution_count": 190,
     "metadata": {},
     "output_type": "execute_result"
    }
   ],
   "source": [
    "joblib.dump(gridsearch_clf, 'gridsearch_clf.joblib')"
   ]
  },
  {
   "cell_type": "code",
   "execution_count": 191,
   "metadata": {},
   "outputs": [
    {
     "data": {
      "text/plain": [
       "{'max_depth': 10, 'min_samples_leaf': 50, 'n_estimators': 200}"
      ]
     },
     "execution_count": 191,
     "metadata": {},
     "output_type": "execute_result"
    }
   ],
   "source": [
    "gridsearch_clf.best_params_"
   ]
  },
  {
   "cell_type": "code",
   "execution_count": 196,
   "metadata": {},
   "outputs": [
    {
     "data": {
      "text/plain": [
       "0.5150645304850913"
      ]
     },
     "execution_count": 196,
     "metadata": {},
     "output_type": "execute_result"
    }
   ],
   "source": [
    "gridsearch_clf.best_score_"
   ]
  },
  {
   "cell_type": "code",
   "execution_count": 194,
   "metadata": {},
   "outputs": [
    {
     "data": {
      "text/plain": [
       "<matplotlib.axes._subplots.AxesSubplot at 0x7fc3c9f86748>"
      ]
     },
     "execution_count": 194,
     "metadata": {},
     "output_type": "execute_result"
    },
    {
     "data": {
      "image/png": "[encoded data removed]",
      "text/plain": [
       "<Figure size 432x288 with 1 Axes>"
      ]
     },
     "metadata": {},
     "output_type": "display_data"
    }
   ],
   "source": [
    "(pd.Series(gridsearch_clf.best_estimator_.feature_importances_, \n",
    "           index=X_train.columns)\n",
    " .sort_values(ascending=False)\n",
    " .iloc[:20]\n",
    " .sort_values()\n",
    " .plot.barh())"
   ]
  },
  {
   "cell_type": "code",
   "execution_count": 206,
   "metadata": {},
   "outputs": [
    {
     "data": {
      "text/plain": [
       "True"
      ]
     },
     "execution_count": 206,
     "metadata": {},
     "output_type": "execute_result"
    }
   ],
   "source": [
    "\"0, 0\" in str([0, 0, 1])"
   ]
  }
 ],
 "metadata": {
  "kernelspec": {
   "display_name": "Python 3",
   "language": "python",
   "name": "python3"
  },
  "language_info": {
   "codemirror_mode": {
    "name": "ipython",
    "version": 3
   },
   "file_extension": ".py",
   "mimetype": "text/x-python",
   "name": "python",
   "nbconvert_exporter": "python",
   "pygments_lexer": "ipython3",
   "version": "3.6.8"
  }
 },
 "nbformat": 4,
 "nbformat_minor": 4
}

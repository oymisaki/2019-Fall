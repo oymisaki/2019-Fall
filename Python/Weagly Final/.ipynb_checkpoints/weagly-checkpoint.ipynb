{
 "cells": [
  {
   "cell_type": "code",
   "execution_count": 1,
   "metadata": {},
   "outputs": [],
   "source": [
    "import sys\n",
    "sys.path.append(\"./lib64/python3.6/site-packages\")"
   ]
  },
  {
   "cell_type": "code",
   "execution_count": 1,
   "metadata": {},
   "outputs": [],
   "source": [
    "import pandas as pd\n",
    "import numpy as np\n",
    "from sklearn.linear_model import LinearRegression\n",
    "from sklearn.linear_model import LassoCV, Lasso\n",
    "from sklearn.ensemble import RandomForestRegressor"
   ]
  },
  {
   "cell_type": "code",
   "execution_count": 2,
   "metadata": {},
   "outputs": [
    {
     "data": {
      "text/html": [
       "<div>\n",
       "<style scoped>\n",
       "    .dataframe tbody tr th:only-of-type {\n",
       "        vertical-align: middle;\n",
       "    }\n",
       "\n",
       "    .dataframe tbody tr th {\n",
       "        vertical-align: top;\n",
       "    }\n",
       "\n",
       "    .dataframe thead th {\n",
       "        text-align: right;\n",
       "    }\n",
       "</style>\n",
       "<table border=\"1\" class=\"dataframe\">\n",
       "  <thead>\n",
       "    <tr style=\"text-align: right;\">\n",
       "      <th></th>\n",
       "      <th>0</th>\n",
       "      <th>1</th>\n",
       "    </tr>\n",
       "  </thead>\n",
       "  <tbody>\n",
       "    <tr>\n",
       "      <th>0</th>\n",
       "      <td>1</td>\n",
       "      <td>2</td>\n",
       "    </tr>\n",
       "    <tr>\n",
       "      <th>1</th>\n",
       "      <td>3</td>\n",
       "      <td>4</td>\n",
       "    </tr>\n",
       "  </tbody>\n",
       "</table>\n",
       "</div>"
      ],
      "text/plain": [
       "   0  1\n",
       "0  1  2\n",
       "1  3  4"
      ]
     },
     "execution_count": 2,
     "metadata": {},
     "output_type": "execute_result"
    }
   ],
   "source": [
    "a = pd.DataFrame()\n",
    "a.append(pd.DataFrame([[1, 2], [3, 4]]))"
   ]
  },
  {
   "cell_type": "code",
   "execution_count": 3,
   "metadata": {},
   "outputs": [],
   "source": [
    "data = pd.read_csv('data/student_data.csv')"
   ]
  },
  {
   "cell_type": "code",
   "execution_count": 8,
   "metadata": {},
   "outputs": [
    {
     "data": {
      "text/plain": [
       "0    1998-07-01\n",
       "dtype: object"
      ]
     },
     "execution_count": 8,
     "metadata": {},
     "output_type": "execute_result"
    }
   ],
   "source": [
    "pd.Series(pd.to_datetime(['19980701'])).apply(lambda x: x.strftime('%Y-%m-%d'))"
   ]
  },
  {
   "cell_type": "code",
   "execution_count": 4,
   "metadata": {},
   "outputs": [
    {
     "data": {
      "text/html": [
       "<div>\n",
       "<style scoped>\n",
       "    .dataframe tbody tr th:only-of-type {\n",
       "        vertical-align: middle;\n",
       "    }\n",
       "\n",
       "    .dataframe tbody tr th {\n",
       "        vertical-align: top;\n",
       "    }\n",
       "\n",
       "    .dataframe thead th {\n",
       "        text-align: right;\n",
       "    }\n",
       "</style>\n",
       "<table border=\"1\" class=\"dataframe\">\n",
       "  <thead>\n",
       "    <tr style=\"text-align: right;\">\n",
       "      <th></th>\n",
       "      <th>Unnamed: 0</th>\n",
       "      <th>date</th>\n",
       "      <th>PERMNO</th>\n",
       "      <th>gvkey</th>\n",
       "      <th>COMNAM</th>\n",
       "      <th>CUSIP</th>\n",
       "      <th>SICCD</th>\n",
       "      <th>TICKER</th>\n",
       "      <th>PRC</th>\n",
       "      <th>SHROUT</th>\n",
       "      <th>...</th>\n",
       "      <th>xidoq_MA4</th>\n",
       "      <th>doq_MA4</th>\n",
       "      <th>nopiq_MA4</th>\n",
       "      <th>ibq_MA4</th>\n",
       "      <th>txtq_MA4</th>\n",
       "      <th>niq_MA4</th>\n",
       "      <th>cheq_MA4</th>\n",
       "      <th>saleq_MA4</th>\n",
       "      <th>dvy_MA4</th>\n",
       "      <th>piq_MA4</th>\n",
       "    </tr>\n",
       "  </thead>\n",
       "  <tbody>\n",
       "    <tr>\n",
       "      <th>0</th>\n",
       "      <td>0</td>\n",
       "      <td>19870331</td>\n",
       "      <td>54594.0</td>\n",
       "      <td>1004.0</td>\n",
       "      <td>A A R CORP</td>\n",
       "      <td>00036110</td>\n",
       "      <td>3662.0</td>\n",
       "      <td>AIR</td>\n",
       "      <td>33.50</td>\n",
       "      <td>9099.0</td>\n",
       "      <td>...</td>\n",
       "      <td>0.0</td>\n",
       "      <td>0.0</td>\n",
       "      <td>0.44225</td>\n",
       "      <td>3.56150</td>\n",
       "      <td>2.85750</td>\n",
       "      <td>3.56150</td>\n",
       "      <td>3.78525</td>\n",
       "      <td>70.67700</td>\n",
       "      <td>2.58625</td>\n",
       "      <td>6.41900</td>\n",
       "    </tr>\n",
       "    <tr>\n",
       "      <th>1</th>\n",
       "      <td>1</td>\n",
       "      <td>19870331</td>\n",
       "      <td>47642.0</td>\n",
       "      <td>2346.0</td>\n",
       "      <td>BOWNE &amp; CO INC</td>\n",
       "      <td>10304310</td>\n",
       "      <td>2751.0</td>\n",
       "      <td>BNE</td>\n",
       "      <td>38.25</td>\n",
       "      <td>9158.0</td>\n",
       "      <td>...</td>\n",
       "      <td>0.0</td>\n",
       "      <td>0.0</td>\n",
       "      <td>0.66500</td>\n",
       "      <td>5.48775</td>\n",
       "      <td>5.37000</td>\n",
       "      <td>5.48775</td>\n",
       "      <td>26.73400</td>\n",
       "      <td>48.04150</td>\n",
       "      <td>2.54975</td>\n",
       "      <td>11.11825</td>\n",
       "    </tr>\n",
       "    <tr>\n",
       "      <th>2</th>\n",
       "      <td>2</td>\n",
       "      <td>19870331</td>\n",
       "      <td>14816.0</td>\n",
       "      <td>10609.0</td>\n",
       "      <td>TOOTSIE ROLL INDS INC</td>\n",
       "      <td>89051610</td>\n",
       "      <td>2065.0</td>\n",
       "      <td>TR</td>\n",
       "      <td>61.25</td>\n",
       "      <td>4418.0</td>\n",
       "      <td>...</td>\n",
       "      <td>0.0</td>\n",
       "      <td>0.0</td>\n",
       "      <td>0.37900</td>\n",
       "      <td>3.20050</td>\n",
       "      <td>3.22475</td>\n",
       "      <td>3.20050</td>\n",
       "      <td>25.79550</td>\n",
       "      <td>27.85075</td>\n",
       "      <td>1.06600</td>\n",
       "      <td>6.42525</td>\n",
       "    </tr>\n",
       "    <tr>\n",
       "      <th>3</th>\n",
       "      <td>3</td>\n",
       "      <td>19870331</td>\n",
       "      <td>60580.0</td>\n",
       "      <td>10618.0</td>\n",
       "      <td>TORO COMPANY</td>\n",
       "      <td>89109210</td>\n",
       "      <td>3524.0</td>\n",
       "      <td>TTC</td>\n",
       "      <td>31.00</td>\n",
       "      <td>6633.0</td>\n",
       "      <td>...</td>\n",
       "      <td>0.0</td>\n",
       "      <td>0.0</td>\n",
       "      <td>-0.10925</td>\n",
       "      <td>4.20075</td>\n",
       "      <td>2.67900</td>\n",
       "      <td>4.20075</td>\n",
       "      <td>7.61300</td>\n",
       "      <td>112.99875</td>\n",
       "      <td>2.64300</td>\n",
       "      <td>6.87975</td>\n",
       "    </tr>\n",
       "    <tr>\n",
       "      <th>4</th>\n",
       "      <td>4</td>\n",
       "      <td>19870331</td>\n",
       "      <td>76639.0</td>\n",
       "      <td>10631.0</td>\n",
       "      <td>TOTAL SYSTEMS SERVICES INC</td>\n",
       "      <td>89190610</td>\n",
       "      <td>7374.0</td>\n",
       "      <td>TSYS</td>\n",
       "      <td>26.00</td>\n",
       "      <td>15916.0</td>\n",
       "      <td>...</td>\n",
       "      <td>0.0</td>\n",
       "      <td>0.0</td>\n",
       "      <td>0.06650</td>\n",
       "      <td>1.30950</td>\n",
       "      <td>1.29375</td>\n",
       "      <td>1.30950</td>\n",
       "      <td>4.86050</td>\n",
       "      <td>9.08825</td>\n",
       "      <td>0.00000</td>\n",
       "      <td>2.60325</td>\n",
       "    </tr>\n",
       "  </tbody>\n",
       "</table>\n",
       "<p>5 rows × 40 columns</p>\n",
       "</div>"
      ],
      "text/plain": [
       "   Unnamed: 0      date   PERMNO    gvkey                      COMNAM  \\\n",
       "0           0  19870331  54594.0   1004.0                  A A R CORP   \n",
       "1           1  19870331  47642.0   2346.0              BOWNE & CO INC   \n",
       "2           2  19870331  14816.0  10609.0       TOOTSIE ROLL INDS INC   \n",
       "3           3  19870331  60580.0  10618.0                TORO COMPANY   \n",
       "4           4  19870331  76639.0  10631.0  TOTAL SYSTEMS SERVICES INC   \n",
       "\n",
       "      CUSIP   SICCD TICKER    PRC   SHROUT  ... xidoq_MA4  doq_MA4  nopiq_MA4  \\\n",
       "0  00036110  3662.0    AIR  33.50   9099.0  ...       0.0      0.0    0.44225   \n",
       "1  10304310  2751.0    BNE  38.25   9158.0  ...       0.0      0.0    0.66500   \n",
       "2  89051610  2065.0     TR  61.25   4418.0  ...       0.0      0.0    0.37900   \n",
       "3  89109210  3524.0    TTC  31.00   6633.0  ...       0.0      0.0   -0.10925   \n",
       "4  89190610  7374.0   TSYS  26.00  15916.0  ...       0.0      0.0    0.06650   \n",
       "\n",
       "   ibq_MA4  txtq_MA4  niq_MA4  cheq_MA4  saleq_MA4  dvy_MA4   piq_MA4  \n",
       "0  3.56150   2.85750  3.56150   3.78525   70.67700  2.58625   6.41900  \n",
       "1  5.48775   5.37000  5.48775  26.73400   48.04150  2.54975  11.11825  \n",
       "2  3.20050   3.22475  3.20050  25.79550   27.85075  1.06600   6.42525  \n",
       "3  4.20075   2.67900  4.20075   7.61300  112.99875  2.64300   6.87975  \n",
       "4  1.30950   1.29375  1.30950   4.86050    9.08825  0.00000   2.60325  \n",
       "\n",
       "[5 rows x 40 columns]"
      ]
     },
     "execution_count": 4,
     "metadata": {},
     "output_type": "execute_result"
    }
   ],
   "source": [
    "data.head()"
   ]
  },
  {
   "cell_type": "code",
   "execution_count": 8,
   "metadata": {},
   "outputs": [],
   "source": [
    "data['MktVal'] = data['PRC'] * data['SHROUT'] "
   ]
  },
  {
   "cell_type": "code",
   "execution_count": 9,
   "metadata": {},
   "outputs": [],
   "source": [
    "Y = 'MktVal'\n",
    "features = ['atq', 'dvpq', 'seqq', 'icaptq', 'pstkq', 'ppentq', \n",
    "            'ceqq', 'pstkrq', 'dlttq', 'aoq', 'ltq', 'loq', 'acoq', \n",
    "            'lcoq', 'apq', 'ibadjq_MA4', 'ibcomq_MA4', 'xidoq_MA4', \n",
    "            'doq_MA4', 'nopiq_MA4', 'ibq_MA4', 'txtq_MA4', 'niq_MA4', \n",
    "            'cheq_MA4', 'saleq_MA4', 'dvy_MA4', 'piq_MA4']\n"
   ]
  },
  {
   "cell_type": "code",
   "execution_count": 11,
   "metadata": {},
   "outputs": [],
   "source": [
    "# OLS\n",
    "X, y = data[features], data[Y]\n",
    "reg = LinearRegression().fit(X, y)"
   ]
  },
  {
   "cell_type": "code",
   "execution_count": 14,
   "metadata": {},
   "outputs": [],
   "source": [
    "SignalOLS = (reg.predict(data[features]) - data[Y]) / data[Y]\n",
    "data['SignalOLS'] = SignalOLS"
   ]
  },
  {
   "cell_type": "code",
   "execution_count": 17,
   "metadata": {},
   "outputs": [
    {
     "ename": "NameError",
     "evalue": "name 'lasso' is not defined",
     "output_type": "error",
     "traceback": [
      "\u001b[0;31m---------------------------------------------------------------------------\u001b[0m",
      "\u001b[0;31mNameError\u001b[0m                                 Traceback (most recent call last)",
      "\u001b[0;32m<ipython-input-17-95f8a6f47651>\u001b[0m in \u001b[0;36m<module>\u001b[0;34m\u001b[0m\n\u001b[1;32m      4\u001b[0m \u001b[0mlassocv\u001b[0m\u001b[0;34m.\u001b[0m\u001b[0mfit\u001b[0m\u001b[0;34m(\u001b[0m\u001b[0mX\u001b[0m\u001b[0;34m,\u001b[0m \u001b[0my\u001b[0m\u001b[0;34m)\u001b[0m\u001b[0;34m\u001b[0m\u001b[0;34m\u001b[0m\u001b[0m\n\u001b[1;32m      5\u001b[0m \u001b[0;34m\u001b[0m\u001b[0m\n\u001b[0;32m----> 6\u001b[0;31m \u001b[0mlasso\u001b[0m\u001b[0;34m.\u001b[0m\u001b[0mset_params\u001b[0m\u001b[0;34m(\u001b[0m\u001b[0malpha\u001b[0m\u001b[0;34m=\u001b[0m\u001b[0mlassocv\u001b[0m\u001b[0;34m.\u001b[0m\u001b[0malpha_\u001b[0m\u001b[0;34m)\u001b[0m\u001b[0;34m\u001b[0m\u001b[0;34m\u001b[0m\u001b[0m\n\u001b[0m\u001b[1;32m      7\u001b[0m \u001b[0mlasso\u001b[0m\u001b[0;34m.\u001b[0m\u001b[0mfit\u001b[0m\u001b[0;34m(\u001b[0m\u001b[0mX\u001b[0m\u001b[0;34m,\u001b[0m \u001b[0my\u001b[0m\u001b[0;34m)\u001b[0m\u001b[0;34m\u001b[0m\u001b[0;34m\u001b[0m\u001b[0m\n",
      "\u001b[0;31mNameError\u001b[0m: name 'lasso' is not defined"
     ]
    }
   ],
   "source": [
    "# Lasso\n",
    "X, y = data[features], data[Y]\n",
    "lassocv = LassoCV(alphas = None, cv = 10, max_iter = 100000, normalize = True)\n",
    "lassocv.fit(X, y)"
   ]
  },
  {
   "cell_type": "code",
   "execution_count": 19,
   "metadata": {},
   "outputs": [
    {
     "data": {
      "text/plain": [
       "Lasso(alpha=53.22725492532125, copy_X=True, fit_intercept=True, max_iter=10000,\n",
       "      normalize=True, positive=False, precompute=False, random_state=None,\n",
       "      selection='cyclic', tol=0.0001, warm_start=False)"
      ]
     },
     "execution_count": 19,
     "metadata": {},
     "output_type": "execute_result"
    }
   ],
   "source": [
    "lasso = Lasso(max_iter = 10000, normalize = True)\n",
    "lasso.set_params(alpha=lassocv.alpha_)\n",
    "lasso.fit(X, y)"
   ]
  },
  {
   "cell_type": "code",
   "execution_count": 20,
   "metadata": {},
   "outputs": [],
   "source": [
    "coefs = pd.Series(lasso.coef_, index=X.columns)\n",
    "selected_features = list(coefs[coefs != 0].index)"
   ]
  },
  {
   "cell_type": "code",
   "execution_count": 21,
   "metadata": {},
   "outputs": [
    {
     "data": {
      "text/plain": [
       "['atq',\n",
       " 'dvpq',\n",
       " 'pstkq',\n",
       " 'ppentq',\n",
       " 'ceqq',\n",
       " 'pstkrq',\n",
       " 'dlttq',\n",
       " 'acoq',\n",
       " 'lcoq',\n",
       " 'apq',\n",
       " 'ibadjq_MA4',\n",
       " 'ibcomq_MA4',\n",
       " 'nopiq_MA4',\n",
       " 'txtq_MA4',\n",
       " 'niq_MA4',\n",
       " 'cheq_MA4',\n",
       " 'saleq_MA4',\n",
       " 'dvy_MA4',\n",
       " 'piq_MA4']"
      ]
     },
     "execution_count": 21,
     "metadata": {},
     "output_type": "execute_result"
    }
   ],
   "source": [
    "selected_features"
   ]
  },
  {
   "cell_type": "code",
   "execution_count": 22,
   "metadata": {},
   "outputs": [],
   "source": [
    "X, y = data[selected_features], data[Y]\n",
    "reg = LinearRegression().fit(X, y)"
   ]
  },
  {
   "cell_type": "code",
   "execution_count": 24,
   "metadata": {},
   "outputs": [],
   "source": [
    "SignalLasso = (reg.predict(data[selected_features]) - data[Y]) / data[Y]\n",
    "data['SignalLasso'] = SignalLasso"
   ]
  },
  {
   "cell_type": "code",
   "execution_count": null,
   "metadata": {},
   "outputs": [],
   "source": [
    "# Random Forests\n",
    "X, y = data[selected_features], data[Y]\n",
    "rf_reg = RandomForestRegressor(n_estimators = 1000, random_state = 42, min_samples_leaf=20)\n",
    "rf_reg.fit(X, y)"
   ]
  },
  {
   "cell_type": "code",
   "execution_count": null,
   "metadata": {},
   "outputs": [],
   "source": [
    "SignalRF = (rf_reg.predict(data[selected_features]) - data[Y]) / data[Y]\n",
    "data['SignalRF'] = SignalRF"
   ]
  },
  {
   "cell_type": "code",
   "execution_count": null,
   "metadata": {},
   "outputs": [],
   "source": [
    "# generate portfolios\n",
    "\n",
    "data = pd.read_csv('out/signals.csv')\n",
    "\n",
    "ret_df = data.set_index(['date', 'PERMNO'])['next_Ret'].unstack()\n",
    "ret_df.index = pd.to_datetime(ret_df.index)\n",
    "ret_df.sort_index(inplace=True)\n",
    "\n",
    "portfolio_ret = {}\n",
    "\n",
    "for signal in ['SignalOLS', 'SignalLasso', 'SignalRF']:\n",
    "    signal_df = data.set_index(['date', 'PERMNO'])[signal].unstack()\n",
    "    signal_df.index = pd.to_datetime(signal_df.index)\n",
    "    signal_df.sort_index(inplace=True)\n",
    "\n",
    "    res = []\n",
    "\n",
    "    for date in ret_df.index:\n",
    "        EWR, SWR = 'EWR', 'SWR'\n",
    "        row = {EWR: np.nan, SWR: np.nan}\n",
    "\n",
    "        pool = signal_df.loc[date, :].sort_values()\n",
    "        q1 = pool.iloc[int(0.8 * len(pool)):].index\n",
    "        q5 = pool.iloc[:int(0.2 * len(pool))].index\n",
    "\n",
    "        row[EWR] = (ret_df.loc[date, q5] - ret_df.loc[date, q1]).mean()\n",
    "\n",
    "        wq1 = signal_df.loc[date, q1] / signal_df.loc[date, q1].sum()\n",
    "        wq5 = signal_df.loc[date, q5] / signal_df.loc[date, q5].sum()\n",
    "\n",
    "        row[SWR] = (ret_df.loc[date, q5] * wq5 -\n",
    "                    ret_df.loc[date, q1] * wq1).mean()\n",
    "\n",
    "        res.append(row)\n",
    "\n",
    "    portfolio_ret[signal] = pd.DataFrame(res, index=ret_df.index).fillna(0)"
   ]
  }
 ],
 "metadata": {
  "kernelspec": {
   "display_name": "Python 3",
   "language": "python",
   "name": "python3"
  },
  "language_info": {
   "codemirror_mode": {
    "name": "ipython",
    "version": 3
   },
   "file_extension": ".py",
   "mimetype": "text/x-python",
   "name": "python",
   "nbconvert_exporter": "python",
   "pygments_lexer": "ipython3",
   "version": "3.6.8"
  }
 },
 "nbformat": 4,
 "nbformat_minor": 4
}
